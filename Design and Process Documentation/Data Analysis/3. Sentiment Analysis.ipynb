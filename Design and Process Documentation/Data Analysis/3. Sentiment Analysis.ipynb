{
 "cells": [
  {
   "cell_type": "markdown",
   "id": "a0e76720",
   "metadata": {},
   "source": [
    "## How are people feeling about AI and its impact in the workplace?\n",
    "### Analysing the cleaned text and performing sentiment analysis.\n",
    "<hr>\n",
    "After crawling through relevant websites, I have built a CSV containing the different articles/ PDFs I would like to \n",
    "analyse. In this stage, I will tokenize the content of those articles and clean non-relevant words. The cleaning process will allow for the collection of meaningful words that will contribute to the sentiment analysis stage.\n"
   ]
  },
  {
   "cell_type": "code",
   "execution_count": 1,
   "id": "aea03695",
   "metadata": {},
   "outputs": [],
   "source": [
    "import pandas as pd"
   ]
  },
  {
   "cell_type": "code",
   "execution_count": 4,
   "id": "ef67d953",
   "metadata": {},
   "outputs": [
    {
     "data": {
      "text/plain": [
       "\"['work', 'progress', 'bbc', 'worklife', 'linksskip', 'helpbbc', 'menu', 'search', 'bbc', 'search', 'bbc', 'menu', 'work', 'worklife', 'workhow', 'livehow', 'website', 'produced', 'bbc', 'global', 'news', 'ltd', 'company', 'part', 'bbc', 'studios', 'owned', 'bbc', 'bbc', 'money', 'licence', 'fee', 'used', 'create', 'website', 'money', 'make', 're', 'invested', 'help', 'fund', 'bbc', 'first', 'remote', 'hybrid', 'next', 'clear', 'answer', 'modern', 'workplace', 'know', 'changed', 'still', 'work', 'progress', 'work', 'anxiety', 'replaced', 'aiby', 'josie', 'coxwork', 'end', 'desks', 'alex', 'progress', 'day', 'week', 'too', 'short', 'staffed', 'work', 'by', 'alex', 'progressa', 'remote', 'work', 'change', 'heart', 'megan', 'tatumwork', 'burnout', 'may', 'never', 'endby', 'alex', 'problem', 'pushing', 'workers', 'farby', 'alex', 'hitting', 'gen', 'workersby', 'megan', 'bosses', 'rolling', 'back', 'remote', 'workby', 'alex', 'ripple', 'effects', 'layoffsby', 'josie', 'coxwork', 'done', 'cv', 'gap', 'taboo', 'alex', 'worker', 'kate', 'morgan', 'delaney', 'nolanwork', 'gets', 'four', 'day', 'workweek', 'joanna', 'yorkhow', 'workthe', 'companies', 'burn', 'young', 'gradsby', 'alex', 'workthe', 'axed', 'workers', 'posting', 'epic', 'alex', 'workthe', 'workers', 'laid', 'first', 'timeby', 'megan', 'tatumhow', 'workthe', 'workers', 'lured', 'oversold', 'jobsby', 'joanna', 'yorkload', 'articles', 'explore', 'useabout', 'bbcmake', 'editorial', 'emails', 'bbc', 'bbc', 'content', 'external', 'sites', 'read', 'approach', 'external', 'linking']\""
      ]
     },
     "execution_count": 4,
     "metadata": {},
     "output_type": "execute_result"
    }
   ],
   "source": [
    "dataFrame = pd.read_csv(\"Cleaned_data.csv\")\n",
    "dataFrame['clean'][0]"
   ]
  },
  {
   "cell_type": "code",
   "execution_count": null,
   "id": "0bdb50e5",
   "metadata": {},
   "outputs": [],
   "source": []
  }
 ],
 "metadata": {
  "kernelspec": {
   "display_name": "Python 3 (ipykernel)",
   "language": "python",
   "name": "python3"
  },
  "language_info": {
   "codemirror_mode": {
    "name": "ipython",
    "version": 3
   },
   "file_extension": ".py",
   "mimetype": "text/x-python",
   "name": "python",
   "nbconvert_exporter": "python",
   "pygments_lexer": "ipython3",
   "version": "3.9.0"
  }
 },
 "nbformat": 4,
 "nbformat_minor": 5
}
