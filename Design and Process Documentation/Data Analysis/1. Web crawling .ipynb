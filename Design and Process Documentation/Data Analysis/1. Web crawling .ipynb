{
 "cells": [
  {
   "cell_type": "markdown",
   "id": "dedf6e05",
   "metadata": {},
   "source": [
    "## How are people feeling about AI and its impact in the workplace?\n",
    "### Web crawling from pre-defined seeds\n",
    "<hr>\n",
    "I have selected some web links that talk about AI and its potential impact to the workplace. Those links will serve as 'seeds' to be able to find other hyperlinks that might contribute to my search of a general 'sentiment' around AI.\n",
    "\n",
    "Links to visit: \n",
    "- https://futureoflife.org/open-letter/pause-giant-ai-experiments/\n",
    "- https://www.bbc.com/worklife/article/20230418-ai-anxiety-artificial-intelligence-replace-jobs#:~:text=In%20March%2C%20Goldman%20Sachs%20published,by%20technology%20in%20three%20years.\n"
   ]
  },
  {
   "cell_type": "code",
   "execution_count": 1,
   "id": "3a4c719e",
   "metadata": {},
   "outputs": [
    {
     "name": "stderr",
     "output_type": "stream",
     "text": [
      "[nltk_data] Downloading package punkt to\n",
      "[nltk_data]     C:\\Users\\Diana\\AppData\\Roaming\\nltk_data...\n",
      "[nltk_data]   Package punkt is already up-to-date!\n",
      "[nltk_data] Downloading package averaged_perceptron_tagger to\n",
      "[nltk_data]     C:\\Users\\Diana\\AppData\\Roaming\\nltk_data...\n",
      "[nltk_data]   Package averaged_perceptron_tagger is already up-to-\n",
      "[nltk_data]       date!\n"
     ]
    },
    {
     "data": {
      "text/plain": [
       "True"
      ]
     },
     "execution_count": 1,
     "metadata": {},
     "output_type": "execute_result"
    }
   ],
   "source": [
    "# Libraries for requesting HTML\n",
    "from bs4 import BeautifulSoup\n",
    "import requests\n",
    "\n",
    "\n",
    "# natural language toolkit\n",
    "import nltk\n",
    "nltk.download('punkt')\n",
    "nltk.download('averaged_perceptron_tagger')"
   ]
  },
  {
   "cell_type": "code",
   "execution_count": 2,
   "id": "80c0b6ed",
   "metadata": {},
   "outputs": [],
   "source": [
    "first_seed_url = \"https://futureoflife.org/open-letter/pause-giant-ai-experiments/\"\n",
    "page = requests.get(first_seed_url)\n",
    "soup = BeautifulSoup(page.content, features=\"html.parser\")\n",
    "#soup"
   ]
  },
  {
   "cell_type": "code",
   "execution_count": 3,
   "id": "ae60198e",
   "metadata": {
    "scrolled": true
   },
   "outputs": [
    {
     "name": "stdout",
     "output_type": "stream",
     "text": [
      "#main-content\n",
      "https://futureoflife.org/\n",
      "http://futureoflife.org/our-mission/\n",
      "#dropdown\n",
      "https://futureoflife.org/cause-areas/\n",
      "https://futureoflife.org/cause-area/artificial-intelligence/\n",
      "https://futureoflife.org/cause-area/biotechnology/\n",
      "https://futureoflife.org/cause-area/nuclear/\n",
      "https://futureoflife.org/cause-area/climate/\n",
      "#dropdown\n",
      "https://futureoflife.org/our-work/\n",
      "https://futureoflife.org/our-work/policy-work/\n",
      "https://futureoflife.org/our-work/outreach-work/\n",
      "https://futureoflife.org/our-work/grantmaking-work/\n",
      "https://futureoflife.org/our-work/events-work/\n",
      "https://futureoflife.org/project/mitigating-the-risks-of-ai-integration-in-nuclear-launch/\n",
      "https://futureoflife.org/fli-area/policy/\n",
      "https://futureoflife.org/project/future-of-life-award/\n",
      "https://futureoflife.org/fli-area/outreach/\n",
      "https://futureoflife.org/project/nist-framework/\n",
      "https://futureoflife.org/fli-area/policy/\n",
      "https://futureoflife.org/project/eu-ai-act/\n",
      "https://futureoflife.org/fli-area/policy/\n",
      "https://futureoflife.org/project/worldbuilding-competition/\n",
      "https://futureoflife.org/fli-area/outreach/\n",
      "https://futureoflife.org/project/lethal-autonomous-weapons-systems/\n",
      "https://futureoflife.org/fli-area/outreach/\n",
      "https://futureoflife.org/fli-area/policy/\n",
      "https://futureoflife.org/project/future-of-life-institute-podcast/\n",
      "https://futureoflife.org/fli-area/outreach/\n",
      "https://futureoflife.org/?page_id=41596\n",
      "#dropdown\n",
      "https://futureoflife.org/about-us/\n",
      "https://futureoflife.org/about-us/our-people/\n",
      "https://futureoflife.org/about-us/careers/\n",
      "https://futureoflife.org/about-us/donate/\n",
      "https://futureoflife.org/about-us/funding/\n",
      "https://futureoflife.org/frequently-asked-questions/\n",
      "https://futureoflife.org/about-us/contact-us/\n",
      "https://futureoflife.org/take-action/\n",
      "https://futureoflife.org/take-action/\n",
      "/\n",
      "https://futureoflife.org/?page_id=39741\n",
      "#signature\n",
      "https://twitter.com/share?text=Pause+Giant+AI+Experiments%3A+An+Open+Letter&url=https%3A%2F%2Ffutureoflife.org%2Fopen-letter%2Fpause-giant-ai-experiments%2F\n",
      "https://www.facebook.com/sharer/sharer.php?u=https%3A%2F%2Ffutureoflife.org%2Fopen-letter%2Fpause-giant-ai-experiments%2F\n",
      "mailto:?body=Here is the link - https%3A%2F%2Ffutureoflife.org%2Fopen-letter%2Fpause-giant-ai-experiments%2F&subject=Check out this post - Pause Giant AI Experiments: An Open Letter\n",
      "https://www.linkedin.com/shareArticle?mini=true&url=https%3A%2F%2Ffutureoflife.org%2Fopen-letter%2Fpause-giant-ai-experiments%2F&title=Pause Giant AI Experiments: An Open Letter&summary=Check out this post -&source=Future of Life Institute\n",
      "https://futureoflife.org/open-letter/ai-principles/\n",
      "https://openai.com/blog/planning-for-agi-and-beyond\n",
      "https://futureoflife.org/ai/faqs-about-flis-open-letter-calling-for-a-pause-on-giant-ai-experiments/\n",
      "https://futureoflife.org/wp-content/uploads/2023/04/FLI_Policymaking_In_The_Pause.pdf\n",
      "https://futureoflife.org/fli_pause-giant-ai-experiments_an-open-letter/\n",
      "https://dl.acm.org/doi/10.1145/3442188.3445922\n",
      "https://arxiv.org/abs/2209.10604\n",
      "https://arxiv.org/abs/2206.13353\n",
      "https://ojs.aaai.org/aimagazine/index.php/aimagazine/article/view/15084\n",
      "https://arxiv.org/abs/2303.10130\n",
      "https://arxiv.org/abs/2206.05862\n",
      "https://arxiv.org/abs/2209.00626\n",
      "https://arxiv.org/abs/2112.04359\n",
      "https://abcnews.go.com/Technology/openai-ceo-sam-altman-ai-reshape-society-acknowledges/story?id=97897122\n",
      "https://time.com/6246119/demis-hassabis-deepmind-interview/\n",
      "https://arxiv.org/abs/2303.12712\n",
      "https://cdn.openai.com/papers/gpt-4.pdf\n",
      "https://oecd.ai/en/dashboards/ai-principles/P8\n",
      "http://\n",
      "https://futureoflife.org/fli-open-letters/\n",
      "https://futureoflife.org/open-letter/open-letter-against-reckless-nuclear-escalation-and-use/\n",
      "https://futureoflife.org/open-letter/foresight-in-ai-regulation-open-letter/\n",
      "https://futureoflife.org/open-letter/medical-lethal-autonomous-weapons-open-letter/\n",
      "https://futureoflife.org/open-letter/statement-to-united-nations-on-behalf-of-laws-open-letter-signatories/\n",
      "https://futureoflife.org/newsletters\n",
      "https://futureoflife.org/cause-areas/\n",
      "https://futureoflife.org/cause-area/artificial-intelligence/\n",
      "https://futureoflife.org/cause-area/biotechnology/\n",
      "https://futureoflife.org/cause-area/nuclear/\n",
      "https://futureoflife.org/cause-area/climate/\n",
      "https://futureoflife.org/our-work/\n",
      "https://futureoflife.org/our-work/policy-work/\n",
      "https://futureoflife.org/our-work/outreach-work/\n",
      "https://futureoflife.org/our-work/grantmaking-work/\n",
      "https://futureoflife.org/our-work/events-work/\n",
      "https://futureoflife.org/our-content/\n",
      "https://futureoflife.org/?post_type=post\n",
      "https://futureoflife.org/project/future-of-life-institute-podcast/\n",
      "https://futureoflife.org/newsletters/\n",
      "https://futureoflife.org/fli-open-letters/\n",
      "https://futureoflife.org/about-us/\n",
      "https://futureoflife.org/about-us/our-people/\n",
      "https://futureoflife.org/about-us/careers/\n",
      "https://futureoflife.org/about-us/donate/\n",
      "https://futureoflife.org/about-us/funding/\n",
      "https://futureoflife.org/frequently-asked-questions/\n",
      "https://futureoflife.org/about-us/contact-us/\n",
      "https://futureoflife.org/privacy-policy/\n",
      "https://futureoflife.org/accessibility/\n",
      "https://futureoflife.org/about-us/#tax-forms-section\n",
      "https://futureoflife.org/donor-dashboard/\n",
      "https://futureoflife.org/report-a-broken-link/\n",
      "https://futureoflife.org/internal-materials/\n",
      "http://archive.futureoflife.org\n",
      "https://futureoflife.org/privacy-policy/\n",
      "https://futureoflife.org/accessibility/\n",
      "https://futureoflife.org/about-us/#tax-forms-section\n",
      "https://futureoflife.org/donor-dashboard/\n",
      "https://futureoflife.org/report-a-broken-link/\n",
      "https://futureoflife.org/internal-materials/\n",
      "https://www.facebook.com/futureoflifeinstitute\n",
      "https://twitter.com/FLIxrisk\n",
      "https://www.linkedin.com/company/future-of-life-institute/\n",
      "https://www.youtube.com/channel/UC-rCCy3FQ-GItDimSR9lhzw\n",
      "#\n",
      "https://futureoflife.org/privacy-policy/\n"
     ]
    }
   ],
   "source": [
    "##finding the <a> tags from the HTML that will contain new links\n",
    "links = []\n",
    "\n",
    "\n",
    "for a in soup.find_all(\"a\"):\n",
    "    try:\n",
    "        links.append(a[\"href\"])\n",
    "    except:\n",
    "        pass\n",
    "    \n",
    "for link in links:\n",
    "    print(link)"
   ]
  },
  {
   "cell_type": "markdown",
   "id": "ffce5aa7",
   "metadata": {},
   "source": [
    "### Filtering the links to articles and other relevant pages\n",
    "<hr>\n",
    "Something that I have found very interesting is that the 'Future of Life' website has a  lot of links to papers and research around the area of AI. I have extracted the links of the websites that take me to those papers and I will try to tokenize the PDF (if it is accessible)"
   ]
  },
  {
   "cell_type": "code",
   "execution_count": 4,
   "id": "874c85e6",
   "metadata": {},
   "outputs": [
    {
     "name": "stdout",
     "output_type": "stream",
     "text": [
      "https://futureoflife.org/open-letter/pause-giant-ai-experiments/\n",
      "https://futureoflife.org/cause-area/artificial-intelligence/\n",
      "https://futureoflife.org/open-letter/ai-principles/\n",
      "https://openai.com/blog/planning-for-agi-and-beyond\n",
      "https://futureoflife.org/ai/faqs-about-flis-open-letter-calling-for-a-pause-on-giant-ai-experiments/\n",
      "https://arxiv.org/abs/2209.10604\n",
      "https://arxiv.org/abs/2206.13353\n",
      "https://arxiv.org/abs/2303.10130\n",
      "https://arxiv.org/abs/2206.05862\n",
      "https://arxiv.org/abs/2209.00626\n",
      "https://arxiv.org/abs/2112.04359\n",
      "https://abcnews.go.com/Technology/openai-ceo-sam-altman-ai-reshape-society-acknowledges/story?id=97897122\n",
      "https://time.com/6246119/demis-hassabis-deepmind-interview/\n",
      "https://arxiv.org/abs/2303.12712\n",
      "https://futureoflife.org/cause-area/artificial-intelligence/\n"
     ]
    }
   ],
   "source": [
    "filtered_first_seed = [link for link in links if link.startswith((\n",
    "    'https://futureoflife.org/cause-area/artificial-intelligence/', \n",
    "    'https://abcnews.go.com/',\n",
    "    'https://arxiv.org/abs/',\n",
    "    'https://openai.com/',\n",
    "    'https://futureoflife.org/ai/',\n",
    "    'https://futureoflife.org/open-letter/ai-principles/',\n",
    "    'https://time.com/'))]\n",
    "\n",
    "##insert the orignal link for the seed \n",
    "filtered_first_seed.insert(0, first_seed_url)\n",
    "\n",
    "for link in filtered_first_seed:\n",
    "    print(link)\n"
   ]
  },
  {
   "cell_type": "markdown",
   "id": "4baa22d4",
   "metadata": {},
   "source": [
    "### Creating functions that will allow me to extract html href elements  \n",
    "\n",
    "The previous process can be repeated with a second seed. The following functions were"
   ]
  },
  {
   "cell_type": "code",
   "execution_count": 5,
   "id": "ca681963",
   "metadata": {},
   "outputs": [],
   "source": [
    "def soup_object(link):\n",
    "    page = requests.get(link)\n",
    "    soup = BeautifulSoup(page.content, features = 'html.parser')\n",
    "    return soup\n",
    "\n",
    "def extract_links(soup):\n",
    "    new_links = []\n",
    "    for a in soup.find_all(\"a\"):\n",
    "        try:\n",
    "            new_links.append(a[\"href\"])\n",
    "        except:\n",
    "            pass\n",
    "        \n",
    "    return new_links    "
   ]
  },
  {
   "cell_type": "code",
   "execution_count": 6,
   "id": "31d8646d",
   "metadata": {},
   "outputs": [],
   "source": [
    "# Finding 'sub-links' to the each of the elements of the filtered link list\n",
    "for link in filtered_first_seed:\n",
    "    soup = soup_object(link)\n",
    "    links = extract_links(soup)\n",
    "    \n",
    "   #print('This is a primary link',link)\n",
    "    #print(links)"
   ]
  },
  {
   "cell_type": "code",
   "execution_count": 7,
   "id": "4e6d40b9",
   "metadata": {},
   "outputs": [
    {
     "name": "stdout",
     "output_type": "stream",
     "text": [
      "https://www.bbc.com/worklife/article/20230418-ai-anxiety-artificial-intelligence-replace-jobs#:~:text=In%20March%2C%20Goldman%20Sachs%20published,by%20technology%20in%20three%20years.\n",
      "https://www.pwc.com/gx/en/issues/workforce/hopes-and-fears-2022.html\n",
      "https://www.technologyreview.com/2023/02/08/1068068/chatgpt-is-everywhere-heres-where-it-came-from/\n",
      "https://journals.sagepub.com/doi/full/10.1177/23780231221131377\n",
      "https://news.byu.edu/intellect/robots-are-taking-over-jobs-but-not-at-the-rate-you-might-think-says-byu-research\n",
      "https://www.bbc.com/worklife/work-in-progress\n"
     ]
    }
   ],
   "source": [
    "# Using second seed to find more relevant links\n",
    "second_seed = \"https://www.bbc.com/worklife/article/20230418-ai-anxiety-artificial-intelligence-replace-jobs#:~:text=In%20March%2C%20Goldman%20Sachs%20published,by%20technology%20in%20three%20years.\"\n",
    "soup2 = soup_object(second_seed)\n",
    "links = extract_links(soup2)\n",
    "\n",
    "filtered_second_seed = [link for link in links if link.startswith((\n",
    "    'https://www.pwc.com/', \n",
    "    'https://www.technologyreview.com/',\n",
    "    'https://journals.sagepub.com/',\n",
    "    'https://news.byu.edu/',\n",
    "    'https://www.bbc.com/worklife/'))]\n",
    "\n",
    "##insert the orignal link for the seed \n",
    "filtered_second_seed.insert(0, second_seed)\n",
    "\n",
    "\n",
    "for i in filtered_second_seed:\n",
    "    print(i)"
   ]
  },
  {
   "cell_type": "markdown",
   "id": "1132c761",
   "metadata": {},
   "source": [
    "### Using a third seed"
   ]
  },
  {
   "cell_type": "code",
   "execution_count": 8,
   "id": "9f4cb4c8",
   "metadata": {},
   "outputs": [
    {
     "name": "stdout",
     "output_type": "stream",
     "text": [
      "['https://mitsloan.mit.edu/ideas-made-to-matter/report-finds-employees-embrace-ai-when-they-see-its-value', 'https://mitsloan.mit.edu/ideas-made-to-matter/delta-model-how-arnoldo-hax-reprioritized-corporate-strategy', 'https://mitsloan.mit.edu/ideas-made-to-matter/its-time-to-rechart-course-technology-here-are-4-ways-to-start', 'https://mitsloan.mit.edu/ideas-made-to-matter/sec-commissioner-hester-peirce-not-a-fan-interventionist-approaches', 'https://mitsloan.mit.edu/ideas-made-to-matter/topics/artificial-intelligence', 'https://mitsloan.mit.edu/ideas-made-to-matter/sara-brown', 'https://mitsloan.mit.edu/ideas-made-to-matter/new-book-explores-how-ai-really-changes-way-we-work', 'https://mitsloan.mit.edu/ideas-made-to-matter/3-requirements-successful-artificial-intelligence-programs', 'https://mitsloan.mit.edu/ideas-made-to-matter/mit-sloan-research-artificial-intelligence-and-machine-learning', 'https://mitsloan.mit.edu/ideas-made-to-matter/its-time-to-rechart-course-technology-here-are-4-ways-to-start', 'https://mitsloan.mit.edu/ideas-made-to-matter/job-seekers-ai-boosted-resumes-more-likely-to-be-hired', 'https://mitsloan.mit.edu/ideas-made-to-matter/new-podcast-explores-whether-data-can-solve-big-problems']\n"
     ]
    }
   ],
   "source": [
    "third_seed = \"https://mitsloan.mit.edu/ideas-made-to-matter/report-finds-employees-embrace-ai-when-they-see-its-value\"\n",
    "soup3 = soup_object(third_seed)\n",
    "links = extract_links(soup3)\n",
    "\n",
    "filtered_third_seed = [link for link in links if link.startswith((\n",
    "    '/ideas-made-to-matter/'\n",
    "    ))]\n",
    "\n",
    "##insert the orignal link for the seed \n",
    "filtered_third_seed.insert(0, '/ideas-made-to-matter/report-finds-employees-embrace-ai-when-they-see-its-value')\n",
    "\n",
    "filtered_third_seeds = []\n",
    "for i in filtered_third_seed:\n",
    "    completeLink= 'https://mitsloan.mit.edu'+ i\n",
    "    filtered_third_seeds.append(completeLink)\n",
    "print(filtered_third_seeds)\n"
   ]
  },
  {
   "cell_type": "markdown",
   "id": "d8901de3",
   "metadata": {},
   "source": [
    "### Using a fourth seed"
   ]
  },
  {
   "cell_type": "code",
   "execution_count": 9,
   "id": "73a18e6a",
   "metadata": {},
   "outputs": [
    {
     "name": "stdout",
     "output_type": "stream",
     "text": [
      "https://www.bbvaopenmind.com/en/articles/artificial-intelligence-in-workplace-what-is-at-stake-for-workers/\n",
      "https://www.bbvaopenmind.com/en/articles/artificial-intelligence-in-workplace-what-is-at-stake-for-workers/\n",
      "https://www.bbvaopenmind.com/en/articles/artificial-intelligence-in-workplace-what-is-at-stake-for-workers/\n",
      "https://www2.deloitte.com/insights/us/en/focus/human-capital-trends/2017/people-analytics-in-hr.html\n",
      "https://osha.europa.eu/en/tools-and-publications/publications/foresight-new-and-emerging-occupational-safety-and-health-risks/view\n",
      "https://www.businessinsider.in/i-tried-the-software-that-uses-ai-to-scan-job-applicants-for-companies-like-goldman-sachs-and-unilever-before-meeting-them-and-its-not-as-creepy-as-it-sounds/articleshow/60196231.cms\n",
      "https://osha.europa.eu/en/tools-and-publications/publications/future-work-crowdsourcing/view\n",
      "https://newsroom.ibm.com/2018-11-28-IBM-Talent-Business-Uses-AI-To-Rethink-The-Modern-Workforce\n",
      "https://osha.europa.eu/en/tools-and-publications/seminars/focal-points-seminar-review-articles-future-work\n",
      "https://www.pwc.com/gx/en/issues/data-and-analytics/publications/artificial-intelligence-study.html\n",
      "https://www.bbvaopenmind.com/en/articles/the-impact-of-the-gig-economy/\n",
      "https://www.bbvaopenmind.com/en/articles/advanced-tech-but-growth-slow-and-unequal-paradoxes-and-policies/\n",
      "https://www.bbvaopenmind.com/en/articles/the-impact-of-the-gig-economy/\n",
      "https://www.bbvaopenmind.com/en/articles/the-impact-of-the-gig-economy/\n",
      "https://www.bbvaopenmind.com/en/articles/advanced-tech-but-growth-slow-and-unequal-paradoxes-and-policies/\n",
      "https://www.bbvaopenmind.com/en/articles/advanced-tech-but-growth-slow-and-unequal-paradoxes-and-policies/\n",
      "https://www.bbvaopenmind.com/en/articles/the-impact-of-the-gig-economy/\n",
      "https://www.bbvaopenmind.com/en/articles/the-impact-of-the-gig-economy/\n",
      "https://www.bbvaopenmind.com/en/articles/artificial-intelligence-in-workplace-what-is-at-stake-for-workers/\n"
     ]
    }
   ],
   "source": [
    "fourth_seed = \"https://www.bbvaopenmind.com/en/articles/artificial-intelligence-in-workplace-what-is-at-stake-for-workers/\"\n",
    "soup4 = soup_object(fourth_seed)\n",
    "links = extract_links(soup4)\n",
    "\n",
    "# for i in links:\n",
    "#     print(i)\n",
    "\n",
    "filtered_fourth_seed = [link for link in links if link.startswith((\n",
    "    'https://newsroom.ibm.com/',\n",
    "    'https://www2.deloitte.com/',\n",
    "    'https://osha.europa.eu/',\n",
    "    'https://www.pwc.com/',\n",
    "    'https://www.bbvaopenmind.com/en/articles',\n",
    "    'https://www.businessinsider.in/'\n",
    "    ))]\n",
    "\n",
    "##insert the orignal link for the seed \n",
    "filtered_fourth_seed.insert(0, fourth_seed)\n",
    "\n",
    "for i in filtered_fourth_seed:\n",
    "    print(i)"
   ]
  },
  {
   "cell_type": "markdown",
   "id": "e2eeb8c4",
   "metadata": {},
   "source": [
    "### Using fifth seed"
   ]
  },
  {
   "cell_type": "code",
   "execution_count": 10,
   "id": "b2584723",
   "metadata": {},
   "outputs": [
    {
     "name": "stdout",
     "output_type": "stream",
     "text": [
      "https://www.bbvaopenmind.com/en/books/work-in-the-age-of-data/\n",
      "https://www.bbvaopenmind.com/en/articles/on-the-effects-of-artificial-intelligence-on-growth-and-employment/\n",
      "https://www.bbvaopenmind.com/en/articles/on-the-effects-of-artificial-intelligence-on-growth-and-employment/\n",
      "https://www.bbvaopenmind.com/en/articles/measuring-productivity-in-the-context-of-technological-change/\n",
      "https://www.bbvaopenmind.com/en/articles/measuring-productivity-in-the-context-of-technological-change/\n",
      "https://www.bbvaopenmind.com/en/articles/inequality-in-the-digital-era/\n",
      "https://www.bbvaopenmind.com/en/articles/inequality-in-the-digital-era/\n",
      "https://www.bbvaopenmind.com/en/articles/intangible-capital-productivity-and-labor-markets/\n",
      "https://www.bbvaopenmind.com/en/articles/intangible-capital-productivity-and-labor-markets/\n",
      "https://www.bbvaopenmind.com/en/articles/causes-and-consequences-of-job-polarization-and-their-future-perspectives/\n",
      "https://www.bbvaopenmind.com/en/articles/causes-and-consequences-of-job-polarization-and-their-future-perspectives/\n",
      "https://www.bbvaopenmind.com/en/articles/increasing-importance-of-working-consumers-impact-on-paid-workers/\n",
      "https://www.bbvaopenmind.com/en/articles/increasing-importance-of-working-consumers-impact-on-paid-workers/\n",
      "https://www.bbvaopenmind.com/en/articles/hard-realities-of-entrepreneurship-in-global-economy/\n",
      "https://www.bbvaopenmind.com/en/articles/hard-realities-of-entrepreneurship-in-global-economy/\n",
      "https://www.bbvaopenmind.com/en/articles/the-impact-of-the-gig-economy/\n",
      "https://www.bbvaopenmind.com/en/articles/the-impact-of-the-gig-economy/\n",
      "https://www.bbvaopenmind.com/en/articles/artificial-intelligence-in-workplace-what-is-at-stake-for-workers/\n",
      "https://www.bbvaopenmind.com/en/articles/artificial-intelligence-in-workplace-what-is-at-stake-for-workers/\n",
      "https://www.bbvaopenmind.com/en/articles/a-new-social-contract-for-the-digital-age/\n",
      "https://www.bbvaopenmind.com/en/articles/a-new-social-contract-for-the-digital-age/\n",
      "https://www.bbvaopenmind.com/en/articles/public-policies-in-the-age-of-digital-disruption/\n",
      "https://www.bbvaopenmind.com/en/articles/public-policies-in-the-age-of-digital-disruption/\n",
      "https://www.bbvaopenmind.com/en/articles/institutions-policies-and-technologies-for-the-future-of-work/\n",
      "https://www.bbvaopenmind.com/en/articles/institutions-policies-and-technologies-for-the-future-of-work/\n",
      "https://www.bbvaopenmind.com/en/articles/the-digital-economy-and-learning/\n",
      "https://www.bbvaopenmind.com/en/articles/the-digital-economy-and-learning/\n",
      "https://www.bbvaopenmind.com/en/articles/the-power-of-everyone-why-work-revolution-demands-a-fresh-focus-on-inclusion/\n",
      "https://www.bbvaopenmind.com/en/articles/the-power-of-everyone-why-work-revolution-demands-a-fresh-focus-on-inclusion/\n",
      "https://www.bbvaopenmind.com/en/articles/ethical-leadership-in-a-new-age-of-work/\n",
      "https://www.bbvaopenmind.com/en/articles/ethical-leadership-in-a-new-age-of-work/\n",
      "https://www.bbvaopenmind.com/en/articles/artificial-intelligence-and-the-future-of-work-chinese-perspective/\n",
      "https://www.bbvaopenmind.com/en/articles/artificial-intelligence-and-the-future-of-work-chinese-perspective/\n"
     ]
    }
   ],
   "source": [
    "fifth_seed = \"https://www.bbvaopenmind.com/en/books/work-in-the-age-of-data/\"\n",
    "soup5 = soup_object(fifth_seed)\n",
    "links = extract_links(soup5)\n",
    "\n",
    "\n",
    "filtered_fifth_seed = [link for link in links if link.startswith((\n",
    "    'https://www.bbvaopenmind.com/en/articles/'\n",
    "    ))]\n",
    "\n",
    "##insert the orignal link for the seed \n",
    "filtered_fifth_seed.insert(0, fifth_seed)\n",
    "\n",
    "for i in filtered_fifth_seed:\n",
    "    print(i)"
   ]
  },
  {
   "cell_type": "markdown",
   "id": "5f821b4c",
   "metadata": {},
   "source": [
    "### Using sixth seed"
   ]
  },
  {
   "cell_type": "code",
   "execution_count": 11,
   "id": "64252d7c",
   "metadata": {},
   "outputs": [
    {
     "name": "stdout",
     "output_type": "stream",
     "text": [
      "https://www.weforum.org/agenda/2022/01/artificial-intelligence-ai-technology-trust-survey/\n",
      "https://www.weforum.org/topics/artificial-intelligence-and-robotics\n",
      "https://www.weforum.org/agenda/authors/joe-myers-e357a678-184f-4be2-9895-dad15a2435b3\n",
      "https://www.weforum.org/impact/ai-for-agriculture-in-india/\n",
      "https://www.weforum.org/agenda/2021/12/ai-mental-health-cbt-therapy\n",
      "https://www.weforum.org/agenda/2021/12/how-to-keep-human-in-human-resources-with-ai-based-tools\n",
      "https://www.weforum.org/topics/artificial-intelligence-and-robotics\n",
      "https://www.weforum.org/agenda/archive/emerging-technology\n",
      "https://www.weforum.org/topics/emerging-technologies\n",
      "https://www.weforum.org/topics/artificial-intelligence-and-robotics\n",
      "https://www.weforum.org/agenda/2023/05/jobs-ai-cant-replace/\n",
      "https://www.weforum.org/agenda/2023/05/jobs-ai-cant-replace/\n",
      "https://www.weforum.org/agenda/2023/05/emerging-technologies-human-crises-artificial-intelligence/\n",
      "https://www.weforum.org/agenda/2023/05/emerging-technologies-human-crises-artificial-intelligence/\n",
      "https://www.weforum.org/agenda/2023/05/workplace-technology-jobs-impact/\n",
      "https://www.weforum.org/agenda/2023/05/workplace-technology-jobs-impact/\n",
      "https://www.weforum.org/agenda/2023/05/unintentional-biased-ai-algorithm-years-ago/\n",
      "https://www.weforum.org/agenda/2023/05/unintentional-biased-ai-algorithm-years-ago/\n",
      "https://www.weforum.org/agenda/2023/05/how-will-generative-ai-impact-healthcare/\n",
      "https://www.weforum.org/agenda/2023/05/how-will-generative-ai-impact-healthcare/\n",
      "https://www.weforum.org/agenda/2023/05/ai-work-creative/\n",
      "https://www.weforum.org/agenda/2023/05/ai-work-creative/\n"
     ]
    }
   ],
   "source": [
    "sixth_seed = \"https://www.weforum.org/agenda/2022/01/artificial-intelligence-ai-technology-trust-survey/\"\n",
    "\n",
    "soup6 = soup_object(sixth_seed)\n",
    "links = extract_links(soup6)\n",
    "\n",
    "# for i in links:\n",
    "#     print(i)\n",
    "\n",
    "filtered_sixth_seed = [link for link in links if link.startswith((\n",
    "    \"https://www.weforum.org/topics/\",\n",
    "    \"https://www.weforum.org/impact/\",\n",
    "    \"https://www.weforum.org/agenda/\",\n",
    "     ))]\n",
    "\n",
    "#insert the orignal link for the seed \n",
    "filtered_sixth_seed.insert(0, sixth_seed)\n",
    "\n",
    "for i in filtered_sixth_seed:\n",
    "    print(i)"
   ]
  },
  {
   "cell_type": "markdown",
   "id": "f3aca013",
   "metadata": {},
   "source": [
    "### Using seventh seed"
   ]
  },
  {
   "cell_type": "code",
   "execution_count": 12,
   "id": "6d18e9a3",
   "metadata": {},
   "outputs": [
    {
     "name": "stdout",
     "output_type": "stream",
     "text": [
      "['https://ai100.stanford.edu/2021-report/standing-questions-and-responses/sq1-what-are-some-examples-pictures-reflect-important', 'https://ai100.stanford.edu/2021-report/standing-questions-and-responses/sq2-what-are-most-important-advances-ai', 'https://ai100.stanford.edu/2021-report/standing-questions-and-section-summaries/sq2-what-are-most-important-advances-ai', 'https://ai100.stanford.edu/2021-report/standing-questions-and-section-summaries/sq2-what-are-most-important-advances-ai', 'https://ai100.stanford.edu/2021-report/standing-questions-and-section-summaries/sq2-what-are-most-important-advances-ai', 'https://ai100.stanford.edu/2021-report/standing-questions-and-section-summaries/sq2-what-are-most-important-advances-ai', 'https://ai100.stanford.edu/2021-report/standing-questions-and-section-summaries/sq2-what-are-most-important-advances-ai', 'https://ai100.stanford.edu/2021-report/standing-questions-and-section-summaries/sq2-what-are-most-important-advances-ai', 'https://ai100.stanford.edu/2021-report/standing-questions-and-section-summaries/sq2-what-are-most-important-advances-ai', 'https://ai100.stanford.edu/2021-report/standing-questions-and-section-summaries/sq2-what-are-most-important-advances-ai', 'https://ai100.stanford.edu/2021-report/standing-questions-and-section-summaries/sq2-what-are-most-important-advances-ai', 'https://ai100.stanford.edu/2021-report/standing-questions-and-responses/sq3-what-are-most-inspiring-open-grand-challenge', 'https://ai100.stanford.edu/2021-report/standing-questions-and-section-summaries/sq3-what-are-most-inspiring-open-grand', 'https://ai100.stanford.edu/2021-report/standing-questions-and-section-summaries/sq3-what-are-most-inspiring-open-grand', 'https://ai100.stanford.edu/2021-report/standing-questions-and-section-summaries/sq3-what-are-most-inspiring-open-grand', 'https://ai100.stanford.edu/2021-report/standing-questions-and-section-summaries/sq3-what-are-most-inspiring-open-grand', 'https://ai100.stanford.edu/2021-report/standing-questions-and-section-summaries/sq3-what-are-most-inspiring-open-grand', 'https://ai100.stanford.edu/2021-report/standing-questions-and-responses/sq4-how-much-have-we-progressed-understanding-key', 'https://ai100.stanford.edu/2021-report/standing-questions-and-section-summaries/sq4-how-much-have-we-progressed-understanding', 'https://ai100.stanford.edu/2021-report/standing-questions-and-section-summaries/sq4-how-much-have-we-progressed-understanding', 'https://ai100.stanford.edu/2021-report/standing-questions-and-section-summaries/sq4-how-much-have-we-progressed-understanding', 'https://ai100.stanford.edu/2021-report/standing-questions-and-section-summaries/sq4-how-much-have-we-progressed-understanding', 'https://ai100.stanford.edu/2021-report/standing-questions-and-responses/sq5-what-are-prospects-more-general-artificial', 'https://ai100.stanford.edu/2021-report/standing-questions-and-section-summaries/sq5-what-are-prospects-more-general-artificial', 'https://ai100.stanford.edu/2021-report/standing-questions-and-section-summaries/sq5-what-are-prospects-more-general-artificial', 'https://ai100.stanford.edu/2021-report/standing-questions-and-section-summaries/sq5-what-are-prospects-more-general-artificial', 'https://ai100.stanford.edu/2021-report/standing-questions-and-section-summaries/sq5-what-are-prospects-more-general-artificial', 'https://ai100.stanford.edu/2021-report/standing-questions-and-responses/sq6-how-has-public-sentiment-towards-ai-evolved-and', 'https://ai100.stanford.edu/2021-report/standing-questions-and-section-summaries/sq6-how-has-public-sentiment-towards-ai', 'https://ai100.stanford.edu/2021-report/standing-questions-and-section-summaries/sq6-how-has-public-sentiment-towards-ai', 'https://ai100.stanford.edu/2021-report/standing-questions-and-responses/sq7-how-should-governments-act-ensure-ai-developed-and', 'https://ai100.stanford.edu/2021-report/standing-questions-and-section-summaries/sq7-how-should-governments-act-ensure-ai', 'https://ai100.stanford.edu/2021-report/standing-questions-and-section-summaries/sq7-how-should-governments-act-ensure-ai', 'https://ai100.stanford.edu/2021-report/standing-questions-and-section-summaries/sq7-how-should-governments-act-ensure-ai', 'https://ai100.stanford.edu/2021-report/standing-questions-and-section-summaries/sq7-how-should-governments-act-ensure-ai', 'https://ai100.stanford.edu/2021-report/standing-questions-and-section-summaries/sq7-how-should-governments-act-ensure-ai', 'https://ai100.stanford.edu/2021-report/standing-questions-and-section-summaries/sq7-how-should-governments-act-ensure-ai', 'https://ai100.stanford.edu/2021-report/standing-questions-and-responses/sq8-what-should-roles-academia-and-industry-be', 'https://ai100.stanford.edu/2021-report/standing-questions-and-section-summaries/sq8-what-should-roles-academia-and-industry-be', 'https://ai100.stanford.edu/2021-report/standing-questions-and-section-summaries/sq8-what-should-roles-academia-and-industry-be', 'https://ai100.stanford.edu/2021-report/standing-questions-and-section-summaries/sq8-what-should-roles-academia-and-industry-be', 'https://ai100.stanford.edu/2021-report/standing-questions-and-section-summaries/sq8-what-should-roles-academia-and-industry-be', 'https://ai100.stanford.edu/2021-report/standing-questions-and-section-summaries/sq8-what-should-roles-academia-and-industry-be', 'https://ai100.stanford.edu/2021-report/standing-questions-and-responses/sq9-what-are-most-promising-opportunities-ai', 'https://ai100.stanford.edu/2021-report/standing-questions-and-section-summaries/sq9-what-are-most-promising-opportunities-ai', 'https://ai100.stanford.edu/2021-report/standing-questions-and-section-summaries/sq9-what-are-most-promising-opportunities-ai', 'https://ai100.stanford.edu/2021-report/standing-questions-and-responses/sq10-what-are-most-pressing-dangers-ai', 'https://ai100.stanford.edu/2021-report/standing-questions-and-section-summaries/sq10-what-are-most-pressing-dangers-ai', 'https://ai100.stanford.edu/2021-report/standing-questions-and-section-summaries/sq10-what-are-most-pressing-dangers-ai', 'https://ai100.stanford.edu/2021-report/standing-questions-and-section-summaries/sq10-what-are-most-pressing-dangers-ai', 'https://ai100.stanford.edu/2021-report/standing-questions-and-section-summaries/sq10-what-are-most-pressing-dangers-ai', 'https://ai100.stanford.edu/2021-report/standing-questions-and-responses/sq11-how-has-ai-impacted-socioeconomic-relationships', 'https://ai100.stanford.edu/2021-report/standing-questions-and-section-summaries/sq11-how-has-ai-impacted-socioeconomic', 'https://ai100.stanford.edu/2021-report/standing-questions-and-section-summaries/sq11-how-has-ai-impacted-socioeconomic', 'https://ai100.stanford.edu/2021-report/standing-questions-and-section-summaries/sq11-how-has-ai-impacted-socioeconomic', 'https://ai100.stanford.edu/2021-report/standing-questions-and-section-summaries/sq11-how-has-ai-impacted-socioeconomic', 'https://ai100.stanford.edu/2021-report/standing-questions-and-section-summaries/sq11-how-has-ai-impacted-socioeconomic', 'https://ai100.stanford.edu/2021-report/standing-questions-and-section-summaries/sq11-how-has-ai-impacted-socioeconomic', 'https://ai100.stanford.edu/2021-report/standing-questions-and-responses/sq12-does-it-appear-building-how-we-think-works', 'https://ai100.stanford.edu/2021-report/standing-questions-and-responses/sq1-what-are-some-examples-pictures-reflect-important', 'https://ai100.stanford.edu/2021-report/standing-questions-and-responses/sq2-what-are-most-important-advances-ai', 'https://ai100.stanford.edu/2021-report/standing-questions-and-responses/sq3-what-are-most-inspiring-open-grand-challenge', 'https://ai100.stanford.edu/2021-report/standing-questions-and-responses/sq4-how-much-have-we-progressed-understanding-key', 'https://ai100.stanford.edu/2021-report/standing-questions-and-responses/sq5-what-are-prospects-more-general-artificial', 'https://ai100.stanford.edu/2021-report/standing-questions-and-responses/sq6-how-has-public-sentiment-towards-ai-evolved-and', 'https://ai100.stanford.edu/2021-report/standing-questions-and-section-summaries/sq6-how-has-public-sentiment-towards-ai', 'https://ai100.stanford.edu/2021-report/standing-questions-and-section-summaries/sq6-how-has-public-sentiment-towards-ai', 'https://ai100.stanford.edu/2021-report/standing-questions-and-responses/sq7-how-should-governments-act-ensure-ai-developed-and', 'https://ai100.stanford.edu/2021-report/standing-questions-and-responses/sq8-what-should-roles-academia-and-industry-be', 'https://ai100.stanford.edu/2021-report/standing-questions-and-responses/sq9-what-are-most-promising-opportunities-ai', 'https://ai100.stanford.edu/2021-report/standing-questions-and-responses/sq10-what-are-most-pressing-dangers-ai', 'https://ai100.stanford.edu/2021-report/standing-questions-and-responses/sq11-how-has-ai-impacted-socioeconomic-relationships', 'https://ai100.stanford.edu/2021-report/standing-questions-and-responses/sq12-does-it-appear-building-how-we-think-works', 'https://ai100.stanford.edu/2021-report/standing-questions-and-section-summaries/sq2-what-are-most-important-advances-ai', 'https://ai100.stanford.edu/2021-report/standing-questions-and-section-summaries/sq12-does-it-appear-building-how-we-think', 'https://ai100.stanford.edu/2021-report/standing-questions-and-section-summaries/sq10-what-are-most-pressing-dangers-ai']\n"
     ]
    }
   ],
   "source": [
    "seventh_seed = \"https://ai100.stanford.edu/2021-report/standing-questions-and-responses/sq6-how-has-public-sentiment-towards-ai-evolved-and\"\n",
    "\n",
    "soup7 = soup_object(seventh_seed)\n",
    "links = extract_links(soup7)\n",
    "\n",
    "# for i in links:\n",
    "#     print(i)\n",
    "\n",
    "filtered_seventh_seed = [link for link in links if link.startswith((\n",
    "    \"/2021-report/standing-questions-and-responses/\",\n",
    "    \"gathering-strength-gathering-storms-one-hundred-year-study-artificial-intelligence-ai100-2021-study\",\n",
    "    \"/2021-report/standing-questions-and-section-summaries/\"\n",
    "     ))]\n",
    "\n",
    "#insert the orignal link for the seed \n",
    "#filtered_seventh_seed.insert(0, sixth_seed)\n",
    "\n",
    "filtered_seventh_seeds = []\n",
    "for i in filtered_seventh_seed:\n",
    "    remove = \"#\" ##removing anchor togs within a link. If they are not remove, I can get repeated links\n",
    "    completeLink= 'https://ai100.stanford.edu'+ i\n",
    "    completeLink = completeLink.split(remove,1)[0]\n",
    "    filtered_seventh_seeds.append(completeLink)\n",
    "print(filtered_seventh_seeds)    "
   ]
  },
  {
   "cell_type": "markdown",
   "id": "b3379fe6",
   "metadata": {},
   "source": [
    "### Eight Seed"
   ]
  },
  {
   "cell_type": "code",
   "execution_count": 13,
   "id": "84359bb1",
   "metadata": {},
   "outputs": [
    {
     "name": "stdout",
     "output_type": "stream",
     "text": [
      "https://www.theguardian.com/global-development/2023/may/12/why-would-we-employ-people-experts-on-five-ways-ai-will-change-work\n",
      "https://www.theguardian.com/global-development/2023/mar/30/the-future-of-work-a-guardian-series\n",
      "https://www.theguardian.com/technology/2023/feb/18/the-ai-industrial-revolution-puts-middle-class-workers-under-threat-this-time\n",
      "https://www.theguardian.com/technology/2023/may/09/techscape-artificial-intelligence-risk\n"
     ]
    }
   ],
   "source": [
    "eighth_seed = \"https://www.theguardian.com/global-development/2023/may/12/why-would-we-employ-people-experts-on-five-ways-ai-will-change-work\"\n",
    "\n",
    "soup8 = soup_object(eighth_seed)\n",
    "links = extract_links(soup8)\n",
    "\n",
    "# for i in links:\n",
    "#     print(i)\n",
    "\n",
    "filtered_eighth_seed = [link for link in links if link.startswith((\n",
    "    \"https://www.theguardian.com/technology/2023/\",\n",
    "    \"https://www.theguardian.com/global-development/2023\",\n",
    "     ))]\n",
    "\n",
    "#insert the orignal link for the seed \n",
    "filtered_eighth_seed.insert(0, eighth_seed)\n",
    "\n",
    "for i in filtered_eighth_seed:\n",
    "    print(i)"
   ]
  },
  {
   "cell_type": "code",
   "execution_count": 26,
   "id": "527711b0",
   "metadata": {},
   "outputs": [
    {
     "name": "stdout",
     "output_type": "stream",
     "text": [
      "https://www.bbntimes.com/technology/crossing-the-threshold-into-the-ai-renaissance\n",
      "https://www.bbntimes.com/technology/preparing-for-a-future-dominated-by-artificial-intelligence\n",
      "https://www.bbntimes.com/technology/preparing-for-a-future-dominated-by-artificial-intelligence\n",
      "https://www.bbntimes.com/technology/crossing-the-threshold-into-the-ai-renaissance\n",
      "https://www.bbntimes.com/technology/crossing-the-threshold-into-the-ai-renaissance\n",
      "https://www.bbntimes.com/environment/how-ai-is-revolutionizing-smart-waste-management\n",
      "https://www.bbntimes.com/financial/gpt-4-will-revolutionise-the-financial-services-industry\n",
      "https://www.bbntimes.com/politics/is-it-time-for-a-secretary-of-technology\n",
      "https://www.bbntimes.com/science/postmodernism-and-the-hyperreality-of-gpt\n",
      "https://www.bbntimes.com/society/gpt-and-the-quest-for-the-ghost-in-the-machine\n",
      "https://www.bbntimes.com/technology/preparing-for-a-future-dominated-by-artificial-intelligence\n",
      "https://www.bbntimes.com/technology/crossing-the-threshold-into-the-ai-renaissance\n"
     ]
    }
   ],
   "source": [
    "ninth_seed = \"https://www.bbntimes.com/technology/advantages-disadvantages-of-ai-in-the-workplace\"\n",
    "\n",
    "soup9 = soup_object(ninth_seed)\n",
    "links = extract_links(soup9)\n",
    "\n",
    "# for i in links:\n",
    "#     print(i)\n",
    "\n",
    "filtered_ninth_seed = [link for link in links if link.startswith((\n",
    "    \"/technology/crossing-the-threshold-into-the-ai-renaissance\",\n",
    "    \"/politics/is-it-time-for-a-secretary-of-technology\",\n",
    "    \"/science/postmodernism-and-the-hyperreality-of-gpt\",\n",
    "    \"/financial/gpt-4-will-revolutionise-the-financial-services-industry\",\n",
    "    \"/technology/preparing-for-a-future-dominated-by-artificial-intelligence\",\n",
    "    \"/environment/how-ai-is-revolutionizing-smart-waste-management\",\n",
    "    \"/society/gpt-and-the-quest-for-the-ghost-in-the-machine\"\n",
    "     ))]\n",
    "\n",
    "filtered_ninth_seeds = []\n",
    "for i in filtered_ninth_seed:\n",
    "    completeLink= 'https://www.bbntimes.com'+ i\n",
    "    filtered_ninth_seeds.append(completeLink)\n",
    "#print(filtered_ninth_seeds)\n",
    "\n",
    "for i in filtered_ninth_seeds:\n",
    "    print(i)\n",
    "#insert the orignal link for the seed \n",
    "#filtered_ninth_seed.insert(0, ninth_seed)"
   ]
  },
  {
   "cell_type": "markdown",
   "id": "d0776fcc",
   "metadata": {},
   "source": [
    "### Creating a CSV file that saves all the links that are relevant\n",
    "\n",
    "After crawling the first and second seed and finding links that might contain relevant vocabulary, I will save them into a CSV file. It might be useful at a later stage, to keep track of the words I have found in each link."
   ]
  },
  {
   "cell_type": "code",
   "execution_count": 27,
   "id": "322f19b9",
   "metadata": {
    "scrolled": true
   },
   "outputs": [
    {
     "name": "stdout",
     "output_type": "stream",
     "text": [
      "['https://futureoflife.org/open-letter/pause-giant-ai-experiments/', 'https://futureoflife.org/cause-area/artificial-intelligence/', 'https://futureoflife.org/open-letter/ai-principles/', 'https://openai.com/blog/planning-for-agi-and-beyond', 'https://futureoflife.org/ai/faqs-about-flis-open-letter-calling-for-a-pause-on-giant-ai-experiments/', 'https://arxiv.org/abs/2209.10604', 'https://arxiv.org/abs/2206.13353', 'https://arxiv.org/abs/2303.10130', 'https://arxiv.org/abs/2206.05862', 'https://arxiv.org/abs/2209.00626', 'https://arxiv.org/abs/2112.04359', 'https://abcnews.go.com/Technology/openai-ceo-sam-altman-ai-reshape-society-acknowledges/story?id=97897122', 'https://time.com/6246119/demis-hassabis-deepmind-interview/', 'https://arxiv.org/abs/2303.12712', 'https://www.bbc.com/worklife/article/20230418-ai-anxiety-artificial-intelligence-replace-jobs#:~:text=In%20March%2C%20Goldman%20Sachs%20published,by%20technology%20in%20three%20years.', 'https://www.pwc.com/gx/en/issues/workforce/hopes-and-fears-2022.html', 'https://www.technologyreview.com/2023/02/08/1068068/chatgpt-is-everywhere-heres-where-it-came-from/', 'https://journals.sagepub.com/doi/full/10.1177/23780231221131377', 'https://news.byu.edu/intellect/robots-are-taking-over-jobs-but-not-at-the-rate-you-might-think-says-byu-research', 'https://www.bbc.com/worklife/work-in-progress', 'https://mitsloan.mit.edu/ideas-made-to-matter/report-finds-employees-embrace-ai-when-they-see-its-value', 'https://mitsloan.mit.edu/ideas-made-to-matter/delta-model-how-arnoldo-hax-reprioritized-corporate-strategy', 'https://mitsloan.mit.edu/ideas-made-to-matter/its-time-to-rechart-course-technology-here-are-4-ways-to-start', 'https://mitsloan.mit.edu/ideas-made-to-matter/sec-commissioner-hester-peirce-not-a-fan-interventionist-approaches', 'https://mitsloan.mit.edu/ideas-made-to-matter/topics/artificial-intelligence', 'https://mitsloan.mit.edu/ideas-made-to-matter/sara-brown', 'https://mitsloan.mit.edu/ideas-made-to-matter/new-book-explores-how-ai-really-changes-way-we-work', 'https://mitsloan.mit.edu/ideas-made-to-matter/3-requirements-successful-artificial-intelligence-programs', 'https://mitsloan.mit.edu/ideas-made-to-matter/mit-sloan-research-artificial-intelligence-and-machine-learning', 'https://mitsloan.mit.edu/ideas-made-to-matter/job-seekers-ai-boosted-resumes-more-likely-to-be-hired', 'https://mitsloan.mit.edu/ideas-made-to-matter/new-podcast-explores-whether-data-can-solve-big-problems', 'https://www.bbvaopenmind.com/en/articles/artificial-intelligence-in-workplace-what-is-at-stake-for-workers/', 'https://www2.deloitte.com/insights/us/en/focus/human-capital-trends/2017/people-analytics-in-hr.html', 'https://osha.europa.eu/en/tools-and-publications/publications/foresight-new-and-emerging-occupational-safety-and-health-risks/view', 'https://www.businessinsider.in/i-tried-the-software-that-uses-ai-to-scan-job-applicants-for-companies-like-goldman-sachs-and-unilever-before-meeting-them-and-its-not-as-creepy-as-it-sounds/articleshow/60196231.cms', 'https://osha.europa.eu/en/tools-and-publications/publications/future-work-crowdsourcing/view', 'https://newsroom.ibm.com/2018-11-28-IBM-Talent-Business-Uses-AI-To-Rethink-The-Modern-Workforce', 'https://osha.europa.eu/en/tools-and-publications/seminars/focal-points-seminar-review-articles-future-work', 'https://www.pwc.com/gx/en/issues/data-and-analytics/publications/artificial-intelligence-study.html', 'https://www.bbvaopenmind.com/en/articles/the-impact-of-the-gig-economy/', 'https://www.bbvaopenmind.com/en/articles/advanced-tech-but-growth-slow-and-unequal-paradoxes-and-policies/', 'https://www.bbvaopenmind.com/en/books/work-in-the-age-of-data/', 'https://www.bbvaopenmind.com/en/articles/on-the-effects-of-artificial-intelligence-on-growth-and-employment/', 'https://www.bbvaopenmind.com/en/articles/measuring-productivity-in-the-context-of-technological-change/', 'https://www.bbvaopenmind.com/en/articles/inequality-in-the-digital-era/', 'https://www.bbvaopenmind.com/en/articles/intangible-capital-productivity-and-labor-markets/', 'https://www.bbvaopenmind.com/en/articles/causes-and-consequences-of-job-polarization-and-their-future-perspectives/', 'https://www.bbvaopenmind.com/en/articles/increasing-importance-of-working-consumers-impact-on-paid-workers/', 'https://www.bbvaopenmind.com/en/articles/hard-realities-of-entrepreneurship-in-global-economy/', 'https://www.bbvaopenmind.com/en/articles/a-new-social-contract-for-the-digital-age/', 'https://www.bbvaopenmind.com/en/articles/public-policies-in-the-age-of-digital-disruption/', 'https://www.bbvaopenmind.com/en/articles/institutions-policies-and-technologies-for-the-future-of-work/', 'https://www.bbvaopenmind.com/en/articles/the-digital-economy-and-learning/', 'https://www.bbvaopenmind.com/en/articles/the-power-of-everyone-why-work-revolution-demands-a-fresh-focus-on-inclusion/', 'https://www.bbvaopenmind.com/en/articles/ethical-leadership-in-a-new-age-of-work/', 'https://www.bbvaopenmind.com/en/articles/artificial-intelligence-and-the-future-of-work-chinese-perspective/', 'https://www.weforum.org/agenda/2022/01/artificial-intelligence-ai-technology-trust-survey/', 'https://www.weforum.org/topics/artificial-intelligence-and-robotics', 'https://www.weforum.org/agenda/authors/joe-myers-e357a678-184f-4be2-9895-dad15a2435b3', 'https://www.weforum.org/impact/ai-for-agriculture-in-india/', 'https://www.weforum.org/agenda/2021/12/ai-mental-health-cbt-therapy', 'https://www.weforum.org/agenda/2021/12/how-to-keep-human-in-human-resources-with-ai-based-tools', 'https://www.weforum.org/agenda/archive/emerging-technology', 'https://www.weforum.org/topics/emerging-technologies', 'https://www.weforum.org/agenda/2023/05/jobs-ai-cant-replace/', 'https://www.weforum.org/agenda/2023/05/emerging-technologies-human-crises-artificial-intelligence/', 'https://www.weforum.org/agenda/2023/05/workplace-technology-jobs-impact/', 'https://www.weforum.org/agenda/2023/05/unintentional-biased-ai-algorithm-years-ago/', 'https://www.weforum.org/agenda/2023/05/how-will-generative-ai-impact-healthcare/', 'https://www.weforum.org/agenda/2023/05/ai-work-creative/', 'https://ai100.stanford.edu/2021-report/standing-questions-and-responses/sq1-what-are-some-examples-pictures-reflect-important', 'https://ai100.stanford.edu/2021-report/standing-questions-and-responses/sq2-what-are-most-important-advances-ai', 'https://ai100.stanford.edu/2021-report/standing-questions-and-section-summaries/sq2-what-are-most-important-advances-ai', 'https://ai100.stanford.edu/2021-report/standing-questions-and-responses/sq3-what-are-most-inspiring-open-grand-challenge', 'https://ai100.stanford.edu/2021-report/standing-questions-and-section-summaries/sq3-what-are-most-inspiring-open-grand', 'https://ai100.stanford.edu/2021-report/standing-questions-and-responses/sq4-how-much-have-we-progressed-understanding-key', 'https://ai100.stanford.edu/2021-report/standing-questions-and-section-summaries/sq4-how-much-have-we-progressed-understanding', 'https://ai100.stanford.edu/2021-report/standing-questions-and-responses/sq5-what-are-prospects-more-general-artificial', 'https://ai100.stanford.edu/2021-report/standing-questions-and-section-summaries/sq5-what-are-prospects-more-general-artificial', 'https://ai100.stanford.edu/2021-report/standing-questions-and-responses/sq6-how-has-public-sentiment-towards-ai-evolved-and', 'https://ai100.stanford.edu/2021-report/standing-questions-and-section-summaries/sq6-how-has-public-sentiment-towards-ai', 'https://ai100.stanford.edu/2021-report/standing-questions-and-responses/sq7-how-should-governments-act-ensure-ai-developed-and', 'https://ai100.stanford.edu/2021-report/standing-questions-and-section-summaries/sq7-how-should-governments-act-ensure-ai', 'https://ai100.stanford.edu/2021-report/standing-questions-and-responses/sq8-what-should-roles-academia-and-industry-be', 'https://ai100.stanford.edu/2021-report/standing-questions-and-section-summaries/sq8-what-should-roles-academia-and-industry-be', 'https://ai100.stanford.edu/2021-report/standing-questions-and-responses/sq9-what-are-most-promising-opportunities-ai', 'https://ai100.stanford.edu/2021-report/standing-questions-and-section-summaries/sq9-what-are-most-promising-opportunities-ai', 'https://ai100.stanford.edu/2021-report/standing-questions-and-responses/sq10-what-are-most-pressing-dangers-ai', 'https://ai100.stanford.edu/2021-report/standing-questions-and-section-summaries/sq10-what-are-most-pressing-dangers-ai', 'https://ai100.stanford.edu/2021-report/standing-questions-and-responses/sq11-how-has-ai-impacted-socioeconomic-relationships', 'https://ai100.stanford.edu/2021-report/standing-questions-and-section-summaries/sq11-how-has-ai-impacted-socioeconomic', 'https://ai100.stanford.edu/2021-report/standing-questions-and-responses/sq12-does-it-appear-building-how-we-think-works', 'https://ai100.stanford.edu/2021-report/standing-questions-and-section-summaries/sq12-does-it-appear-building-how-we-think', 'https://www.theguardian.com/global-development/2023/may/12/why-would-we-employ-people-experts-on-five-ways-ai-will-change-work', 'https://www.theguardian.com/global-development/2023/mar/30/the-future-of-work-a-guardian-series', 'https://www.theguardian.com/technology/2023/feb/18/the-ai-industrial-revolution-puts-middle-class-workers-under-threat-this-time', 'https://www.theguardian.com/technology/2023/may/09/techscape-artificial-intelligence-risk', 'https://www.bbntimes.com/technology/crossing-the-threshold-into-the-ai-renaissance', 'https://www.bbntimes.com/technology/preparing-for-a-future-dominated-by-artificial-intelligence', 'https://www.bbntimes.com/environment/how-ai-is-revolutionizing-smart-waste-management', 'https://www.bbntimes.com/financial/gpt-4-will-revolutionise-the-financial-services-industry', 'https://www.bbntimes.com/politics/is-it-time-for-a-secretary-of-technology', 'https://www.bbntimes.com/science/postmodernism-and-the-hyperreality-of-gpt', 'https://www.bbntimes.com/society/gpt-and-the-quest-for-the-ghost-in-the-machine', 'https://futurism.com/the-byte/fear-ai-anxiety', 'https://www.beekeeper.io/blog/3-reasons-you-want-ai-in-the-workplace/', 'https://www.farrer.co.uk/news-and-insights/blogs/artificial-intelligence-in-the-workplace-helpful-or-harmful/', 'https://fortune.com/2023/03/13/artificial-intelligence-make-workplace-decisions-human-intelligence-remains-vital-careers-tech-gary-friedman/', 'https://www.mckinsey.com/featured-insights/future-of-work/ai-automation-and-the-future-of-work-ten-things-to-solve-for', 'https://www.bbntimes.com/technology/advantages-disadvantages-of-ai-in-the-workplace', 'https://en.wikipedia.org/wiki/Workplace_impact_of_artificial_intelligence', 'https://www.akerman.com/en/perspectives/hr-def-how-to-be-smart-about-using-artificial-intelligence-in-the-workplace.html', 'https://planergy.com/blog/how-ai-is-transforming-the-workplace/']\n"
     ]
    }
   ],
   "source": [
    "final_list_of_links = filtered_first_seed + filtered_second_seed + filtered_third_seeds + filtered_fourth_seed + filtered_fifth_seed + filtered_sixth_seed + filtered_seventh_seeds + filtered_eighth_seed + filtered_ninth_seeds\n",
    "\n",
    "##Adding extra website that have relevant content, but didn't have enough links to become a seed\n",
    "extra_research_links= \"https://futurism.com/the-byte/fear-ai-anxiety\", \"https://www.beekeeper.io/blog/3-reasons-you-want-ai-in-the-workplace/\", \"https://www.farrer.co.uk/news-and-insights/blogs/artificial-intelligence-in-the-workplace-helpful-or-harmful/\", \"https://fortune.com/2023/03/13/artificial-intelligence-make-workplace-decisions-human-intelligence-remains-vital-careers-tech-gary-friedman/\", \"https://www.mckinsey.com/featured-insights/future-of-work/ai-automation-and-the-future-of-work-ten-things-to-solve-for\", \"https://www.bbntimes.com/technology/advantages-disadvantages-of-ai-in-the-workplace\", \"https://en.wikipedia.org/wiki/Workplace_impact_of_artificial_intelligence\", \"https://www.akerman.com/en/perspectives/hr-def-how-to-be-smart-about-using-artificial-intelligence-in-the-workplace.html\", \"https://planergy.com/blog/how-ai-is-transforming-the-workplace/\" \n",
    "\n",
    "final_list_of_links.extend(extra_research_links)\n",
    "\n",
    "\n",
    "final_list_of_links = list(dict.fromkeys(final_list_of_links)) ##removing duplicate links\n",
    "print(final_list_of_links)"
   ]
  },
  {
   "cell_type": "code",
   "execution_count": 30,
   "id": "319f5775",
   "metadata": {},
   "outputs": [],
   "source": [
    "import pandas as pd\n",
    "\n",
    "#List of filtered links\n",
    "final_links = final_list_of_links\n",
    "dict = {'links': final_links}\n",
    "\n",
    "df = pd.DataFrame(dict)\n",
    "df\n",
    "#df.to_csv('Crawl_final_links.csv')"
   ]
  },
  {
   "cell_type": "code",
   "execution_count": null,
   "id": "2129394b",
   "metadata": {},
   "outputs": [],
   "source": []
  },
  {
   "cell_type": "code",
   "execution_count": null,
   "id": "034ed3fb",
   "metadata": {},
   "outputs": [],
   "source": []
  }
 ],
 "metadata": {
  "kernelspec": {
   "display_name": "Python 3 (ipykernel)",
   "language": "python",
   "name": "python3"
  },
  "language_info": {
   "codemirror_mode": {
    "name": "ipython",
    "version": 3
   },
   "file_extension": ".py",
   "mimetype": "text/x-python",
   "name": "python",
   "nbconvert_exporter": "python",
   "pygments_lexer": "ipython3",
   "version": "3.9.0"
  }
 },
 "nbformat": 4,
 "nbformat_minor": 5
}
