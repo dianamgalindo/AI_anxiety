{
 "cells": [
  {
   "cell_type": "markdown",
   "id": "e0360813",
   "metadata": {},
   "source": [
    "# 5. Word-to-vector Analysis\n",
    "<hr>\n",
    "After doing some sentiment analysis and emotion analysis, I have been able to find the 8 most common emotions that represent the data I have extracted and analysed. I am doing word-to-vector because my physical representation of the data requires 8 relevant words grouped in 2. To group them, I will use spacy and spicy, which will help me to measure how similar are these words between themselves."
   ]
  },
  {
   "cell_type": "code",
   "execution_count": 1,
   "id": "08921f3a",
   "metadata": {},
   "outputs": [],
   "source": [
    "import spacy\n",
    "from scipy import spatial\n",
    "import numpy as np"
   ]
  },
  {
   "cell_type": "code",
   "execution_count": 2,
   "id": "e1ea6f7d",
   "metadata": {},
   "outputs": [],
   "source": [
    "import spacy\n",
    "#spacy.cli.download(\"en_core_web_trf\")"
   ]
  },
  {
   "cell_type": "code",
   "execution_count": 4,
   "id": "5d94bb76",
   "metadata": {},
   "outputs": [],
   "source": [
    "nlp = spacy.load('en_core_web_lg')"
   ]
  },
  {
   "cell_type": "markdown",
   "id": "a14f1405",
   "metadata": {},
   "source": [
    "### Cosine similarity.\n",
    "- If the final value is 1, it means that the words are the same\n",
    "- If the final value is closer to 1, it means that the words are somehow similar\n",
    "- If the final value is closer or equal to 0, it means that the words are different"
   ]
  },
  {
   "cell_type": "code",
   "execution_count": 5,
   "id": "9b7f0071",
   "metadata": {},
   "outputs": [
    {
     "name": "stdout",
     "output_type": "stream",
     "text": [
      "cosine similarity between positive and positive is: 1.0\n",
      "cosine similarity between positive and negative is: 0.8790249824523926\n",
      "cosine similarity between trust and trust is: 1.0\n",
      "cosine similarity between anticipation and anticipation is: 1.0\n",
      "cosine similarity between negative and positive is: 0.8790249824523926\n",
      "cosine similarity between negative and negative is: 1.0\n",
      "cosine similarity between joy and joy is: 1.0\n",
      "cosine similarity between joy and sadness is: 0.6499127149581909\n",
      "cosine similarity between fear and fear is: 1.0\n",
      "cosine similarity between fear and sadness is: 0.6564838886260986\n",
      "cosine similarity between fear and anger is: 0.7523291707038879\n",
      "cosine similarity between sadness and joy is: 0.6499127149581909\n",
      "cosine similarity between sadness and fear is: 0.6564838886260986\n",
      "cosine similarity between sadness and sadness is: 1.0\n",
      "cosine similarity between sadness and anger is: 0.7101796865463257\n",
      "cosine similarity between anger and fear is: 0.7523291707038879\n",
      "cosine similarity between anger and sadness is: 0.7101796865463257\n",
      "cosine similarity between anger and anger is: 1.0\n"
     ]
    }
   ],
   "source": [
    "tokens = nlp('positive trust anticipation negative joy fear sadness anger')\n",
    "\n",
    "for t1 in tokens:\n",
    "    for t2 in tokens:\n",
    "        #print(t1.text,t2.text,t1.similarity(t2))\n",
    "        similarity = t1.similarity(t2)\n",
    "        if similarity > 0.6:\n",
    "            print('cosine similarity between',t1.text, 'and',t2.text, 'is:', similarity)\n",
    "            "
   ]
  },
  {
   "cell_type": "code",
   "execution_count": 6,
   "id": "e35c7a15",
   "metadata": {},
   "outputs": [
    {
     "name": "stdout",
     "output_type": "stream",
     "text": [
      "Requirement already satisfied: gensim in c:\\users\\diana\\appdata\\local\\programs\\python\\python39\\lib\\site-packages (4.3.1)\n",
      "Requirement already satisfied: scipy>=1.7.0 in c:\\users\\diana\\appdata\\local\\programs\\python\\python39\\lib\\site-packages (from gensim) (1.10.1)\n",
      "Requirement already satisfied: numpy>=1.18.5 in c:\\users\\diana\\appdata\\local\\programs\\python\\python39\\lib\\site-packages (from gensim) (1.24.2)\n",
      "Requirement already satisfied: smart-open>=1.8.1 in c:\\users\\diana\\appdata\\local\\programs\\python\\python39\\lib\\site-packages (from gensim) (6.3.0)\n"
     ]
    },
    {
     "name": "stderr",
     "output_type": "stream",
     "text": [
      "\n",
      "[notice] A new release of pip is available: 23.0 -> 23.1.2\n",
      "[notice] To update, run: c:\\users\\diana\\appdata\\local\\programs\\python\\python39\\python.exe -m pip install --upgrade pip\n"
     ]
    }
   ],
   "source": [
    "# import sys\n",
    "# !{sys.executable} -m pip install gensim"
   ]
  },
  {
   "cell_type": "code",
   "execution_count": 46,
   "id": "3d532dcf",
   "metadata": {},
   "outputs": [
    {
     "name": "stdout",
     "output_type": "stream",
     "text": [
      "Collecting scikit-learn\n",
      "  Downloading scikit_learn-1.2.2-cp39-cp39-win_amd64.whl (8.4 MB)\n",
      "     ---------------------------------------- 0.0/8.4 MB ? eta -:--:--\n",
      "      --------------------------------------- 0.2/8.4 MB 5.8 MB/s eta 0:00:02\n",
      "     -- ------------------------------------- 0.5/8.4 MB 6.0 MB/s eta 0:00:02\n",
      "     --- ------------------------------------ 0.7/8.4 MB 5.1 MB/s eta 0:00:02\n",
      "     ---- ----------------------------------- 1.0/8.4 MB 5.7 MB/s eta 0:00:02\n",
      "     ------ --------------------------------- 1.3/8.4 MB 5.7 MB/s eta 0:00:02\n",
      "     ------- -------------------------------- 1.5/8.4 MB 5.3 MB/s eta 0:00:02\n",
      "     -------- ------------------------------- 1.8/8.4 MB 5.7 MB/s eta 0:00:02\n",
      "     --------- ------------------------------ 2.1/8.4 MB 5.5 MB/s eta 0:00:02\n",
      "     ---------- ----------------------------- 2.3/8.4 MB 5.6 MB/s eta 0:00:02\n",
      "     ------------ --------------------------- 2.5/8.4 MB 5.5 MB/s eta 0:00:02\n",
      "     ------------- -------------------------- 2.8/8.4 MB 5.3 MB/s eta 0:00:02\n",
      "     -------------- ------------------------- 3.1/8.4 MB 5.5 MB/s eta 0:00:01\n",
      "     --------------- ------------------------ 3.3/8.4 MB 5.5 MB/s eta 0:00:01\n",
      "     ---------------- ----------------------- 3.4/8.4 MB 5.5 MB/s eta 0:00:01\n",
      "     ----------------- ---------------------- 3.7/8.4 MB 5.3 MB/s eta 0:00:01\n",
      "     ------------------- -------------------- 4.0/8.4 MB 5.3 MB/s eta 0:00:01\n",
      "     -------------------- ------------------- 4.3/8.4 MB 5.4 MB/s eta 0:00:01\n",
      "     --------------------- ------------------ 4.5/8.4 MB 5.3 MB/s eta 0:00:01\n",
      "     ---------------------- ----------------- 4.8/8.4 MB 5.3 MB/s eta 0:00:01\n",
      "     ------------------------ --------------- 5.1/8.4 MB 5.4 MB/s eta 0:00:01\n",
      "     ------------------------- -------------- 5.3/8.4 MB 5.4 MB/s eta 0:00:01\n",
      "     -------------------------- ------------- 5.5/8.4 MB 5.4 MB/s eta 0:00:01\n",
      "     --------------------------- ------------ 5.8/8.4 MB 5.4 MB/s eta 0:00:01\n",
      "     ---------------------------- ----------- 6.1/8.4 MB 5.4 MB/s eta 0:00:01\n",
      "     ------------------------------ --------- 6.4/8.4 MB 5.4 MB/s eta 0:00:01\n",
      "     ------------------------------- -------- 6.7/8.4 MB 5.5 MB/s eta 0:00:01\n",
      "     --------------------------------- ------ 6.9/8.4 MB 5.5 MB/s eta 0:00:01\n",
      "     ---------------------------------- ----- 7.1/8.4 MB 5.5 MB/s eta 0:00:01\n",
      "     ----------------------------------- ---- 7.4/8.4 MB 5.4 MB/s eta 0:00:01\n",
      "     ------------------------------------ --- 7.7/8.4 MB 5.5 MB/s eta 0:00:01\n",
      "     ------------------------------------- -- 7.9/8.4 MB 5.5 MB/s eta 0:00:01\n",
      "     ---------------------------------------  8.2/8.4 MB 5.5 MB/s eta 0:00:01\n",
      "     ---------------------------------------  8.4/8.4 MB 5.5 MB/s eta 0:00:01\n",
      "     ---------------------------------------- 8.4/8.4 MB 5.3 MB/s eta 0:00:00\n",
      "Requirement already satisfied: scipy>=1.3.2 in c:\\users\\diana\\appdata\\local\\programs\\python\\python39\\lib\\site-packages (from scikit-learn) (1.10.1)\n",
      "Requirement already satisfied: joblib>=1.1.1 in c:\\users\\diana\\appdata\\local\\programs\\python\\python39\\lib\\site-packages (from scikit-learn) (1.2.0)\n",
      "Requirement already satisfied: numpy>=1.17.3 in c:\\users\\diana\\appdata\\local\\programs\\python\\python39\\lib\\site-packages (from scikit-learn) (1.24.2)\n",
      "Collecting threadpoolctl>=2.0.0\n",
      "  Downloading threadpoolctl-3.1.0-py3-none-any.whl (14 kB)\n",
      "Installing collected packages: threadpoolctl, scikit-learn\n",
      "Successfully installed scikit-learn-1.2.2 threadpoolctl-3.1.0\n"
     ]
    },
    {
     "name": "stderr",
     "output_type": "stream",
     "text": [
      "\n",
      "[notice] A new release of pip is available: 23.0 -> 23.1.2\n",
      "[notice] To update, run: c:\\users\\diana\\appdata\\local\\programs\\python\\python39\\python.exe -m pip install --upgrade pip\n"
     ]
    }
   ],
   "source": [
    "# import sys\n",
    "# !{sys.executable} -m pip install scikit-learn"
   ]
  },
  {
   "cell_type": "code",
   "execution_count": 6,
   "id": "7e30a567",
   "metadata": {},
   "outputs": [],
   "source": [
    "import gensim\n",
    "from gensim.models import Word2Vec\n",
    "from sklearn.decomposition import PCA\n",
    "from matplotlib import pyplot"
   ]
  },
  {
   "cell_type": "code",
   "execution_count": 84,
   "id": "aea1f6bb",
   "metadata": {},
   "outputs": [],
   "source": [
    "tokens = [\n",
    "    ['positive', \n",
    "     'trust', \n",
    "     'anticipation', \n",
    "     'negative', \n",
    "     'joy', \n",
    "     'fear', \n",
    "     'sadness', \n",
    "     'anger']\n",
    "]"
   ]
  },
  {
   "cell_type": "code",
   "execution_count": 85,
   "id": "0bd94114",
   "metadata": {},
   "outputs": [],
   "source": [
    "# Create CBOW model\n",
    "model = gensim.models.Word2Vec(tokens, min_count = 1,\n",
    "                              vector_size = 200000, window = 5)\n",
    "##200000 vector size worked"
   ]
  },
  {
   "cell_type": "code",
   "execution_count": 87,
   "id": "a6c2960e",
   "metadata": {},
   "outputs": [
    {
     "name": "stdout",
     "output_type": "stream",
     "text": [
      "('positive', 0.0040717096999287605)\n",
      "('trust', 0.0024236778263002634)\n",
      "('sadness', 0.0012841515708714724)\n"
     ]
    }
   ],
   "source": [
    "similarity=  model.wv.most_similar(\"negative\", topn=3)\n",
    "for i in similarity:\n",
    "    print(i)"
   ]
  },
  {
   "cell_type": "code",
   "execution_count": 70,
   "id": "7a1365ed",
   "metadata": {},
   "outputs": [],
   "source": [
    "tokensvtwo = [\n",
    "    \n",
    "    'positive', \n",
    "     'trust', \n",
    "     'anticipation', \n",
    "     'negative', \n",
    "     'joy', \n",
    "     'fear', \n",
    "     'sadness', \n",
    "     'anger'\n",
    "]\n",
    "X = model.wv[tokensvtwo]\n",
    "pca = PCA(n_components = 2)\n",
    "result = pca.fit_transform(X)"
   ]
  },
  {
   "cell_type": "markdown",
   "id": "d09093fd",
   "metadata": {},
   "source": [
    "## Semantic relationship graph"
   ]
  },
  {
   "cell_type": "code",
   "execution_count": 71,
   "id": "0aeb6ebd",
   "metadata": {},
   "outputs": [
    {
     "data": {
      "image/png": "[encoded data removed]",
      "text/plain": [
       "<Figure size 640x480 with 1 Axes>"
      ]
     },
     "metadata": {},
     "output_type": "display_data"
    }
   ],
   "source": [
    "pyplot.scatter(result[:, 0], result[:, 1])\n",
    "for i, word in enumerate(tokensvtwo):\n",
    "    pyplot.annotate(word, xy=(result[i, 0], result[i, 1]))\n",
    "pyplot.show()"
   ]
  },
  {
   "cell_type": "markdown",
   "id": "ba877535",
   "metadata": {},
   "source": [
    "## Cosine Similarity using Gensim"
   ]
  },
  {
   "cell_type": "code",
   "execution_count": 72,
   "id": "1011b674",
   "metadata": {},
   "outputs": [],
   "source": [
    "from sklearn.metrics.pairwise import cosine_similarity"
   ]
  },
  {
   "cell_type": "code",
   "execution_count": 78,
   "id": "796fffab",
   "metadata": {},
   "outputs": [
    {
     "name": "stdout",
     "output_type": "stream",
     "text": [
      "-0.0024669997\n",
      "The tokens 'sadness' and 'anger' are dissimilar.\n"
     ]
    }
   ],
   "source": [
    "token1 = 'sadness'\n",
    "token2 = 'anger'\n",
    "vector1 = model.wv[token1]\n",
    "vector2 = model.wv[token2]\n",
    "\n",
    "##calculate cosine similarity\n",
    "\n",
    "cosine_sim= cosine_similarity([vector1], [vector2])[0][0]\n",
    "print(cosine_sim)\n",
    "\n",
    "similarity_threshold = 0.5\n",
    "\n",
    "# Compare cosine similarity against the threshold\n",
    "if cosine_sim > similarity_threshold:\n",
    "    print(f\"The tokens '{token1}' and '{token2}' are similar.\")\n",
    "else:\n",
    "    print(f\"The tokens '{token1}' and '{token2}' are dissimilar.\")\n"
   ]
  },
  {
   "cell_type": "code",
   "execution_count": 74,
   "id": "65545b06",
   "metadata": {},
   "outputs": [
    {
     "name": "stdout",
     "output_type": "stream",
     "text": [
      "Cosine similarity between 'sadness' and 'anger' - CBOW :  -0.0024669988\n"
     ]
    }
   ],
   "source": [
    "print(\"Cosine similarity between 'sadness' \" +\n",
    "               \"and 'anger' - CBOW : \",\n",
    "    model.wv.similarity('sadness', 'anger'))"
   ]
  },
  {
   "cell_type": "code",
   "execution_count": 75,
   "id": "5245b13b",
   "metadata": {},
   "outputs": [
    {
     "name": "stdout",
     "output_type": "stream",
     "text": [
      "Cosine similarity between 'anticipation' and 'trust' - CBOW :  -0.005595846\n"
     ]
    }
   ],
   "source": [
    "print(\"Cosine similarity between 'anticipation' \" +\n",
    "               \"and 'trust' - CBOW : \",\n",
    "    model.wv.similarity('anticipation', 'trust'))"
   ]
  },
  {
   "cell_type": "code",
   "execution_count": 76,
   "id": "e4ed4835",
   "metadata": {},
   "outputs": [
    {
     "name": "stdout",
     "output_type": "stream",
     "text": [
      "(['positive', 'trust', 'anticipation', 'negative', 'joy', 'fear', 'sadness', 'anger', 'fright'], ['positive', 'trust', 'anticipation', 'negative', 'joy', 'fear', 'sadness', 'anger', 'fright'])\n"
     ]
    }
   ],
   "source": [
    "for t1 in tokens:\n",
    "    for t2 in tokens:\n",
    "#         model = gensim.models.Word2Vec(tokens, min_count = 1,\n",
    "#                               vector_size = 100, window = 5)\n",
    "#         print(model.wv.similarity(t1, t2))\n",
    "        print((t1, t2))\n",
    "       \n",
    "            "
   ]
  },
  {
   "cell_type": "code",
   "execution_count": 9,
   "id": "77278237",
   "metadata": {},
   "outputs": [
    {
     "name": "stdout",
     "output_type": "stream",
     "text": [
      "positive\n",
      "[('joy', 0.0013782888418063521), ('anticipation', 0.0013228420866653323), ('sadness', 0.0003440550935920328), ('negative', 0.0002851614844985306), ('anger', 0.00024771649623289704), ('fright', 0.00015517424617428333), ('fear', 7.904101948952302e-05), ('trust', -0.0012242303928360343)]\n",
      "trust\n",
      "[('fear', 0.0012816041707992554), ('joy', 0.001117040985263884), ('sadness', 0.001084833755157888), ('fright', 0.000754711392801255), ('anger', 4.104587424080819e-05), ('anticipation', -0.0011995573295280337), ('positive', -0.0012242302764207125), ('negative', -0.0016581065719947219)]\n",
      "anticipation\n",
      "[('positive', 0.001322842901572585), ('fright', 0.0011060453252866864), ('sadness', 0.00028687785379588604), ('joy', -0.00022468873066827655), ('negative', -0.0011086765443906188), ('trust', -0.0011995563982054591), ('anger', -0.00133418885525316), ('fear', -0.0018487871857360005)]\n",
      "negative\n",
      "[('fear', 0.0012981236213818192), ('joy', 0.001095814979635179), ('fright', 0.0008161002187989652), ('positive', 0.00028516261954791844), ('anger', 0.0002802660164888948), ('anticipation', -0.0011086767772212625), ('trust', -0.0016581069212406874), ('sadness', -0.0016582868993282318)]\n",
      "joy\n",
      "[('positive', 0.0013782887253910303), ('anger', 0.0011944457655772567), ('trust', 0.0011170413345098495), ('negative', 0.0010958153288811445), ('sadness', 0.0003813439980149269), ('anticipation', -0.00022468873066827655), ('fear', -0.0009140514302998781), ('fright', -0.001125300652347505)]\n",
      "fear\n",
      "[('negative', 0.0012981235049664974), ('trust', 0.0012816046364605427), ('anger', 0.00022398964210879058), ('positive', 7.904155063442886e-05), ('sadness', -0.00042029001633636653), ('fright', -0.0006508325459435582), ('joy', -0.0009140515467152), ('anticipation', -0.001848785555921495)]\n",
      "sadness\n",
      "[('trust', 0.0010848331730812788), ('fright', 0.0005625813500955701), ('joy', 0.00038134452188387513), ('positive', 0.00034405424958094954), ('anticipation', 0.0002868782903533429), ('fear', -0.0004202898417133838), ('anger', -0.00046171198482625186), ('negative', -0.0016582870157435536)]\n",
      "anger\n",
      "[('joy', 0.0011944473953917623), ('fright', 0.0006719789816997945), ('negative', 0.0002802664239425212), ('positive', 0.0002477162051945925), ('fear', 0.00022398933651857078), ('trust', 4.104457184439525e-05), ('sadness', -0.0004617114900611341), ('anticipation', -0.0013341894373297691)]\n",
      "fright\n",
      "[('anticipation', 0.001106045674532652), ('negative', 0.0008160999859683216), ('trust', 0.000754712033085525), ('anger', 0.0006719795055687428), ('sadness', 0.0005625822814181447), ('positive', 0.00015517338761128485), ('fear', -0.0006508324295282364), ('joy', -0.0011253015836700797)]\n"
     ]
    }
   ],
   "source": [
    "finalTokens= [\n",
    "     'positive', \n",
    "     'trust', \n",
    "     'anticipation', \n",
    "     'negative', \n",
    "     'joy', \n",
    "     'fear', \n",
    "     'sadness', \n",
    "     'anger',\n",
    "    \n",
    "]\n",
    "\n",
    "for i in finalTokens:\n",
    "    print(i)\n",
    "    print(model.wv.most_similar(i))"
   ]
  },
  {
   "cell_type": "code",
   "execution_count": 11,
   "id": "0e4b7bcc",
   "metadata": {},
   "outputs": [
    {
     "name": "stdout",
     "output_type": "stream",
     "text": [
      "[ 7.5758578e-08 -1.4587449e-07  3.8995492e-07 ...  3.1456483e-07\n",
      " -3.2421266e-07 -6.1963033e-07]\n"
     ]
    }
   ],
   "source": [
    "print(model.wv['fear'])"
   ]
  },
  {
   "cell_type": "code",
   "execution_count": 10,
   "id": "0f27f640",
   "metadata": {},
   "outputs": [
    {
     "name": "stdout",
     "output_type": "stream",
     "text": [
      "[-5.3622724e-08  2.3643135e-08  5.1033498e-07 ... -7.2163402e-07\n",
      " -9.5109630e-07  7.5647114e-07]\n"
     ]
    }
   ],
   "source": [
    "print(model.wv['fright'])"
   ]
  }
 ],
 "metadata": {
  "kernelspec": {
   "display_name": "Python 3 (ipykernel)",
   "language": "python",
   "name": "python3"
  },
  "language_info": {
   "codemirror_mode": {
    "name": "ipython",
    "version": 3
   },
   "file_extension": ".py",
   "mimetype": "text/x-python",
   "name": "python",
   "nbconvert_exporter": "python",
   "pygments_lexer": "ipython3",
   "version": "3.9.0"
  }
 },
 "nbformat": 4,
 "nbformat_minor": 5
}
