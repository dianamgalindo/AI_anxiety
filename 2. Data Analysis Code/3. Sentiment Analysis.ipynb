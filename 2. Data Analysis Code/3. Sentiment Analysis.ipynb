{
 "cells": [
  {
   "cell_type": "markdown",
   "id": "a0e76720",
   "metadata": {},
   "source": [
    "## How are people feeling about AI and its impact in the workplace?\n",
    "### Analysing the cleaned text and performing sentiment analysis.\n",
    "<hr>\n",
    "After finding the relevant tokens for each website, I prepared the text to be analysed with the nltk.sentiment.vader library.\n",
    "One of the issues I found during this stage was the correct working of a data frame column. I learnt that the column of tokens needed to be converted into a numpy array first to be able to apply str/ list functions to it."
   ]
  },
  {
   "cell_type": "code",
   "execution_count": 14,
   "id": "aea03695",
   "metadata": {},
   "outputs": [
    {
     "name": "stderr",
     "output_type": "stream",
     "text": [
      "[nltk_data] Downloading package stopwords to\n",
      "[nltk_data]     C:\\Users\\Diana\\AppData\\Roaming\\nltk_data...\n",
      "[nltk_data]   Package stopwords is already up-to-date!\n",
      "[nltk_data] Downloading package vader_lexicon to\n",
      "[nltk_data]     C:\\Users\\Diana\\AppData\\Roaming\\nltk_data...\n",
      "[nltk_data]   Package vader_lexicon is already up-to-date!\n"
     ]
    }
   ],
   "source": [
    "import requests\n",
    "import pandas as pd\n",
    "import nltk\n",
    "nltk.download('stopwords')\n",
    "nltk.download('vader_lexicon')\n",
    "from nltk.tokenize import TweetTokenizer\n",
    "from nltk.corpus import stopwords\n",
    "from nltk.sentiment import SentimentIntensityAnalyzer\n",
    "import string\n",
    "import numpy as np\n",
    "import re"
   ]
  },
  {
   "cell_type": "markdown",
   "id": "536b5e54",
   "metadata": {},
   "source": [
    "### Load my previously built CSV\n",
    "This CSV contains:\n",
    "- The web_id, which simply correspond to the total amount of webistes in the file. \n",
    "- Links:the links I have previously scraped\n",
    "- Tokens: the cleaned text I extracted from each link"
   ]
  },
  {
   "cell_type": "code",
   "execution_count": 15,
   "id": "ef67d953",
   "metadata": {},
   "outputs": [
    {
     "data": {
      "text/html": [
       "<div>\n",
       "<style scoped>\n",
       "    .dataframe tbody tr th:only-of-type {\n",
       "        vertical-align: middle;\n",
       "    }\n",
       "\n",
       "    .dataframe tbody tr th {\n",
       "        vertical-align: top;\n",
       "    }\n",
       "\n",
       "    .dataframe thead th {\n",
       "        text-align: right;\n",
       "    }\n",
       "</style>\n",
       "<table border=\"1\" class=\"dataframe\">\n",
       "  <thead>\n",
       "    <tr style=\"text-align: right;\">\n",
       "      <th></th>\n",
       "      <th>web_id</th>\n",
       "      <th>links</th>\n",
       "      <th>tokens</th>\n",
       "    </tr>\n",
       "  </thead>\n",
       "  <tbody>\n",
       "    <tr>\n",
       "      <th>0</th>\n",
       "      <td>0</td>\n",
       "      <td>https://futureoflife.org/open-letter/pause-gia...</td>\n",
       "      <td>['pause', 'giant', 'ai', 'experiments', 'open'...</td>\n",
       "    </tr>\n",
       "    <tr>\n",
       "      <th>1</th>\n",
       "      <td>1</td>\n",
       "      <td>https://futureoflife.org/cause-area/artificial...</td>\n",
       "      <td>['artificial', 'future', 'life', 'institute', ...</td>\n",
       "    </tr>\n",
       "    <tr>\n",
       "      <th>2</th>\n",
       "      <td>2</td>\n",
       "      <td>https://futureoflife.org/open-letter/ai-princi...</td>\n",
       "      <td>['ai', 'principles', 'future', 'life', 'instit...</td>\n",
       "    </tr>\n",
       "    <tr>\n",
       "      <th>3</th>\n",
       "      <td>3</td>\n",
       "      <td>https://openai.com/blog/planning-for-agi-and-b...</td>\n",
       "      <td>['planning', 'agi', 'beyond', 'closesearch', '...</td>\n",
       "    </tr>\n",
       "    <tr>\n",
       "      <th>4</th>\n",
       "      <td>4</td>\n",
       "      <td>https://futureoflife.org/ai/faqs-about-flis-op...</td>\n",
       "      <td>['faqs', 'fli', 'open', 'letter', 'calling', '...</td>\n",
       "    </tr>\n",
       "    <tr>\n",
       "      <th>...</th>\n",
       "      <td>...</td>\n",
       "      <td>...</td>\n",
       "      <td>...</td>\n",
       "    </tr>\n",
       "    <tr>\n",
       "      <th>108</th>\n",
       "      <td>108</td>\n",
       "      <td>https://www.mckinsey.com/featured-insights/fut...</td>\n",
       "      <td>['ai', 'automation', 'future', 'work', 'ten', ...</td>\n",
       "    </tr>\n",
       "    <tr>\n",
       "      <th>109</th>\n",
       "      <td>109</td>\n",
       "      <td>https://www.bbntimes.com/technology/advantages...</td>\n",
       "      <td>['advantages', 'ai', 'workplace', 'advantages'...</td>\n",
       "    </tr>\n",
       "    <tr>\n",
       "      <th>110</th>\n",
       "      <td>110</td>\n",
       "      <td>https://en.wikipedia.org/wiki/Workplace_impact...</td>\n",
       "      <td>['workplace', 'impact', 'artificial', 'wikiped...</td>\n",
       "    </tr>\n",
       "    <tr>\n",
       "      <th>111</th>\n",
       "      <td>111</td>\n",
       "      <td>https://www.akerman.com/en/perspectives/hr-def...</td>\n",
       "      <td>['hr', 'def', 'â\\x80\\x9csmartâ\\x80\\x9d', 'usin...</td>\n",
       "    </tr>\n",
       "    <tr>\n",
       "      <th>112</th>\n",
       "      <td>112</td>\n",
       "      <td>https://planergy.com/blog/how-ai-is-transformi...</td>\n",
       "      <td>['forbidden', 'forbidden', 'nginx']</td>\n",
       "    </tr>\n",
       "  </tbody>\n",
       "</table>\n",
       "<p>113 rows × 3 columns</p>\n",
       "</div>"
      ],
      "text/plain": [
       "     web_id                                              links  \\\n",
       "0         0  https://futureoflife.org/open-letter/pause-gia...   \n",
       "1         1  https://futureoflife.org/cause-area/artificial...   \n",
       "2         2  https://futureoflife.org/open-letter/ai-princi...   \n",
       "3         3  https://openai.com/blog/planning-for-agi-and-b...   \n",
       "4         4  https://futureoflife.org/ai/faqs-about-flis-op...   \n",
       "..      ...                                                ...   \n",
       "108     108  https://www.mckinsey.com/featured-insights/fut...   \n",
       "109     109  https://www.bbntimes.com/technology/advantages...   \n",
       "110     110  https://en.wikipedia.org/wiki/Workplace_impact...   \n",
       "111     111  https://www.akerman.com/en/perspectives/hr-def...   \n",
       "112     112  https://planergy.com/blog/how-ai-is-transformi...   \n",
       "\n",
       "                                                tokens  \n",
       "0    ['pause', 'giant', 'ai', 'experiments', 'open'...  \n",
       "1    ['artificial', 'future', 'life', 'institute', ...  \n",
       "2    ['ai', 'principles', 'future', 'life', 'instit...  \n",
       "3    ['planning', 'agi', 'beyond', 'closesearch', '...  \n",
       "4    ['faqs', 'fli', 'open', 'letter', 'calling', '...  \n",
       "..                                                 ...  \n",
       "108  ['ai', 'automation', 'future', 'work', 'ten', ...  \n",
       "109  ['advantages', 'ai', 'workplace', 'advantages'...  \n",
       "110  ['workplace', 'impact', 'artificial', 'wikiped...  \n",
       "111  ['hr', 'def', 'â\\x80\\x9csmartâ\\x80\\x9d', 'usin...  \n",
       "112                ['forbidden', 'forbidden', 'nginx']  \n",
       "\n",
       "[113 rows x 3 columns]"
      ]
     },
     "execution_count": 15,
     "metadata": {},
     "output_type": "execute_result"
    }
   ],
   "source": [
    "dataFrame = pd.read_csv(\"Cleaned_data.csv\")\n",
    "#dataFrame.drop('Unnamed: 0', inplace=True, axis =1)\n",
    "dataFrame.rename(columns={'Unnamed: 0': 'web_id'}, inplace = True)\n",
    "dataFrame"
   ]
  },
  {
   "cell_type": "markdown",
   "id": "e33a721e",
   "metadata": {},
   "source": [
    "### Creating a function that prepares the text to be analysed\n",
    "Because the content on the 'tokens' column is a list of strings, I need to iterate over each list and remove the commas and the quotation marks, so that I get a long string that can be analysed."
   ]
  },
  {
   "cell_type": "code",
   "execution_count": 16,
   "id": "6cf72450",
   "metadata": {
    "scrolled": true
   },
   "outputs": [],
   "source": [
    "##converting my dataFrame column into a numpy array\n",
    "tokenList = dataFrame['tokens'].to_numpy()\n",
    "#print(tokenList)\n",
    "        \n",
    "def freedTokens(tokenList):\n",
    "    \n",
    "    modifiedList = []\n",
    "    \n",
    "    for token in tokenList:\n",
    "        #print(token)\n",
    "        remove = re.sub(r'[,\\']', '', token)\n",
    "        modifiedList.append(remove)\n",
    "    return modifiedList\n",
    "\n",
    "#print(freedTokens(tokenList))"
   ]
  },
  {
   "cell_type": "code",
   "execution_count": 17,
   "id": "11c6ff55",
   "metadata": {},
   "outputs": [
    {
     "data": {
      "text/html": [
       "<div>\n",
       "<style scoped>\n",
       "    .dataframe tbody tr th:only-of-type {\n",
       "        vertical-align: middle;\n",
       "    }\n",
       "\n",
       "    .dataframe tbody tr th {\n",
       "        vertical-align: top;\n",
       "    }\n",
       "\n",
       "    .dataframe thead th {\n",
       "        text-align: right;\n",
       "    }\n",
       "</style>\n",
       "<table border=\"1\" class=\"dataframe\">\n",
       "  <thead>\n",
       "    <tr style=\"text-align: right;\">\n",
       "      <th></th>\n",
       "      <th>web_id</th>\n",
       "      <th>links</th>\n",
       "      <th>tokens</th>\n",
       "      <th>stringToken</th>\n",
       "    </tr>\n",
       "  </thead>\n",
       "  <tbody>\n",
       "    <tr>\n",
       "      <th>0</th>\n",
       "      <td>0</td>\n",
       "      <td>https://futureoflife.org/open-letter/pause-gia...</td>\n",
       "      <td>['pause', 'giant', 'ai', 'experiments', 'open'...</td>\n",
       "      <td>[pause giant ai experiments open letter future...</td>\n",
       "    </tr>\n",
       "    <tr>\n",
       "      <th>1</th>\n",
       "      <td>1</td>\n",
       "      <td>https://futureoflife.org/cause-area/artificial...</td>\n",
       "      <td>['artificial', 'future', 'life', 'institute', ...</td>\n",
       "      <td>[artificial future life institute skip content...</td>\n",
       "    </tr>\n",
       "    <tr>\n",
       "      <th>2</th>\n",
       "      <td>2</td>\n",
       "      <td>https://futureoflife.org/open-letter/ai-princi...</td>\n",
       "      <td>['ai', 'principles', 'future', 'life', 'instit...</td>\n",
       "      <td>[ai principles future life institute skip cont...</td>\n",
       "    </tr>\n",
       "    <tr>\n",
       "      <th>3</th>\n",
       "      <td>3</td>\n",
       "      <td>https://openai.com/blog/planning-for-agi-and-b...</td>\n",
       "      <td>['planning', 'agi', 'beyond', 'closesearch', '...</td>\n",
       "      <td>[planning agi beyond closesearch submit skip m...</td>\n",
       "    </tr>\n",
       "    <tr>\n",
       "      <th>4</th>\n",
       "      <td>4</td>\n",
       "      <td>https://futureoflife.org/ai/faqs-about-flis-op...</td>\n",
       "      <td>['faqs', 'fli', 'open', 'letter', 'calling', '...</td>\n",
       "      <td>[faqs fli open letter calling pause giant ai e...</td>\n",
       "    </tr>\n",
       "    <tr>\n",
       "      <th>...</th>\n",
       "      <td>...</td>\n",
       "      <td>...</td>\n",
       "      <td>...</td>\n",
       "      <td>...</td>\n",
       "    </tr>\n",
       "    <tr>\n",
       "      <th>108</th>\n",
       "      <td>108</td>\n",
       "      <td>https://www.mckinsey.com/featured-insights/fut...</td>\n",
       "      <td>['ai', 'automation', 'future', 'work', 'ten', ...</td>\n",
       "      <td>[ai automation future work ten things solve te...</td>\n",
       "    </tr>\n",
       "    <tr>\n",
       "      <th>109</th>\n",
       "      <td>109</td>\n",
       "      <td>https://www.bbntimes.com/technology/advantages...</td>\n",
       "      <td>['advantages', 'ai', 'workplace', 'advantages'...</td>\n",
       "      <td>[advantages ai workplace advantages ai workpla...</td>\n",
       "    </tr>\n",
       "    <tr>\n",
       "      <th>110</th>\n",
       "      <td>110</td>\n",
       "      <td>https://en.wikipedia.org/wiki/Workplace_impact...</td>\n",
       "      <td>['workplace', 'impact', 'artificial', 'wikiped...</td>\n",
       "      <td>[workplace impact artificial wikipedia jump co...</td>\n",
       "    </tr>\n",
       "    <tr>\n",
       "      <th>111</th>\n",
       "      <td>111</td>\n",
       "      <td>https://www.akerman.com/en/perspectives/hr-def...</td>\n",
       "      <td>['hr', 'def', 'â\\x80\\x9csmartâ\\x80\\x9d', 'usin...</td>\n",
       "      <td>[hr def â\\x80\\x9csmartâ\\x80\\x9d using artifici...</td>\n",
       "    </tr>\n",
       "    <tr>\n",
       "      <th>112</th>\n",
       "      <td>112</td>\n",
       "      <td>https://planergy.com/blog/how-ai-is-transformi...</td>\n",
       "      <td>['forbidden', 'forbidden', 'nginx']</td>\n",
       "      <td>[forbidden forbidden nginx]</td>\n",
       "    </tr>\n",
       "  </tbody>\n",
       "</table>\n",
       "<p>113 rows × 4 columns</p>\n",
       "</div>"
      ],
      "text/plain": [
       "     web_id                                              links  \\\n",
       "0         0  https://futureoflife.org/open-letter/pause-gia...   \n",
       "1         1  https://futureoflife.org/cause-area/artificial...   \n",
       "2         2  https://futureoflife.org/open-letter/ai-princi...   \n",
       "3         3  https://openai.com/blog/planning-for-agi-and-b...   \n",
       "4         4  https://futureoflife.org/ai/faqs-about-flis-op...   \n",
       "..      ...                                                ...   \n",
       "108     108  https://www.mckinsey.com/featured-insights/fut...   \n",
       "109     109  https://www.bbntimes.com/technology/advantages...   \n",
       "110     110  https://en.wikipedia.org/wiki/Workplace_impact...   \n",
       "111     111  https://www.akerman.com/en/perspectives/hr-def...   \n",
       "112     112  https://planergy.com/blog/how-ai-is-transformi...   \n",
       "\n",
       "                                                tokens  \\\n",
       "0    ['pause', 'giant', 'ai', 'experiments', 'open'...   \n",
       "1    ['artificial', 'future', 'life', 'institute', ...   \n",
       "2    ['ai', 'principles', 'future', 'life', 'instit...   \n",
       "3    ['planning', 'agi', 'beyond', 'closesearch', '...   \n",
       "4    ['faqs', 'fli', 'open', 'letter', 'calling', '...   \n",
       "..                                                 ...   \n",
       "108  ['ai', 'automation', 'future', 'work', 'ten', ...   \n",
       "109  ['advantages', 'ai', 'workplace', 'advantages'...   \n",
       "110  ['workplace', 'impact', 'artificial', 'wikiped...   \n",
       "111  ['hr', 'def', 'â\\x80\\x9csmartâ\\x80\\x9d', 'usin...   \n",
       "112                ['forbidden', 'forbidden', 'nginx']   \n",
       "\n",
       "                                           stringToken  \n",
       "0    [pause giant ai experiments open letter future...  \n",
       "1    [artificial future life institute skip content...  \n",
       "2    [ai principles future life institute skip cont...  \n",
       "3    [planning agi beyond closesearch submit skip m...  \n",
       "4    [faqs fli open letter calling pause giant ai e...  \n",
       "..                                                 ...  \n",
       "108  [ai automation future work ten things solve te...  \n",
       "109  [advantages ai workplace advantages ai workpla...  \n",
       "110  [workplace impact artificial wikipedia jump co...  \n",
       "111  [hr def â\\x80\\x9csmartâ\\x80\\x9d using artifici...  \n",
       "112                        [forbidden forbidden nginx]  \n",
       "\n",
       "[113 rows x 4 columns]"
      ]
     },
     "execution_count": 17,
     "metadata": {},
     "output_type": "execute_result"
    }
   ],
   "source": [
    "#dataFrame['stringToken'] = dataFrame['tokens'].apply(lambda tokenList: freedTokens(tokenList))\n",
    "dataFrame['stringToken'] = freedTokens(tokenList)\n",
    "dataFrame"
   ]
  },
  {
   "cell_type": "markdown",
   "id": "a732512b",
   "metadata": {},
   "source": [
    "### Sentiment analysis\n",
    "After preparing the text, I now find the average 'positivity', 'negativity', and 'neutrality' for each link.\n",
    "At the end I find the 'compound' value, which is the 'final average'. The compound value helps me to understand the general sentiment present in the text:\n",
    "- If the compound value is more than 0, the sentiment is positive\n",
    "- If the compound value is less than 0, the sentiment is negative\n",
    "- if the compound value is equal to 0, the sentiment is neutral"
   ]
  },
  {
   "cell_type": "code",
   "execution_count": 18,
   "id": "fced36d6",
   "metadata": {},
   "outputs": [
    {
     "data": {
      "text/html": [
       "<div>\n",
       "<style scoped>\n",
       "    .dataframe tbody tr th:only-of-type {\n",
       "        vertical-align: middle;\n",
       "    }\n",
       "\n",
       "    .dataframe tbody tr th {\n",
       "        vertical-align: top;\n",
       "    }\n",
       "\n",
       "    .dataframe thead th {\n",
       "        text-align: right;\n",
       "    }\n",
       "</style>\n",
       "<table border=\"1\" class=\"dataframe\">\n",
       "  <thead>\n",
       "    <tr style=\"text-align: right;\">\n",
       "      <th></th>\n",
       "      <th>web_id</th>\n",
       "      <th>links</th>\n",
       "      <th>tokens</th>\n",
       "      <th>stringToken</th>\n",
       "      <th>positive_sentiment</th>\n",
       "    </tr>\n",
       "  </thead>\n",
       "  <tbody>\n",
       "    <tr>\n",
       "      <th>0</th>\n",
       "      <td>0</td>\n",
       "      <td>https://futureoflife.org/open-letter/pause-gia...</td>\n",
       "      <td>['pause', 'giant', 'ai', 'experiments', 'open'...</td>\n",
       "      <td>[pause giant ai experiments open letter future...</td>\n",
       "      <td>0.180</td>\n",
       "    </tr>\n",
       "    <tr>\n",
       "      <th>1</th>\n",
       "      <td>1</td>\n",
       "      <td>https://futureoflife.org/cause-area/artificial...</td>\n",
       "      <td>['artificial', 'future', 'life', 'institute', ...</td>\n",
       "      <td>[artificial future life institute skip content...</td>\n",
       "      <td>0.167</td>\n",
       "    </tr>\n",
       "    <tr>\n",
       "      <th>2</th>\n",
       "      <td>2</td>\n",
       "      <td>https://futureoflife.org/open-letter/ai-princi...</td>\n",
       "      <td>['ai', 'principles', 'future', 'life', 'instit...</td>\n",
       "      <td>[ai principles future life institute skip cont...</td>\n",
       "      <td>0.224</td>\n",
       "    </tr>\n",
       "    <tr>\n",
       "      <th>3</th>\n",
       "      <td>3</td>\n",
       "      <td>https://openai.com/blog/planning-for-agi-and-b...</td>\n",
       "      <td>['planning', 'agi', 'beyond', 'closesearch', '...</td>\n",
       "      <td>[planning agi beyond closesearch submit skip m...</td>\n",
       "      <td>0.261</td>\n",
       "    </tr>\n",
       "    <tr>\n",
       "      <th>4</th>\n",
       "      <td>4</td>\n",
       "      <td>https://futureoflife.org/ai/faqs-about-flis-op...</td>\n",
       "      <td>['faqs', 'fli', 'open', 'letter', 'calling', '...</td>\n",
       "      <td>[faqs fli open letter calling pause giant ai e...</td>\n",
       "      <td>0.185</td>\n",
       "    </tr>\n",
       "    <tr>\n",
       "      <th>...</th>\n",
       "      <td>...</td>\n",
       "      <td>...</td>\n",
       "      <td>...</td>\n",
       "      <td>...</td>\n",
       "      <td>...</td>\n",
       "    </tr>\n",
       "    <tr>\n",
       "      <th>108</th>\n",
       "      <td>108</td>\n",
       "      <td>https://www.mckinsey.com/featured-insights/fut...</td>\n",
       "      <td>['ai', 'automation', 'future', 'work', 'ten', ...</td>\n",
       "      <td>[ai automation future work ten things solve te...</td>\n",
       "      <td>0.207</td>\n",
       "    </tr>\n",
       "    <tr>\n",
       "      <th>109</th>\n",
       "      <td>109</td>\n",
       "      <td>https://www.bbntimes.com/technology/advantages...</td>\n",
       "      <td>['advantages', 'ai', 'workplace', 'advantages'...</td>\n",
       "      <td>[advantages ai workplace advantages ai workpla...</td>\n",
       "      <td>0.218</td>\n",
       "    </tr>\n",
       "    <tr>\n",
       "      <th>110</th>\n",
       "      <td>110</td>\n",
       "      <td>https://en.wikipedia.org/wiki/Workplace_impact...</td>\n",
       "      <td>['workplace', 'impact', 'artificial', 'wikiped...</td>\n",
       "      <td>[workplace impact artificial wikipedia jump co...</td>\n",
       "      <td>0.120</td>\n",
       "    </tr>\n",
       "    <tr>\n",
       "      <th>111</th>\n",
       "      <td>111</td>\n",
       "      <td>https://www.akerman.com/en/perspectives/hr-def...</td>\n",
       "      <td>['hr', 'def', 'â\\x80\\x9csmartâ\\x80\\x9d', 'usin...</td>\n",
       "      <td>[hr def â\\x80\\x9csmartâ\\x80\\x9d using artifici...</td>\n",
       "      <td>0.149</td>\n",
       "    </tr>\n",
       "    <tr>\n",
       "      <th>112</th>\n",
       "      <td>112</td>\n",
       "      <td>https://planergy.com/blog/how-ai-is-transformi...</td>\n",
       "      <td>['forbidden', 'forbidden', 'nginx']</td>\n",
       "      <td>[forbidden forbidden nginx]</td>\n",
       "      <td>0.000</td>\n",
       "    </tr>\n",
       "  </tbody>\n",
       "</table>\n",
       "<p>113 rows × 5 columns</p>\n",
       "</div>"
      ],
      "text/plain": [
       "     web_id                                              links  \\\n",
       "0         0  https://futureoflife.org/open-letter/pause-gia...   \n",
       "1         1  https://futureoflife.org/cause-area/artificial...   \n",
       "2         2  https://futureoflife.org/open-letter/ai-princi...   \n",
       "3         3  https://openai.com/blog/planning-for-agi-and-b...   \n",
       "4         4  https://futureoflife.org/ai/faqs-about-flis-op...   \n",
       "..      ...                                                ...   \n",
       "108     108  https://www.mckinsey.com/featured-insights/fut...   \n",
       "109     109  https://www.bbntimes.com/technology/advantages...   \n",
       "110     110  https://en.wikipedia.org/wiki/Workplace_impact...   \n",
       "111     111  https://www.akerman.com/en/perspectives/hr-def...   \n",
       "112     112  https://planergy.com/blog/how-ai-is-transformi...   \n",
       "\n",
       "                                                tokens  \\\n",
       "0    ['pause', 'giant', 'ai', 'experiments', 'open'...   \n",
       "1    ['artificial', 'future', 'life', 'institute', ...   \n",
       "2    ['ai', 'principles', 'future', 'life', 'instit...   \n",
       "3    ['planning', 'agi', 'beyond', 'closesearch', '...   \n",
       "4    ['faqs', 'fli', 'open', 'letter', 'calling', '...   \n",
       "..                                                 ...   \n",
       "108  ['ai', 'automation', 'future', 'work', 'ten', ...   \n",
       "109  ['advantages', 'ai', 'workplace', 'advantages'...   \n",
       "110  ['workplace', 'impact', 'artificial', 'wikiped...   \n",
       "111  ['hr', 'def', 'â\\x80\\x9csmartâ\\x80\\x9d', 'usin...   \n",
       "112                ['forbidden', 'forbidden', 'nginx']   \n",
       "\n",
       "                                           stringToken  positive_sentiment  \n",
       "0    [pause giant ai experiments open letter future...               0.180  \n",
       "1    [artificial future life institute skip content...               0.167  \n",
       "2    [ai principles future life institute skip cont...               0.224  \n",
       "3    [planning agi beyond closesearch submit skip m...               0.261  \n",
       "4    [faqs fli open letter calling pause giant ai e...               0.185  \n",
       "..                                                 ...                 ...  \n",
       "108  [ai automation future work ten things solve te...               0.207  \n",
       "109  [advantages ai workplace advantages ai workpla...               0.218  \n",
       "110  [workplace impact artificial wikipedia jump co...               0.120  \n",
       "111  [hr def â\\x80\\x9csmartâ\\x80\\x9d using artifici...               0.149  \n",
       "112                        [forbidden forbidden nginx]               0.000  \n",
       "\n",
       "[113 rows x 5 columns]"
      ]
     },
     "execution_count": 18,
     "metadata": {},
     "output_type": "execute_result"
    }
   ],
   "source": [
    "sentiment = SentimentIntensityAnalyzer()\n",
    "\n",
    "dataFrame['positive_sentiment'] = dataFrame['stringToken'].apply(lambda x: sentiment.polarity_scores(''.join(x))['pos'])\n",
    "dataFrame"
   ]
  },
  {
   "cell_type": "code",
   "execution_count": 19,
   "id": "07d99440",
   "metadata": {},
   "outputs": [
    {
     "data": {
      "text/html": [
       "<div>\n",
       "<style scoped>\n",
       "    .dataframe tbody tr th:only-of-type {\n",
       "        vertical-align: middle;\n",
       "    }\n",
       "\n",
       "    .dataframe tbody tr th {\n",
       "        vertical-align: top;\n",
       "    }\n",
       "\n",
       "    .dataframe thead th {\n",
       "        text-align: right;\n",
       "    }\n",
       "</style>\n",
       "<table border=\"1\" class=\"dataframe\">\n",
       "  <thead>\n",
       "    <tr style=\"text-align: right;\">\n",
       "      <th></th>\n",
       "      <th>web_id</th>\n",
       "      <th>links</th>\n",
       "      <th>tokens</th>\n",
       "      <th>stringToken</th>\n",
       "      <th>positive_sentiment</th>\n",
       "      <th>negative_sentiment</th>\n",
       "    </tr>\n",
       "  </thead>\n",
       "  <tbody>\n",
       "    <tr>\n",
       "      <th>0</th>\n",
       "      <td>0</td>\n",
       "      <td>https://futureoflife.org/open-letter/pause-gia...</td>\n",
       "      <td>['pause', 'giant', 'ai', 'experiments', 'open'...</td>\n",
       "      <td>[pause giant ai experiments open letter future...</td>\n",
       "      <td>0.180</td>\n",
       "      <td>0.096</td>\n",
       "    </tr>\n",
       "    <tr>\n",
       "      <th>1</th>\n",
       "      <td>1</td>\n",
       "      <td>https://futureoflife.org/cause-area/artificial...</td>\n",
       "      <td>['artificial', 'future', 'life', 'institute', ...</td>\n",
       "      <td>[artificial future life institute skip content...</td>\n",
       "      <td>0.167</td>\n",
       "      <td>0.126</td>\n",
       "    </tr>\n",
       "    <tr>\n",
       "      <th>2</th>\n",
       "      <td>2</td>\n",
       "      <td>https://futureoflife.org/open-letter/ai-princi...</td>\n",
       "      <td>['ai', 'principles', 'future', 'life', 'instit...</td>\n",
       "      <td>[ai principles future life institute skip cont...</td>\n",
       "      <td>0.224</td>\n",
       "      <td>0.078</td>\n",
       "    </tr>\n",
       "    <tr>\n",
       "      <th>3</th>\n",
       "      <td>3</td>\n",
       "      <td>https://openai.com/blog/planning-for-agi-and-b...</td>\n",
       "      <td>['planning', 'agi', 'beyond', 'closesearch', '...</td>\n",
       "      <td>[planning agi beyond closesearch submit skip m...</td>\n",
       "      <td>0.261</td>\n",
       "      <td>0.062</td>\n",
       "    </tr>\n",
       "    <tr>\n",
       "      <th>4</th>\n",
       "      <td>4</td>\n",
       "      <td>https://futureoflife.org/ai/faqs-about-flis-op...</td>\n",
       "      <td>['faqs', 'fli', 'open', 'letter', 'calling', '...</td>\n",
       "      <td>[faqs fli open letter calling pause giant ai e...</td>\n",
       "      <td>0.185</td>\n",
       "      <td>0.088</td>\n",
       "    </tr>\n",
       "    <tr>\n",
       "      <th>...</th>\n",
       "      <td>...</td>\n",
       "      <td>...</td>\n",
       "      <td>...</td>\n",
       "      <td>...</td>\n",
       "      <td>...</td>\n",
       "      <td>...</td>\n",
       "    </tr>\n",
       "    <tr>\n",
       "      <th>108</th>\n",
       "      <td>108</td>\n",
       "      <td>https://www.mckinsey.com/featured-insights/fut...</td>\n",
       "      <td>['ai', 'automation', 'future', 'work', 'ten', ...</td>\n",
       "      <td>[ai automation future work ten things solve te...</td>\n",
       "      <td>0.207</td>\n",
       "      <td>0.047</td>\n",
       "    </tr>\n",
       "    <tr>\n",
       "      <th>109</th>\n",
       "      <td>109</td>\n",
       "      <td>https://www.bbntimes.com/technology/advantages...</td>\n",
       "      <td>['advantages', 'ai', 'workplace', 'advantages'...</td>\n",
       "      <td>[advantages ai workplace advantages ai workpla...</td>\n",
       "      <td>0.218</td>\n",
       "      <td>0.047</td>\n",
       "    </tr>\n",
       "    <tr>\n",
       "      <th>110</th>\n",
       "      <td>110</td>\n",
       "      <td>https://en.wikipedia.org/wiki/Workplace_impact...</td>\n",
       "      <td>['workplace', 'impact', 'artificial', 'wikiped...</td>\n",
       "      <td>[workplace impact artificial wikipedia jump co...</td>\n",
       "      <td>0.120</td>\n",
       "      <td>0.106</td>\n",
       "    </tr>\n",
       "    <tr>\n",
       "      <th>111</th>\n",
       "      <td>111</td>\n",
       "      <td>https://www.akerman.com/en/perspectives/hr-def...</td>\n",
       "      <td>['hr', 'def', 'â\\x80\\x9csmartâ\\x80\\x9d', 'usin...</td>\n",
       "      <td>[hr def â\\x80\\x9csmartâ\\x80\\x9d using artifici...</td>\n",
       "      <td>0.149</td>\n",
       "      <td>0.048</td>\n",
       "    </tr>\n",
       "    <tr>\n",
       "      <th>112</th>\n",
       "      <td>112</td>\n",
       "      <td>https://planergy.com/blog/how-ai-is-transformi...</td>\n",
       "      <td>['forbidden', 'forbidden', 'nginx']</td>\n",
       "      <td>[forbidden forbidden nginx]</td>\n",
       "      <td>0.000</td>\n",
       "      <td>0.583</td>\n",
       "    </tr>\n",
       "  </tbody>\n",
       "</table>\n",
       "<p>113 rows × 6 columns</p>\n",
       "</div>"
      ],
      "text/plain": [
       "     web_id                                              links  \\\n",
       "0         0  https://futureoflife.org/open-letter/pause-gia...   \n",
       "1         1  https://futureoflife.org/cause-area/artificial...   \n",
       "2         2  https://futureoflife.org/open-letter/ai-princi...   \n",
       "3         3  https://openai.com/blog/planning-for-agi-and-b...   \n",
       "4         4  https://futureoflife.org/ai/faqs-about-flis-op...   \n",
       "..      ...                                                ...   \n",
       "108     108  https://www.mckinsey.com/featured-insights/fut...   \n",
       "109     109  https://www.bbntimes.com/technology/advantages...   \n",
       "110     110  https://en.wikipedia.org/wiki/Workplace_impact...   \n",
       "111     111  https://www.akerman.com/en/perspectives/hr-def...   \n",
       "112     112  https://planergy.com/blog/how-ai-is-transformi...   \n",
       "\n",
       "                                                tokens  \\\n",
       "0    ['pause', 'giant', 'ai', 'experiments', 'open'...   \n",
       "1    ['artificial', 'future', 'life', 'institute', ...   \n",
       "2    ['ai', 'principles', 'future', 'life', 'instit...   \n",
       "3    ['planning', 'agi', 'beyond', 'closesearch', '...   \n",
       "4    ['faqs', 'fli', 'open', 'letter', 'calling', '...   \n",
       "..                                                 ...   \n",
       "108  ['ai', 'automation', 'future', 'work', 'ten', ...   \n",
       "109  ['advantages', 'ai', 'workplace', 'advantages'...   \n",
       "110  ['workplace', 'impact', 'artificial', 'wikiped...   \n",
       "111  ['hr', 'def', 'â\\x80\\x9csmartâ\\x80\\x9d', 'usin...   \n",
       "112                ['forbidden', 'forbidden', 'nginx']   \n",
       "\n",
       "                                           stringToken  positive_sentiment  \\\n",
       "0    [pause giant ai experiments open letter future...               0.180   \n",
       "1    [artificial future life institute skip content...               0.167   \n",
       "2    [ai principles future life institute skip cont...               0.224   \n",
       "3    [planning agi beyond closesearch submit skip m...               0.261   \n",
       "4    [faqs fli open letter calling pause giant ai e...               0.185   \n",
       "..                                                 ...                 ...   \n",
       "108  [ai automation future work ten things solve te...               0.207   \n",
       "109  [advantages ai workplace advantages ai workpla...               0.218   \n",
       "110  [workplace impact artificial wikipedia jump co...               0.120   \n",
       "111  [hr def â\\x80\\x9csmartâ\\x80\\x9d using artifici...               0.149   \n",
       "112                        [forbidden forbidden nginx]               0.000   \n",
       "\n",
       "     negative_sentiment  \n",
       "0                 0.096  \n",
       "1                 0.126  \n",
       "2                 0.078  \n",
       "3                 0.062  \n",
       "4                 0.088  \n",
       "..                  ...  \n",
       "108               0.047  \n",
       "109               0.047  \n",
       "110               0.106  \n",
       "111               0.048  \n",
       "112               0.583  \n",
       "\n",
       "[113 rows x 6 columns]"
      ]
     },
     "execution_count": 19,
     "metadata": {},
     "output_type": "execute_result"
    }
   ],
   "source": [
    "dataFrame['negative_sentiment'] = dataFrame['stringToken'].apply(lambda x: sentiment.polarity_scores(''.join(x))['neg'])\n",
    "dataFrame"
   ]
  },
  {
   "cell_type": "code",
   "execution_count": 20,
   "id": "0e17fa80",
   "metadata": {},
   "outputs": [
    {
     "data": {
      "text/html": [
       "<div>\n",
       "<style scoped>\n",
       "    .dataframe tbody tr th:only-of-type {\n",
       "        vertical-align: middle;\n",
       "    }\n",
       "\n",
       "    .dataframe tbody tr th {\n",
       "        vertical-align: top;\n",
       "    }\n",
       "\n",
       "    .dataframe thead th {\n",
       "        text-align: right;\n",
       "    }\n",
       "</style>\n",
       "<table border=\"1\" class=\"dataframe\">\n",
       "  <thead>\n",
       "    <tr style=\"text-align: right;\">\n",
       "      <th></th>\n",
       "      <th>web_id</th>\n",
       "      <th>links</th>\n",
       "      <th>tokens</th>\n",
       "      <th>stringToken</th>\n",
       "      <th>positive_sentiment</th>\n",
       "      <th>negative_sentiment</th>\n",
       "      <th>neutral</th>\n",
       "    </tr>\n",
       "  </thead>\n",
       "  <tbody>\n",
       "    <tr>\n",
       "      <th>0</th>\n",
       "      <td>0</td>\n",
       "      <td>https://futureoflife.org/open-letter/pause-gia...</td>\n",
       "      <td>['pause', 'giant', 'ai', 'experiments', 'open'...</td>\n",
       "      <td>[pause giant ai experiments open letter future...</td>\n",
       "      <td>0.180</td>\n",
       "      <td>0.096</td>\n",
       "      <td>0.724</td>\n",
       "    </tr>\n",
       "    <tr>\n",
       "      <th>1</th>\n",
       "      <td>1</td>\n",
       "      <td>https://futureoflife.org/cause-area/artificial...</td>\n",
       "      <td>['artificial', 'future', 'life', 'institute', ...</td>\n",
       "      <td>[artificial future life institute skip content...</td>\n",
       "      <td>0.167</td>\n",
       "      <td>0.126</td>\n",
       "      <td>0.708</td>\n",
       "    </tr>\n",
       "    <tr>\n",
       "      <th>2</th>\n",
       "      <td>2</td>\n",
       "      <td>https://futureoflife.org/open-letter/ai-princi...</td>\n",
       "      <td>['ai', 'principles', 'future', 'life', 'instit...</td>\n",
       "      <td>[ai principles future life institute skip cont...</td>\n",
       "      <td>0.224</td>\n",
       "      <td>0.078</td>\n",
       "      <td>0.699</td>\n",
       "    </tr>\n",
       "    <tr>\n",
       "      <th>3</th>\n",
       "      <td>3</td>\n",
       "      <td>https://openai.com/blog/planning-for-agi-and-b...</td>\n",
       "      <td>['planning', 'agi', 'beyond', 'closesearch', '...</td>\n",
       "      <td>[planning agi beyond closesearch submit skip m...</td>\n",
       "      <td>0.261</td>\n",
       "      <td>0.062</td>\n",
       "      <td>0.677</td>\n",
       "    </tr>\n",
       "    <tr>\n",
       "      <th>4</th>\n",
       "      <td>4</td>\n",
       "      <td>https://futureoflife.org/ai/faqs-about-flis-op...</td>\n",
       "      <td>['faqs', 'fli', 'open', 'letter', 'calling', '...</td>\n",
       "      <td>[faqs fli open letter calling pause giant ai e...</td>\n",
       "      <td>0.185</td>\n",
       "      <td>0.088</td>\n",
       "      <td>0.727</td>\n",
       "    </tr>\n",
       "    <tr>\n",
       "      <th>...</th>\n",
       "      <td>...</td>\n",
       "      <td>...</td>\n",
       "      <td>...</td>\n",
       "      <td>...</td>\n",
       "      <td>...</td>\n",
       "      <td>...</td>\n",
       "      <td>...</td>\n",
       "    </tr>\n",
       "    <tr>\n",
       "      <th>108</th>\n",
       "      <td>108</td>\n",
       "      <td>https://www.mckinsey.com/featured-insights/fut...</td>\n",
       "      <td>['ai', 'automation', 'future', 'work', 'ten', ...</td>\n",
       "      <td>[ai automation future work ten things solve te...</td>\n",
       "      <td>0.207</td>\n",
       "      <td>0.047</td>\n",
       "      <td>0.746</td>\n",
       "    </tr>\n",
       "    <tr>\n",
       "      <th>109</th>\n",
       "      <td>109</td>\n",
       "      <td>https://www.bbntimes.com/technology/advantages...</td>\n",
       "      <td>['advantages', 'ai', 'workplace', 'advantages'...</td>\n",
       "      <td>[advantages ai workplace advantages ai workpla...</td>\n",
       "      <td>0.218</td>\n",
       "      <td>0.047</td>\n",
       "      <td>0.735</td>\n",
       "    </tr>\n",
       "    <tr>\n",
       "      <th>110</th>\n",
       "      <td>110</td>\n",
       "      <td>https://en.wikipedia.org/wiki/Workplace_impact...</td>\n",
       "      <td>['workplace', 'impact', 'artificial', 'wikiped...</td>\n",
       "      <td>[workplace impact artificial wikipedia jump co...</td>\n",
       "      <td>0.120</td>\n",
       "      <td>0.106</td>\n",
       "      <td>0.775</td>\n",
       "    </tr>\n",
       "    <tr>\n",
       "      <th>111</th>\n",
       "      <td>111</td>\n",
       "      <td>https://www.akerman.com/en/perspectives/hr-def...</td>\n",
       "      <td>['hr', 'def', 'â\\x80\\x9csmartâ\\x80\\x9d', 'usin...</td>\n",
       "      <td>[hr def â\\x80\\x9csmartâ\\x80\\x9d using artifici...</td>\n",
       "      <td>0.149</td>\n",
       "      <td>0.048</td>\n",
       "      <td>0.803</td>\n",
       "    </tr>\n",
       "    <tr>\n",
       "      <th>112</th>\n",
       "      <td>112</td>\n",
       "      <td>https://planergy.com/blog/how-ai-is-transformi...</td>\n",
       "      <td>['forbidden', 'forbidden', 'nginx']</td>\n",
       "      <td>[forbidden forbidden nginx]</td>\n",
       "      <td>0.000</td>\n",
       "      <td>0.583</td>\n",
       "      <td>0.417</td>\n",
       "    </tr>\n",
       "  </tbody>\n",
       "</table>\n",
       "<p>113 rows × 7 columns</p>\n",
       "</div>"
      ],
      "text/plain": [
       "     web_id                                              links  \\\n",
       "0         0  https://futureoflife.org/open-letter/pause-gia...   \n",
       "1         1  https://futureoflife.org/cause-area/artificial...   \n",
       "2         2  https://futureoflife.org/open-letter/ai-princi...   \n",
       "3         3  https://openai.com/blog/planning-for-agi-and-b...   \n",
       "4         4  https://futureoflife.org/ai/faqs-about-flis-op...   \n",
       "..      ...                                                ...   \n",
       "108     108  https://www.mckinsey.com/featured-insights/fut...   \n",
       "109     109  https://www.bbntimes.com/technology/advantages...   \n",
       "110     110  https://en.wikipedia.org/wiki/Workplace_impact...   \n",
       "111     111  https://www.akerman.com/en/perspectives/hr-def...   \n",
       "112     112  https://planergy.com/blog/how-ai-is-transformi...   \n",
       "\n",
       "                                                tokens  \\\n",
       "0    ['pause', 'giant', 'ai', 'experiments', 'open'...   \n",
       "1    ['artificial', 'future', 'life', 'institute', ...   \n",
       "2    ['ai', 'principles', 'future', 'life', 'instit...   \n",
       "3    ['planning', 'agi', 'beyond', 'closesearch', '...   \n",
       "4    ['faqs', 'fli', 'open', 'letter', 'calling', '...   \n",
       "..                                                 ...   \n",
       "108  ['ai', 'automation', 'future', 'work', 'ten', ...   \n",
       "109  ['advantages', 'ai', 'workplace', 'advantages'...   \n",
       "110  ['workplace', 'impact', 'artificial', 'wikiped...   \n",
       "111  ['hr', 'def', 'â\\x80\\x9csmartâ\\x80\\x9d', 'usin...   \n",
       "112                ['forbidden', 'forbidden', 'nginx']   \n",
       "\n",
       "                                           stringToken  positive_sentiment  \\\n",
       "0    [pause giant ai experiments open letter future...               0.180   \n",
       "1    [artificial future life institute skip content...               0.167   \n",
       "2    [ai principles future life institute skip cont...               0.224   \n",
       "3    [planning agi beyond closesearch submit skip m...               0.261   \n",
       "4    [faqs fli open letter calling pause giant ai e...               0.185   \n",
       "..                                                 ...                 ...   \n",
       "108  [ai automation future work ten things solve te...               0.207   \n",
       "109  [advantages ai workplace advantages ai workpla...               0.218   \n",
       "110  [workplace impact artificial wikipedia jump co...               0.120   \n",
       "111  [hr def â\\x80\\x9csmartâ\\x80\\x9d using artifici...               0.149   \n",
       "112                        [forbidden forbidden nginx]               0.000   \n",
       "\n",
       "     negative_sentiment  neutral  \n",
       "0                 0.096    0.724  \n",
       "1                 0.126    0.708  \n",
       "2                 0.078    0.699  \n",
       "3                 0.062    0.677  \n",
       "4                 0.088    0.727  \n",
       "..                  ...      ...  \n",
       "108               0.047    0.746  \n",
       "109               0.047    0.735  \n",
       "110               0.106    0.775  \n",
       "111               0.048    0.803  \n",
       "112               0.583    0.417  \n",
       "\n",
       "[113 rows x 7 columns]"
      ]
     },
     "execution_count": 20,
     "metadata": {},
     "output_type": "execute_result"
    }
   ],
   "source": [
    "dataFrame['neutral'] = dataFrame['stringToken'].apply(lambda x: sentiment.polarity_scores(''.join(x))['neu'])\n",
    "dataFrame"
   ]
  },
  {
   "cell_type": "code",
   "execution_count": 21,
   "id": "afde6f8b",
   "metadata": {},
   "outputs": [
    {
     "data": {
      "text/html": [
       "<div>\n",
       "<style scoped>\n",
       "    .dataframe tbody tr th:only-of-type {\n",
       "        vertical-align: middle;\n",
       "    }\n",
       "\n",
       "    .dataframe tbody tr th {\n",
       "        vertical-align: top;\n",
       "    }\n",
       "\n",
       "    .dataframe thead th {\n",
       "        text-align: right;\n",
       "    }\n",
       "</style>\n",
       "<table border=\"1\" class=\"dataframe\">\n",
       "  <thead>\n",
       "    <tr style=\"text-align: right;\">\n",
       "      <th></th>\n",
       "      <th>web_id</th>\n",
       "      <th>links</th>\n",
       "      <th>tokens</th>\n",
       "      <th>stringToken</th>\n",
       "      <th>positive_sentiment</th>\n",
       "      <th>negative_sentiment</th>\n",
       "      <th>neutral</th>\n",
       "      <th>overall_sentiment</th>\n",
       "    </tr>\n",
       "  </thead>\n",
       "  <tbody>\n",
       "    <tr>\n",
       "      <th>0</th>\n",
       "      <td>0</td>\n",
       "      <td>https://futureoflife.org/open-letter/pause-gia...</td>\n",
       "      <td>['pause', 'giant', 'ai', 'experiments', 'open'...</td>\n",
       "      <td>[pause giant ai experiments open letter future...</td>\n",
       "      <td>0.180</td>\n",
       "      <td>0.096</td>\n",
       "      <td>0.724</td>\n",
       "      <td>0.9980</td>\n",
       "    </tr>\n",
       "    <tr>\n",
       "      <th>1</th>\n",
       "      <td>1</td>\n",
       "      <td>https://futureoflife.org/cause-area/artificial...</td>\n",
       "      <td>['artificial', 'future', 'life', 'institute', ...</td>\n",
       "      <td>[artificial future life institute skip content...</td>\n",
       "      <td>0.167</td>\n",
       "      <td>0.126</td>\n",
       "      <td>0.708</td>\n",
       "      <td>0.9897</td>\n",
       "    </tr>\n",
       "    <tr>\n",
       "      <th>2</th>\n",
       "      <td>2</td>\n",
       "      <td>https://futureoflife.org/open-letter/ai-princi...</td>\n",
       "      <td>['ai', 'principles', 'future', 'life', 'instit...</td>\n",
       "      <td>[ai principles future life institute skip cont...</td>\n",
       "      <td>0.224</td>\n",
       "      <td>0.078</td>\n",
       "      <td>0.699</td>\n",
       "      <td>0.9992</td>\n",
       "    </tr>\n",
       "    <tr>\n",
       "      <th>3</th>\n",
       "      <td>3</td>\n",
       "      <td>https://openai.com/blog/planning-for-agi-and-b...</td>\n",
       "      <td>['planning', 'agi', 'beyond', 'closesearch', '...</td>\n",
       "      <td>[planning agi beyond closesearch submit skip m...</td>\n",
       "      <td>0.261</td>\n",
       "      <td>0.062</td>\n",
       "      <td>0.677</td>\n",
       "      <td>0.9996</td>\n",
       "    </tr>\n",
       "    <tr>\n",
       "      <th>4</th>\n",
       "      <td>4</td>\n",
       "      <td>https://futureoflife.org/ai/faqs-about-flis-op...</td>\n",
       "      <td>['faqs', 'fli', 'open', 'letter', 'calling', '...</td>\n",
       "      <td>[faqs fli open letter calling pause giant ai e...</td>\n",
       "      <td>0.185</td>\n",
       "      <td>0.088</td>\n",
       "      <td>0.727</td>\n",
       "      <td>0.9978</td>\n",
       "    </tr>\n",
       "    <tr>\n",
       "      <th>...</th>\n",
       "      <td>...</td>\n",
       "      <td>...</td>\n",
       "      <td>...</td>\n",
       "      <td>...</td>\n",
       "      <td>...</td>\n",
       "      <td>...</td>\n",
       "      <td>...</td>\n",
       "      <td>...</td>\n",
       "    </tr>\n",
       "    <tr>\n",
       "      <th>108</th>\n",
       "      <td>108</td>\n",
       "      <td>https://www.mckinsey.com/featured-insights/fut...</td>\n",
       "      <td>['ai', 'automation', 'future', 'work', 'ten', ...</td>\n",
       "      <td>[ai automation future work ten things solve te...</td>\n",
       "      <td>0.207</td>\n",
       "      <td>0.047</td>\n",
       "      <td>0.746</td>\n",
       "      <td>0.9998</td>\n",
       "    </tr>\n",
       "    <tr>\n",
       "      <th>109</th>\n",
       "      <td>109</td>\n",
       "      <td>https://www.bbntimes.com/technology/advantages...</td>\n",
       "      <td>['advantages', 'ai', 'workplace', 'advantages'...</td>\n",
       "      <td>[advantages ai workplace advantages ai workpla...</td>\n",
       "      <td>0.218</td>\n",
       "      <td>0.047</td>\n",
       "      <td>0.735</td>\n",
       "      <td>0.9995</td>\n",
       "    </tr>\n",
       "    <tr>\n",
       "      <th>110</th>\n",
       "      <td>110</td>\n",
       "      <td>https://en.wikipedia.org/wiki/Workplace_impact...</td>\n",
       "      <td>['workplace', 'impact', 'artificial', 'wikiped...</td>\n",
       "      <td>[workplace impact artificial wikipedia jump co...</td>\n",
       "      <td>0.120</td>\n",
       "      <td>0.106</td>\n",
       "      <td>0.775</td>\n",
       "      <td>0.9905</td>\n",
       "    </tr>\n",
       "    <tr>\n",
       "      <th>111</th>\n",
       "      <td>111</td>\n",
       "      <td>https://www.akerman.com/en/perspectives/hr-def...</td>\n",
       "      <td>['hr', 'def', 'â\\x80\\x9csmartâ\\x80\\x9d', 'usin...</td>\n",
       "      <td>[hr def â\\x80\\x9csmartâ\\x80\\x9d using artifici...</td>\n",
       "      <td>0.149</td>\n",
       "      <td>0.048</td>\n",
       "      <td>0.803</td>\n",
       "      <td>0.9978</td>\n",
       "    </tr>\n",
       "    <tr>\n",
       "      <th>112</th>\n",
       "      <td>112</td>\n",
       "      <td>https://planergy.com/blog/how-ai-is-transformi...</td>\n",
       "      <td>['forbidden', 'forbidden', 'nginx']</td>\n",
       "      <td>[forbidden forbidden nginx]</td>\n",
       "      <td>0.000</td>\n",
       "      <td>0.583</td>\n",
       "      <td>0.417</td>\n",
       "      <td>-0.4215</td>\n",
       "    </tr>\n",
       "  </tbody>\n",
       "</table>\n",
       "<p>113 rows × 8 columns</p>\n",
       "</div>"
      ],
      "text/plain": [
       "     web_id                                              links  \\\n",
       "0         0  https://futureoflife.org/open-letter/pause-gia...   \n",
       "1         1  https://futureoflife.org/cause-area/artificial...   \n",
       "2         2  https://futureoflife.org/open-letter/ai-princi...   \n",
       "3         3  https://openai.com/blog/planning-for-agi-and-b...   \n",
       "4         4  https://futureoflife.org/ai/faqs-about-flis-op...   \n",
       "..      ...                                                ...   \n",
       "108     108  https://www.mckinsey.com/featured-insights/fut...   \n",
       "109     109  https://www.bbntimes.com/technology/advantages...   \n",
       "110     110  https://en.wikipedia.org/wiki/Workplace_impact...   \n",
       "111     111  https://www.akerman.com/en/perspectives/hr-def...   \n",
       "112     112  https://planergy.com/blog/how-ai-is-transformi...   \n",
       "\n",
       "                                                tokens  \\\n",
       "0    ['pause', 'giant', 'ai', 'experiments', 'open'...   \n",
       "1    ['artificial', 'future', 'life', 'institute', ...   \n",
       "2    ['ai', 'principles', 'future', 'life', 'instit...   \n",
       "3    ['planning', 'agi', 'beyond', 'closesearch', '...   \n",
       "4    ['faqs', 'fli', 'open', 'letter', 'calling', '...   \n",
       "..                                                 ...   \n",
       "108  ['ai', 'automation', 'future', 'work', 'ten', ...   \n",
       "109  ['advantages', 'ai', 'workplace', 'advantages'...   \n",
       "110  ['workplace', 'impact', 'artificial', 'wikiped...   \n",
       "111  ['hr', 'def', 'â\\x80\\x9csmartâ\\x80\\x9d', 'usin...   \n",
       "112                ['forbidden', 'forbidden', 'nginx']   \n",
       "\n",
       "                                           stringToken  positive_sentiment  \\\n",
       "0    [pause giant ai experiments open letter future...               0.180   \n",
       "1    [artificial future life institute skip content...               0.167   \n",
       "2    [ai principles future life institute skip cont...               0.224   \n",
       "3    [planning agi beyond closesearch submit skip m...               0.261   \n",
       "4    [faqs fli open letter calling pause giant ai e...               0.185   \n",
       "..                                                 ...                 ...   \n",
       "108  [ai automation future work ten things solve te...               0.207   \n",
       "109  [advantages ai workplace advantages ai workpla...               0.218   \n",
       "110  [workplace impact artificial wikipedia jump co...               0.120   \n",
       "111  [hr def â\\x80\\x9csmartâ\\x80\\x9d using artifici...               0.149   \n",
       "112                        [forbidden forbidden nginx]               0.000   \n",
       "\n",
       "     negative_sentiment  neutral  overall_sentiment  \n",
       "0                 0.096    0.724             0.9980  \n",
       "1                 0.126    0.708             0.9897  \n",
       "2                 0.078    0.699             0.9992  \n",
       "3                 0.062    0.677             0.9996  \n",
       "4                 0.088    0.727             0.9978  \n",
       "..                  ...      ...                ...  \n",
       "108               0.047    0.746             0.9998  \n",
       "109               0.047    0.735             0.9995  \n",
       "110               0.106    0.775             0.9905  \n",
       "111               0.048    0.803             0.9978  \n",
       "112               0.583    0.417            -0.4215  \n",
       "\n",
       "[113 rows x 8 columns]"
      ]
     },
     "execution_count": 21,
     "metadata": {},
     "output_type": "execute_result"
    }
   ],
   "source": [
    "dataFrame['overall_sentiment'] = dataFrame['stringToken'].apply(lambda x: sentiment.polarity_scores(''.join(x))['compound'])\n",
    "dataFrame"
   ]
  },
  {
   "cell_type": "code",
   "execution_count": 22,
   "id": "4fd4f77d",
   "metadata": {},
   "outputs": [],
   "source": [
    "#dataFrame.to_csv('Sentiment_per_link_data.csv')"
   ]
  },
  {
   "cell_type": "code",
   "execution_count": 23,
   "id": "d2ad67c5",
   "metadata": {},
   "outputs": [
    {
     "name": "stdout",
     "output_type": "stream",
     "text": [
      "107 5 1\n"
     ]
    }
   ],
   "source": [
    "positive = len(dataFrame[dataFrame.overall_sentiment > 0])\n",
    "negative = len(dataFrame[dataFrame.overall_sentiment < 0])\n",
    "neutral = len(dataFrame[dataFrame.overall_sentiment == 0])\n",
    "print(positive, negative, neutral)"
   ]
  },
  {
   "cell_type": "code",
   "execution_count": null,
   "id": "26e8fa52",
   "metadata": {},
   "outputs": [],
   "source": []
  },
  {
   "cell_type": "markdown",
   "id": "a3b3032b",
   "metadata": {},
   "source": [
    "### Plotting the overall sentiment for each link\n",
    "The plotting of the information helps to not only see the general sentiment of the different texts \n",
    "but also to identify possible bugs with websites.\n",
    "- I have found that very negative websites might be blocked, hence the vocabulary used rates them as negative. This could be used to replace the link with a more relevant resource."
   ]
  },
  {
   "cell_type": "code",
   "execution_count": 24,
   "id": "c3864a8f",
   "metadata": {},
   "outputs": [
    {
     "data": {
      "application/vnd.plotly.v1+json": {
       "config": {
        "plotlyServerURL": "https://plot.ly"
       },
       "data": [
        {
         "hovertemplate": "web_id=%{x}<br>overall_sentiment=%{marker.color}<extra></extra>",
         "legendgroup": "",
         "marker": {
          "color": [
           0.998,
           0.9897,
           0.9992,
           0.9996,
           0.9978,
           0.9806,
           0.9921,
           0.9952,
           0.997,
           0.9859,
           -0.891,
           0.9969,
           0.9998,
           0.994,
           -0.4908,
           0.9999,
           0.9752,
           0,
           0.9853,
           0.886,
           0.9991,
           0.9981,
           0.9989,
           0.9992,
           0.9957,
           0.9964,
           0.9992,
           0.9991,
           0.9992,
           0.9987,
           0.9979,
           0.9981,
           0.9999,
           0.9937,
           0.9966,
           0.9816,
           0.9994,
           0.9933,
           0.9998,
           0.9998,
           0.9999,
           0.9501,
           0.9999,
           0.9999,
           1,
           0.9999,
           0.9997,
           0.9999,
           0.9999,
           0.9999,
           0.9999,
           0.9999,
           0.9999,
           0.9999,
           0.9999,
           0.9999,
           0.9753,
           0.9903,
           0.9607,
           0.6249,
           0.9758,
           0.8957,
           0.9975,
           0.9938,
           0.9682,
           0.9794,
           0.9698,
           0.8271,
           0.969,
           0.9825,
           0.9989,
           0.9998,
           0.9998,
           0.9999,
           0.9999,
           0.9997,
           0.9997,
           0.9997,
           0.9997,
           0.9997,
           0.9997,
           0.9998,
           0.9998,
           0.9997,
           0.9997,
           0.9999,
           0.9999,
           0.9292,
           0.9292,
           0.9934,
           0.9934,
           0.9996,
           0.9996,
           0.9974,
           0.9648,
           -0.9823,
           0.9962,
           0.9995,
           0.9993,
           0.9878,
           0.9994,
           0.9994,
           0.9991,
           0.9989,
           0.714,
           -0.4215,
           0.9973,
           0.9988,
           0.9998,
           0.9995,
           0.9905,
           0.9978,
           -0.4215
          ],
          "coloraxis": "coloraxis",
          "symbol": "circle"
         },
         "mode": "markers",
         "name": "",
         "orientation": "v",
         "showlegend": false,
         "type": "scatter",
         "x": [
          0,
          1,
          2,
          3,
          4,
          5,
          6,
          7,
          8,
          9,
          10,
          11,
          12,
          13,
          14,
          15,
          16,
          17,
          18,
          19,
          20,
          21,
          22,
          23,
          24,
          25,
          26,
          27,
          28,
          29,
          30,
          31,
          32,
          33,
          34,
          35,
          36,
          37,
          38,
          39,
          40,
          41,
          42,
          43,
          44,
          45,
          46,
          47,
          48,
          49,
          50,
          51,
          52,
          53,
          54,
          55,
          56,
          57,
          58,
          59,
          60,
          61,
          62,
          63,
          64,
          65,
          66,
          67,
          68,
          69,
          70,
          71,
          72,
          73,
          74,
          75,
          76,
          77,
          78,
          79,
          80,
          81,
          82,
          83,
          84,
          85,
          86,
          87,
          88,
          89,
          90,
          91,
          92,
          93,
          94,
          95,
          96,
          97,
          98,
          99,
          100,
          101,
          102,
          103,
          104,
          105,
          106,
          107,
          108,
          109,
          110,
          111,
          112
         ],
         "xaxis": "x",
         "y": [
          0.998,
          0.9897,
          0.9992,
          0.9996,
          0.9978,
          0.9806,
          0.9921,
          0.9952,
          0.997,
          0.9859,
          -0.891,
          0.9969,
          0.9998,
          0.994,
          -0.4908,
          0.9999,
          0.9752,
          0,
          0.9853,
          0.886,
          0.9991,
          0.9981,
          0.9989,
          0.9992,
          0.9957,
          0.9964,
          0.9992,
          0.9991,
          0.9992,
          0.9987,
          0.9979,
          0.9981,
          0.9999,
          0.9937,
          0.9966,
          0.9816,
          0.9994,
          0.9933,
          0.9998,
          0.9998,
          0.9999,
          0.9501,
          0.9999,
          0.9999,
          1,
          0.9999,
          0.9997,
          0.9999,
          0.9999,
          0.9999,
          0.9999,
          0.9999,
          0.9999,
          0.9999,
          0.9999,
          0.9999,
          0.9753,
          0.9903,
          0.9607,
          0.6249,
          0.9758,
          0.8957,
          0.9975,
          0.9938,
          0.9682,
          0.9794,
          0.9698,
          0.8271,
          0.969,
          0.9825,
          0.9989,
          0.9998,
          0.9998,
          0.9999,
          0.9999,
          0.9997,
          0.9997,
          0.9997,
          0.9997,
          0.9997,
          0.9997,
          0.9998,
          0.9998,
          0.9997,
          0.9997,
          0.9999,
          0.9999,
          0.9292,
          0.9292,
          0.9934,
          0.9934,
          0.9996,
          0.9996,
          0.9974,
          0.9648,
          -0.9823,
          0.9962,
          0.9995,
          0.9993,
          0.9878,
          0.9994,
          0.9994,
          0.9991,
          0.9989,
          0.714,
          -0.4215,
          0.9973,
          0.9988,
          0.9998,
          0.9995,
          0.9905,
          0.9978,
          -0.4215
         ],
         "yaxis": "y"
        }
       ],
       "layout": {
        "coloraxis": {
         "colorbar": {
          "title": {
           "text": "overall_sentiment"
          }
         },
         "colorscale": [
          [
           0,
           "rgb(75, 41, 145)"
          ],
          [
           0.16666666666666666,
           "rgb(135, 44, 162)"
          ],
          [
           0.3333333333333333,
           "rgb(192, 54, 157)"
          ],
          [
           0.5,
           "rgb(234, 79, 136)"
          ],
          [
           0.6666666666666666,
           "rgb(250, 120, 118)"
          ],
          [
           0.8333333333333334,
           "rgb(246, 169, 122)"
          ],
          [
           1,
           "rgb(237, 217, 163)"
          ]
         ]
        },
        "legend": {
         "tracegroupgap": 0
        },
        "margin": {
         "t": 60
        },
        "template": {
         "data": {
          "bar": [
           {
            "error_x": {
             "color": "#2a3f5f"
            },
            "error_y": {
             "color": "#2a3f5f"
            },
            "marker": {
             "line": {
              "color": "#E5ECF6",
              "width": 0.5
             },
             "pattern": {
              "fillmode": "overlay",
              "size": 10,
              "solidity": 0.2
             }
            },
            "type": "bar"
           }
          ],
          "barpolar": [
           {
            "marker": {
             "line": {
              "color": "#E5ECF6",
              "width": 0.5
             },
             "pattern": {
              "fillmode": "overlay",
              "size": 10,
              "solidity": 0.2
             }
            },
            "type": "barpolar"
           }
          ],
          "carpet": [
           {
            "aaxis": {
             "endlinecolor": "#2a3f5f",
             "gridcolor": "white",
             "linecolor": "white",
             "minorgridcolor": "white",
             "startlinecolor": "#2a3f5f"
            },
            "baxis": {
             "endlinecolor": "#2a3f5f",
             "gridcolor": "white",
             "linecolor": "white",
             "minorgridcolor": "white",
             "startlinecolor": "#2a3f5f"
            },
            "type": "carpet"
           }
          ],
          "choropleth": [
           {
            "colorbar": {
             "outlinewidth": 0,
             "ticks": ""
            },
            "type": "choropleth"
           }
          ],
          "contour": [
           {
            "colorbar": {
             "outlinewidth": 0,
             "ticks": ""
            },
            "colorscale": [
             [
              0,
              "#0d0887"
             ],
             [
              0.1111111111111111,
              "#46039f"
             ],
             [
              0.2222222222222222,
              "#7201a8"
             ],
             [
              0.3333333333333333,
              "#9c179e"
             ],
             [
              0.4444444444444444,
              "#bd3786"
             ],
             [
              0.5555555555555556,
              "#d8576b"
             ],
             [
              0.6666666666666666,
              "#ed7953"
             ],
             [
              0.7777777777777778,
              "#fb9f3a"
             ],
             [
              0.8888888888888888,
              "#fdca26"
             ],
             [
              1,
              "#f0f921"
             ]
            ],
            "type": "contour"
           }
          ],
          "contourcarpet": [
           {
            "colorbar": {
             "outlinewidth": 0,
             "ticks": ""
            },
            "type": "contourcarpet"
           }
          ],
          "heatmap": [
           {
            "colorbar": {
             "outlinewidth": 0,
             "ticks": ""
            },
            "colorscale": [
             [
              0,
              "#0d0887"
             ],
             [
              0.1111111111111111,
              "#46039f"
             ],
             [
              0.2222222222222222,
              "#7201a8"
             ],
             [
              0.3333333333333333,
              "#9c179e"
             ],
             [
              0.4444444444444444,
              "#bd3786"
             ],
             [
              0.5555555555555556,
              "#d8576b"
             ],
             [
              0.6666666666666666,
              "#ed7953"
             ],
             [
              0.7777777777777778,
              "#fb9f3a"
             ],
             [
              0.8888888888888888,
              "#fdca26"
             ],
             [
              1,
              "#f0f921"
             ]
            ],
            "type": "heatmap"
           }
          ],
          "heatmapgl": [
           {
            "colorbar": {
             "outlinewidth": 0,
             "ticks": ""
            },
            "colorscale": [
             [
              0,
              "#0d0887"
             ],
             [
              0.1111111111111111,
              "#46039f"
             ],
             [
              0.2222222222222222,
              "#7201a8"
             ],
             [
              0.3333333333333333,
              "#9c179e"
             ],
             [
              0.4444444444444444,
              "#bd3786"
             ],
             [
              0.5555555555555556,
              "#d8576b"
             ],
             [
              0.6666666666666666,
              "#ed7953"
             ],
             [
              0.7777777777777778,
              "#fb9f3a"
             ],
             [
              0.8888888888888888,
              "#fdca26"
             ],
             [
              1,
              "#f0f921"
             ]
            ],
            "type": "heatmapgl"
           }
          ],
          "histogram": [
           {
            "marker": {
             "pattern": {
              "fillmode": "overlay",
              "size": 10,
              "solidity": 0.2
             }
            },
            "type": "histogram"
           }
          ],
          "histogram2d": [
           {
            "colorbar": {
             "outlinewidth": 0,
             "ticks": ""
            },
            "colorscale": [
             [
              0,
              "#0d0887"
             ],
             [
              0.1111111111111111,
              "#46039f"
             ],
             [
              0.2222222222222222,
              "#7201a8"
             ],
             [
              0.3333333333333333,
              "#9c179e"
             ],
             [
              0.4444444444444444,
              "#bd3786"
             ],
             [
              0.5555555555555556,
              "#d8576b"
             ],
             [
              0.6666666666666666,
              "#ed7953"
             ],
             [
              0.7777777777777778,
              "#fb9f3a"
             ],
             [
              0.8888888888888888,
              "#fdca26"
             ],
             [
              1,
              "#f0f921"
             ]
            ],
            "type": "histogram2d"
           }
          ],
          "histogram2dcontour": [
           {
            "colorbar": {
             "outlinewidth": 0,
             "ticks": ""
            },
            "colorscale": [
             [
              0,
              "#0d0887"
             ],
             [
              0.1111111111111111,
              "#46039f"
             ],
             [
              0.2222222222222222,
              "#7201a8"
             ],
             [
              0.3333333333333333,
              "#9c179e"
             ],
             [
              0.4444444444444444,
              "#bd3786"
             ],
             [
              0.5555555555555556,
              "#d8576b"
             ],
             [
              0.6666666666666666,
              "#ed7953"
             ],
             [
              0.7777777777777778,
              "#fb9f3a"
             ],
             [
              0.8888888888888888,
              "#fdca26"
             ],
             [
              1,
              "#f0f921"
             ]
            ],
            "type": "histogram2dcontour"
           }
          ],
          "mesh3d": [
           {
            "colorbar": {
             "outlinewidth": 0,
             "ticks": ""
            },
            "type": "mesh3d"
           }
          ],
          "parcoords": [
           {
            "line": {
             "colorbar": {
              "outlinewidth": 0,
              "ticks": ""
             }
            },
            "type": "parcoords"
           }
          ],
          "pie": [
           {
            "automargin": true,
            "type": "pie"
           }
          ],
          "scatter": [
           {
            "fillpattern": {
             "fillmode": "overlay",
             "size": 10,
             "solidity": 0.2
            },
            "type": "scatter"
           }
          ],
          "scatter3d": [
           {
            "line": {
             "colorbar": {
              "outlinewidth": 0,
              "ticks": ""
             }
            },
            "marker": {
             "colorbar": {
              "outlinewidth": 0,
              "ticks": ""
             }
            },
            "type": "scatter3d"
           }
          ],
          "scattercarpet": [
           {
            "marker": {
             "colorbar": {
              "outlinewidth": 0,
              "ticks": ""
             }
            },
            "type": "scattercarpet"
           }
          ],
          "scattergeo": [
           {
            "marker": {
             "colorbar": {
              "outlinewidth": 0,
              "ticks": ""
             }
            },
            "type": "scattergeo"
           }
          ],
          "scattergl": [
           {
            "marker": {
             "colorbar": {
              "outlinewidth": 0,
              "ticks": ""
             }
            },
            "type": "scattergl"
           }
          ],
          "scattermapbox": [
           {
            "marker": {
             "colorbar": {
              "outlinewidth": 0,
              "ticks": ""
             }
            },
            "type": "scattermapbox"
           }
          ],
          "scatterpolar": [
           {
            "marker": {
             "colorbar": {
              "outlinewidth": 0,
              "ticks": ""
             }
            },
            "type": "scatterpolar"
           }
          ],
          "scatterpolargl": [
           {
            "marker": {
             "colorbar": {
              "outlinewidth": 0,
              "ticks": ""
             }
            },
            "type": "scatterpolargl"
           }
          ],
          "scatterternary": [
           {
            "marker": {
             "colorbar": {
              "outlinewidth": 0,
              "ticks": ""
             }
            },
            "type": "scatterternary"
           }
          ],
          "surface": [
           {
            "colorbar": {
             "outlinewidth": 0,
             "ticks": ""
            },
            "colorscale": [
             [
              0,
              "#0d0887"
             ],
             [
              0.1111111111111111,
              "#46039f"
             ],
             [
              0.2222222222222222,
              "#7201a8"
             ],
             [
              0.3333333333333333,
              "#9c179e"
             ],
             [
              0.4444444444444444,
              "#bd3786"
             ],
             [
              0.5555555555555556,
              "#d8576b"
             ],
             [
              0.6666666666666666,
              "#ed7953"
             ],
             [
              0.7777777777777778,
              "#fb9f3a"
             ],
             [
              0.8888888888888888,
              "#fdca26"
             ],
             [
              1,
              "#f0f921"
             ]
            ],
            "type": "surface"
           }
          ],
          "table": [
           {
            "cells": {
             "fill": {
              "color": "#EBF0F8"
             },
             "line": {
              "color": "white"
             }
            },
            "header": {
             "fill": {
              "color": "#C8D4E3"
             },
             "line": {
              "color": "white"
             }
            },
            "type": "table"
           }
          ]
         },
         "layout": {
          "annotationdefaults": {
           "arrowcolor": "#2a3f5f",
           "arrowhead": 0,
           "arrowwidth": 1
          },
          "autotypenumbers": "strict",
          "coloraxis": {
           "colorbar": {
            "outlinewidth": 0,
            "ticks": ""
           }
          },
          "colorscale": {
           "diverging": [
            [
             0,
             "#8e0152"
            ],
            [
             0.1,
             "#c51b7d"
            ],
            [
             0.2,
             "#de77ae"
            ],
            [
             0.3,
             "#f1b6da"
            ],
            [
             0.4,
             "#fde0ef"
            ],
            [
             0.5,
             "#f7f7f7"
            ],
            [
             0.6,
             "#e6f5d0"
            ],
            [
             0.7,
             "#b8e186"
            ],
            [
             0.8,
             "#7fbc41"
            ],
            [
             0.9,
             "#4d9221"
            ],
            [
             1,
             "#276419"
            ]
           ],
           "sequential": [
            [
             0,
             "#0d0887"
            ],
            [
             0.1111111111111111,
             "#46039f"
            ],
            [
             0.2222222222222222,
             "#7201a8"
            ],
            [
             0.3333333333333333,
             "#9c179e"
            ],
            [
             0.4444444444444444,
             "#bd3786"
            ],
            [
             0.5555555555555556,
             "#d8576b"
            ],
            [
             0.6666666666666666,
             "#ed7953"
            ],
            [
             0.7777777777777778,
             "#fb9f3a"
            ],
            [
             0.8888888888888888,
             "#fdca26"
            ],
            [
             1,
             "#f0f921"
            ]
           ],
           "sequentialminus": [
            [
             0,
             "#0d0887"
            ],
            [
             0.1111111111111111,
             "#46039f"
            ],
            [
             0.2222222222222222,
             "#7201a8"
            ],
            [
             0.3333333333333333,
             "#9c179e"
            ],
            [
             0.4444444444444444,
             "#bd3786"
            ],
            [
             0.5555555555555556,
             "#d8576b"
            ],
            [
             0.6666666666666666,
             "#ed7953"
            ],
            [
             0.7777777777777778,
             "#fb9f3a"
            ],
            [
             0.8888888888888888,
             "#fdca26"
            ],
            [
             1,
             "#f0f921"
            ]
           ]
          },
          "colorway": [
           "#636efa",
           "#EF553B",
           "#00cc96",
           "#ab63fa",
           "#FFA15A",
           "#19d3f3",
           "#FF6692",
           "#B6E880",
           "#FF97FF",
           "#FECB52"
          ],
          "font": {
           "color": "#2a3f5f"
          },
          "geo": {
           "bgcolor": "white",
           "lakecolor": "white",
           "landcolor": "#E5ECF6",
           "showlakes": true,
           "showland": true,
           "subunitcolor": "white"
          },
          "hoverlabel": {
           "align": "left"
          },
          "hovermode": "closest",
          "mapbox": {
           "style": "light"
          },
          "paper_bgcolor": "white",
          "plot_bgcolor": "#E5ECF6",
          "polar": {
           "angularaxis": {
            "gridcolor": "white",
            "linecolor": "white",
            "ticks": ""
           },
           "bgcolor": "#E5ECF6",
           "radialaxis": {
            "gridcolor": "white",
            "linecolor": "white",
            "ticks": ""
           }
          },
          "scene": {
           "xaxis": {
            "backgroundcolor": "#E5ECF6",
            "gridcolor": "white",
            "gridwidth": 2,
            "linecolor": "white",
            "showbackground": true,
            "ticks": "",
            "zerolinecolor": "white"
           },
           "yaxis": {
            "backgroundcolor": "#E5ECF6",
            "gridcolor": "white",
            "gridwidth": 2,
            "linecolor": "white",
            "showbackground": true,
            "ticks": "",
            "zerolinecolor": "white"
           },
           "zaxis": {
            "backgroundcolor": "#E5ECF6",
            "gridcolor": "white",
            "gridwidth": 2,
            "linecolor": "white",
            "showbackground": true,
            "ticks": "",
            "zerolinecolor": "white"
           }
          },
          "shapedefaults": {
           "line": {
            "color": "#2a3f5f"
           }
          },
          "ternary": {
           "aaxis": {
            "gridcolor": "white",
            "linecolor": "white",
            "ticks": ""
           },
           "baxis": {
            "gridcolor": "white",
            "linecolor": "white",
            "ticks": ""
           },
           "bgcolor": "#E5ECF6",
           "caxis": {
            "gridcolor": "white",
            "linecolor": "white",
            "ticks": ""
           }
          },
          "title": {
           "x": 0.05
          },
          "xaxis": {
           "automargin": true,
           "gridcolor": "white",
           "linecolor": "white",
           "ticks": "",
           "title": {
            "standoff": 15
           },
           "zerolinecolor": "white",
           "zerolinewidth": 2
          },
          "yaxis": {
           "automargin": true,
           "gridcolor": "white",
           "linecolor": "white",
           "ticks": "",
           "title": {
            "standoff": 15
           },
           "zerolinecolor": "white",
           "zerolinewidth": 2
          }
         }
        },
        "xaxis": {
         "anchor": "y",
         "domain": [
          0,
          1
         ],
         "title": {
          "text": "web_id"
         }
        },
        "yaxis": {
         "anchor": "x",
         "domain": [
          0,
          1
         ],
         "title": {
          "text": "overall_sentiment"
         }
        }
       }
      },
      "text/html": [
       "<div>                            <div id=\"30ece9e9-a0ef-4af9-9da0-cbe298dc9d5c\" class=\"plotly-graph-div\" style=\"height:525px; width:100%;\"></div>            <script type=\"text/javascript\">                require([\"plotly\"], function(Plotly) {                    window.PLOTLYENV=window.PLOTLYENV || {};                                    if (document.getElementById(\"30ece9e9-a0ef-4af9-9da0-cbe298dc9d5c\")) {                    Plotly.newPlot(                        \"30ece9e9-a0ef-4af9-9da0-cbe298dc9d5c\",                        [{\"hovertemplate\":\"web_id=%{x}<br>overall_sentiment=%{marker.color}<extra></extra>\",\"legendgroup\":\"\",\"marker\":{\"color\":[0.998,0.9897,0.9992,0.9996,0.9978,0.9806,0.9921,0.9952,0.997,0.9859,-0.891,0.9969,0.9998,0.994,-0.4908,0.9999,0.9752,0.0,0.9853,0.886,0.9991,0.9981,0.9989,0.9992,0.9957,0.9964,0.9992,0.9991,0.9992,0.9987,0.9979,0.9981,0.9999,0.9937,0.9966,0.9816,0.9994,0.9933,0.9998,0.9998,0.9999,0.9501,0.9999,0.9999,1.0,0.9999,0.9997,0.9999,0.9999,0.9999,0.9999,0.9999,0.9999,0.9999,0.9999,0.9999,0.9753,0.9903,0.9607,0.6249,0.9758,0.8957,0.9975,0.9938,0.9682,0.9794,0.9698,0.8271,0.969,0.9825,0.9989,0.9998,0.9998,0.9999,0.9999,0.9997,0.9997,0.9997,0.9997,0.9997,0.9997,0.9998,0.9998,0.9997,0.9997,0.9999,0.9999,0.9292,0.9292,0.9934,0.9934,0.9996,0.9996,0.9974,0.9648,-0.9823,0.9962,0.9995,0.9993,0.9878,0.9994,0.9994,0.9991,0.9989,0.714,-0.4215,0.9973,0.9988,0.9998,0.9995,0.9905,0.9978,-0.4215],\"coloraxis\":\"coloraxis\",\"symbol\":\"circle\"},\"mode\":\"markers\",\"name\":\"\",\"orientation\":\"v\",\"showlegend\":false,\"x\":[0,1,2,3,4,5,6,7,8,9,10,11,12,13,14,15,16,17,18,19,20,21,22,23,24,25,26,27,28,29,30,31,32,33,34,35,36,37,38,39,40,41,42,43,44,45,46,47,48,49,50,51,52,53,54,55,56,57,58,59,60,61,62,63,64,65,66,67,68,69,70,71,72,73,74,75,76,77,78,79,80,81,82,83,84,85,86,87,88,89,90,91,92,93,94,95,96,97,98,99,100,101,102,103,104,105,106,107,108,109,110,111,112],\"xaxis\":\"x\",\"y\":[0.998,0.9897,0.9992,0.9996,0.9978,0.9806,0.9921,0.9952,0.997,0.9859,-0.891,0.9969,0.9998,0.994,-0.4908,0.9999,0.9752,0.0,0.9853,0.886,0.9991,0.9981,0.9989,0.9992,0.9957,0.9964,0.9992,0.9991,0.9992,0.9987,0.9979,0.9981,0.9999,0.9937,0.9966,0.9816,0.9994,0.9933,0.9998,0.9998,0.9999,0.9501,0.9999,0.9999,1.0,0.9999,0.9997,0.9999,0.9999,0.9999,0.9999,0.9999,0.9999,0.9999,0.9999,0.9999,0.9753,0.9903,0.9607,0.6249,0.9758,0.8957,0.9975,0.9938,0.9682,0.9794,0.9698,0.8271,0.969,0.9825,0.9989,0.9998,0.9998,0.9999,0.9999,0.9997,0.9997,0.9997,0.9997,0.9997,0.9997,0.9998,0.9998,0.9997,0.9997,0.9999,0.9999,0.9292,0.9292,0.9934,0.9934,0.9996,0.9996,0.9974,0.9648,-0.9823,0.9962,0.9995,0.9993,0.9878,0.9994,0.9994,0.9991,0.9989,0.714,-0.4215,0.9973,0.9988,0.9998,0.9995,0.9905,0.9978,-0.4215],\"yaxis\":\"y\",\"type\":\"scatter\"}],                        {\"template\":{\"data\":{\"histogram2dcontour\":[{\"type\":\"histogram2dcontour\",\"colorbar\":{\"outlinewidth\":0,\"ticks\":\"\"},\"colorscale\":[[0.0,\"#0d0887\"],[0.1111111111111111,\"#46039f\"],[0.2222222222222222,\"#7201a8\"],[0.3333333333333333,\"#9c179e\"],[0.4444444444444444,\"#bd3786\"],[0.5555555555555556,\"#d8576b\"],[0.6666666666666666,\"#ed7953\"],[0.7777777777777778,\"#fb9f3a\"],[0.8888888888888888,\"#fdca26\"],[1.0,\"#f0f921\"]]}],\"choropleth\":[{\"type\":\"choropleth\",\"colorbar\":{\"outlinewidth\":0,\"ticks\":\"\"}}],\"histogram2d\":[{\"type\":\"histogram2d\",\"colorbar\":{\"outlinewidth\":0,\"ticks\":\"\"},\"colorscale\":[[0.0,\"#0d0887\"],[0.1111111111111111,\"#46039f\"],[0.2222222222222222,\"#7201a8\"],[0.3333333333333333,\"#9c179e\"],[0.4444444444444444,\"#bd3786\"],[0.5555555555555556,\"#d8576b\"],[0.6666666666666666,\"#ed7953\"],[0.7777777777777778,\"#fb9f3a\"],[0.8888888888888888,\"#fdca26\"],[1.0,\"#f0f921\"]]}],\"heatmap\":[{\"type\":\"heatmap\",\"colorbar\":{\"outlinewidth\":0,\"ticks\":\"\"},\"colorscale\":[[0.0,\"#0d0887\"],[0.1111111111111111,\"#46039f\"],[0.2222222222222222,\"#7201a8\"],[0.3333333333333333,\"#9c179e\"],[0.4444444444444444,\"#bd3786\"],[0.5555555555555556,\"#d8576b\"],[0.6666666666666666,\"#ed7953\"],[0.7777777777777778,\"#fb9f3a\"],[0.8888888888888888,\"#fdca26\"],[1.0,\"#f0f921\"]]}],\"heatmapgl\":[{\"type\":\"heatmapgl\",\"colorbar\":{\"outlinewidth\":0,\"ticks\":\"\"},\"colorscale\":[[0.0,\"#0d0887\"],[0.1111111111111111,\"#46039f\"],[0.2222222222222222,\"#7201a8\"],[0.3333333333333333,\"#9c179e\"],[0.4444444444444444,\"#bd3786\"],[0.5555555555555556,\"#d8576b\"],[0.6666666666666666,\"#ed7953\"],[0.7777777777777778,\"#fb9f3a\"],[0.8888888888888888,\"#fdca26\"],[1.0,\"#f0f921\"]]}],\"contourcarpet\":[{\"type\":\"contourcarpet\",\"colorbar\":{\"outlinewidth\":0,\"ticks\":\"\"}}],\"contour\":[{\"type\":\"contour\",\"colorbar\":{\"outlinewidth\":0,\"ticks\":\"\"},\"colorscale\":[[0.0,\"#0d0887\"],[0.1111111111111111,\"#46039f\"],[0.2222222222222222,\"#7201a8\"],[0.3333333333333333,\"#9c179e\"],[0.4444444444444444,\"#bd3786\"],[0.5555555555555556,\"#d8576b\"],[0.6666666666666666,\"#ed7953\"],[0.7777777777777778,\"#fb9f3a\"],[0.8888888888888888,\"#fdca26\"],[1.0,\"#f0f921\"]]}],\"surface\":[{\"type\":\"surface\",\"colorbar\":{\"outlinewidth\":0,\"ticks\":\"\"},\"colorscale\":[[0.0,\"#0d0887\"],[0.1111111111111111,\"#46039f\"],[0.2222222222222222,\"#7201a8\"],[0.3333333333333333,\"#9c179e\"],[0.4444444444444444,\"#bd3786\"],[0.5555555555555556,\"#d8576b\"],[0.6666666666666666,\"#ed7953\"],[0.7777777777777778,\"#fb9f3a\"],[0.8888888888888888,\"#fdca26\"],[1.0,\"#f0f921\"]]}],\"mesh3d\":[{\"type\":\"mesh3d\",\"colorbar\":{\"outlinewidth\":0,\"ticks\":\"\"}}],\"scatter\":[{\"fillpattern\":{\"fillmode\":\"overlay\",\"size\":10,\"solidity\":0.2},\"type\":\"scatter\"}],\"parcoords\":[{\"type\":\"parcoords\",\"line\":{\"colorbar\":{\"outlinewidth\":0,\"ticks\":\"\"}}}],\"scatterpolargl\":[{\"type\":\"scatterpolargl\",\"marker\":{\"colorbar\":{\"outlinewidth\":0,\"ticks\":\"\"}}}],\"bar\":[{\"error_x\":{\"color\":\"#2a3f5f\"},\"error_y\":{\"color\":\"#2a3f5f\"},\"marker\":{\"line\":{\"color\":\"#E5ECF6\",\"width\":0.5},\"pattern\":{\"fillmode\":\"overlay\",\"size\":10,\"solidity\":0.2}},\"type\":\"bar\"}],\"scattergeo\":[{\"type\":\"scattergeo\",\"marker\":{\"colorbar\":{\"outlinewidth\":0,\"ticks\":\"\"}}}],\"scatterpolar\":[{\"type\":\"scatterpolar\",\"marker\":{\"colorbar\":{\"outlinewidth\":0,\"ticks\":\"\"}}}],\"histogram\":[{\"marker\":{\"pattern\":{\"fillmode\":\"overlay\",\"size\":10,\"solidity\":0.2}},\"type\":\"histogram\"}],\"scattergl\":[{\"type\":\"scattergl\",\"marker\":{\"colorbar\":{\"outlinewidth\":0,\"ticks\":\"\"}}}],\"scatter3d\":[{\"type\":\"scatter3d\",\"line\":{\"colorbar\":{\"outlinewidth\":0,\"ticks\":\"\"}},\"marker\":{\"colorbar\":{\"outlinewidth\":0,\"ticks\":\"\"}}}],\"scattermapbox\":[{\"type\":\"scattermapbox\",\"marker\":{\"colorbar\":{\"outlinewidth\":0,\"ticks\":\"\"}}}],\"scatterternary\":[{\"type\":\"scatterternary\",\"marker\":{\"colorbar\":{\"outlinewidth\":0,\"ticks\":\"\"}}}],\"scattercarpet\":[{\"type\":\"scattercarpet\",\"marker\":{\"colorbar\":{\"outlinewidth\":0,\"ticks\":\"\"}}}],\"carpet\":[{\"aaxis\":{\"endlinecolor\":\"#2a3f5f\",\"gridcolor\":\"white\",\"linecolor\":\"white\",\"minorgridcolor\":\"white\",\"startlinecolor\":\"#2a3f5f\"},\"baxis\":{\"endlinecolor\":\"#2a3f5f\",\"gridcolor\":\"white\",\"linecolor\":\"white\",\"minorgridcolor\":\"white\",\"startlinecolor\":\"#2a3f5f\"},\"type\":\"carpet\"}],\"table\":[{\"cells\":{\"fill\":{\"color\":\"#EBF0F8\"},\"line\":{\"color\":\"white\"}},\"header\":{\"fill\":{\"color\":\"#C8D4E3\"},\"line\":{\"color\":\"white\"}},\"type\":\"table\"}],\"barpolar\":[{\"marker\":{\"line\":{\"color\":\"#E5ECF6\",\"width\":0.5},\"pattern\":{\"fillmode\":\"overlay\",\"size\":10,\"solidity\":0.2}},\"type\":\"barpolar\"}],\"pie\":[{\"automargin\":true,\"type\":\"pie\"}]},\"layout\":{\"autotypenumbers\":\"strict\",\"colorway\":[\"#636efa\",\"#EF553B\",\"#00cc96\",\"#ab63fa\",\"#FFA15A\",\"#19d3f3\",\"#FF6692\",\"#B6E880\",\"#FF97FF\",\"#FECB52\"],\"font\":{\"color\":\"#2a3f5f\"},\"hovermode\":\"closest\",\"hoverlabel\":{\"align\":\"left\"},\"paper_bgcolor\":\"white\",\"plot_bgcolor\":\"#E5ECF6\",\"polar\":{\"bgcolor\":\"#E5ECF6\",\"angularaxis\":{\"gridcolor\":\"white\",\"linecolor\":\"white\",\"ticks\":\"\"},\"radialaxis\":{\"gridcolor\":\"white\",\"linecolor\":\"white\",\"ticks\":\"\"}},\"ternary\":{\"bgcolor\":\"#E5ECF6\",\"aaxis\":{\"gridcolor\":\"white\",\"linecolor\":\"white\",\"ticks\":\"\"},\"baxis\":{\"gridcolor\":\"white\",\"linecolor\":\"white\",\"ticks\":\"\"},\"caxis\":{\"gridcolor\":\"white\",\"linecolor\":\"white\",\"ticks\":\"\"}},\"coloraxis\":{\"colorbar\":{\"outlinewidth\":0,\"ticks\":\"\"}},\"colorscale\":{\"sequential\":[[0.0,\"#0d0887\"],[0.1111111111111111,\"#46039f\"],[0.2222222222222222,\"#7201a8\"],[0.3333333333333333,\"#9c179e\"],[0.4444444444444444,\"#bd3786\"],[0.5555555555555556,\"#d8576b\"],[0.6666666666666666,\"#ed7953\"],[0.7777777777777778,\"#fb9f3a\"],[0.8888888888888888,\"#fdca26\"],[1.0,\"#f0f921\"]],\"sequentialminus\":[[0.0,\"#0d0887\"],[0.1111111111111111,\"#46039f\"],[0.2222222222222222,\"#7201a8\"],[0.3333333333333333,\"#9c179e\"],[0.4444444444444444,\"#bd3786\"],[0.5555555555555556,\"#d8576b\"],[0.6666666666666666,\"#ed7953\"],[0.7777777777777778,\"#fb9f3a\"],[0.8888888888888888,\"#fdca26\"],[1.0,\"#f0f921\"]],\"diverging\":[[0,\"#8e0152\"],[0.1,\"#c51b7d\"],[0.2,\"#de77ae\"],[0.3,\"#f1b6da\"],[0.4,\"#fde0ef\"],[0.5,\"#f7f7f7\"],[0.6,\"#e6f5d0\"],[0.7,\"#b8e186\"],[0.8,\"#7fbc41\"],[0.9,\"#4d9221\"],[1,\"#276419\"]]},\"xaxis\":{\"gridcolor\":\"white\",\"linecolor\":\"white\",\"ticks\":\"\",\"title\":{\"standoff\":15},\"zerolinecolor\":\"white\",\"automargin\":true,\"zerolinewidth\":2},\"yaxis\":{\"gridcolor\":\"white\",\"linecolor\":\"white\",\"ticks\":\"\",\"title\":{\"standoff\":15},\"zerolinecolor\":\"white\",\"automargin\":true,\"zerolinewidth\":2},\"scene\":{\"xaxis\":{\"backgroundcolor\":\"#E5ECF6\",\"gridcolor\":\"white\",\"linecolor\":\"white\",\"showbackground\":true,\"ticks\":\"\",\"zerolinecolor\":\"white\",\"gridwidth\":2},\"yaxis\":{\"backgroundcolor\":\"#E5ECF6\",\"gridcolor\":\"white\",\"linecolor\":\"white\",\"showbackground\":true,\"ticks\":\"\",\"zerolinecolor\":\"white\",\"gridwidth\":2},\"zaxis\":{\"backgroundcolor\":\"#E5ECF6\",\"gridcolor\":\"white\",\"linecolor\":\"white\",\"showbackground\":true,\"ticks\":\"\",\"zerolinecolor\":\"white\",\"gridwidth\":2}},\"shapedefaults\":{\"line\":{\"color\":\"#2a3f5f\"}},\"annotationdefaults\":{\"arrowcolor\":\"#2a3f5f\",\"arrowhead\":0,\"arrowwidth\":1},\"geo\":{\"bgcolor\":\"white\",\"landcolor\":\"#E5ECF6\",\"subunitcolor\":\"white\",\"showland\":true,\"showlakes\":true,\"lakecolor\":\"white\"},\"title\":{\"x\":0.05},\"mapbox\":{\"style\":\"light\"}}},\"xaxis\":{\"anchor\":\"y\",\"domain\":[0.0,1.0],\"title\":{\"text\":\"web_id\"}},\"yaxis\":{\"anchor\":\"x\",\"domain\":[0.0,1.0],\"title\":{\"text\":\"overall_sentiment\"}},\"coloraxis\":{\"colorbar\":{\"title\":{\"text\":\"overall_sentiment\"}},\"colorscale\":[[0.0,\"rgb(75, 41, 145)\"],[0.16666666666666666,\"rgb(135, 44, 162)\"],[0.3333333333333333,\"rgb(192, 54, 157)\"],[0.5,\"rgb(234, 79, 136)\"],[0.6666666666666666,\"rgb(250, 120, 118)\"],[0.8333333333333334,\"rgb(246, 169, 122)\"],[1.0,\"rgb(237, 217, 163)\"]]},\"legend\":{\"tracegroupgap\":0},\"margin\":{\"t\":60}},                        {\"responsive\": true}                    ).then(function(){\n",
       "                            \n",
       "var gd = document.getElementById('30ece9e9-a0ef-4af9-9da0-cbe298dc9d5c');\n",
       "var x = new MutationObserver(function (mutations, observer) {{\n",
       "        var display = window.getComputedStyle(gd).display;\n",
       "        if (!display || display === 'none') {{\n",
       "            console.log([gd, 'removed!']);\n",
       "            Plotly.purge(gd);\n",
       "            observer.disconnect();\n",
       "        }}\n",
       "}});\n",
       "\n",
       "// Listen for the removal of the full notebook cells\n",
       "var notebookContainer = gd.closest('#notebook-container');\n",
       "if (notebookContainer) {{\n",
       "    x.observe(notebookContainer, {childList: true});\n",
       "}}\n",
       "\n",
       "// Listen for the clearing of the current output cell\n",
       "var outputEl = gd.closest('.output');\n",
       "if (outputEl) {{\n",
       "    x.observe(outputEl, {childList: true});\n",
       "}}\n",
       "\n",
       "                        })                };                });            </script>        </div>"
      ]
     },
     "metadata": {},
     "output_type": "display_data"
    }
   ],
   "source": [
    "import plotly.express as px\n",
    "fig = px.scatter(dataFrame, x= 'web_id', y= 'overall_sentiment', color = 'overall_sentiment', color_continuous_scale=px.colors.sequential.Agsunset)\n",
    "fig.show()"
   ]
  },
  {
   "cell_type": "markdown",
   "id": "3246e253",
   "metadata": {},
   "source": [
    "### Plotting the positive sentiment scores for each link"
   ]
  },
  {
   "cell_type": "code",
   "execution_count": 29,
   "id": "7344b8f8",
   "metadata": {},
   "outputs": [
    {
     "data": {
      "application/vnd.plotly.v1+json": {
       "config": {
        "plotlyServerURL": "https://plot.ly"
       },
       "data": [
        {
         "hovertemplate": "web_id=%{x}<br>positive_sentiment=%{marker.color}<extra></extra>",
         "legendgroup": "",
         "marker": {
          "color": [
           0.18,
           0.167,
           0.224,
           0.261,
           0.185,
           0.113,
           0.168,
           0.13,
           0.181,
           0.122,
           0.115,
           0.156,
           0.171,
           0.119,
           0.142,
           0.181,
           0.103,
           0,
           0.117,
           0.093,
           0.202,
           0.143,
           0.177,
           0.184,
           0.163,
           0.154,
           0.164,
           0.199,
           0.171,
           0.156,
           0.154,
           0.109,
           0.173,
           0.156,
           0.124,
           0.115,
           0.214,
           0.123,
           0.183,
           0.142,
           0.192,
           0.065,
           0.15,
           0.151,
           0.199,
           0.187,
           0.119,
           0.151,
           0.183,
           0.156,
           0.217,
           0.155,
           0.171,
           0.199,
           0.216,
           0.182,
           0.114,
           0.156,
           0.132,
           0.095,
           0.138,
           0.075,
           0.226,
           0.185,
           0.119,
           0.151,
           0.118,
           0.106,
           0.119,
           0.166,
           0.126,
           0.127,
           0.127,
           0.191,
           0.191,
           0.142,
           0.142,
           0.147,
           0.147,
           0.166,
           0.166,
           0.143,
           0.143,
           0.15,
           0.15,
           0.175,
           0.175,
           0.133,
           0.133,
           0.094,
           0.094,
           0.171,
           0.171,
           0.152,
           0.124,
           0.085,
           0.177,
           0.198,
           0.196,
           0.18,
           0.2,
           0.205,
           0.184,
           0.172,
           0.115,
           0,
           0.127,
           0.17,
           0.207,
           0.218,
           0.12,
           0.149,
           0
          ],
          "coloraxis": "coloraxis",
          "symbol": "circle"
         },
         "mode": "markers",
         "name": "",
         "orientation": "v",
         "showlegend": false,
         "type": "scatter",
         "x": [
          0,
          1,
          2,
          3,
          4,
          5,
          6,
          7,
          8,
          9,
          10,
          11,
          12,
          13,
          14,
          15,
          16,
          17,
          18,
          19,
          20,
          21,
          22,
          23,
          24,
          25,
          26,
          27,
          28,
          29,
          30,
          31,
          32,
          33,
          34,
          35,
          36,
          37,
          38,
          39,
          40,
          41,
          42,
          43,
          44,
          45,
          46,
          47,
          48,
          49,
          50,
          51,
          52,
          53,
          54,
          55,
          56,
          57,
          58,
          59,
          60,
          61,
          62,
          63,
          64,
          65,
          66,
          67,
          68,
          69,
          70,
          71,
          72,
          73,
          74,
          75,
          76,
          77,
          78,
          79,
          80,
          81,
          82,
          83,
          84,
          85,
          86,
          87,
          88,
          89,
          90,
          91,
          92,
          93,
          94,
          95,
          96,
          97,
          98,
          99,
          100,
          101,
          102,
          103,
          104,
          105,
          106,
          107,
          108,
          109,
          110,
          111,
          112
         ],
         "xaxis": "x",
         "y": [
          0.18,
          0.167,
          0.224,
          0.261,
          0.185,
          0.113,
          0.168,
          0.13,
          0.181,
          0.122,
          0.115,
          0.156,
          0.171,
          0.119,
          0.142,
          0.181,
          0.103,
          0,
          0.117,
          0.093,
          0.202,
          0.143,
          0.177,
          0.184,
          0.163,
          0.154,
          0.164,
          0.199,
          0.171,
          0.156,
          0.154,
          0.109,
          0.173,
          0.156,
          0.124,
          0.115,
          0.214,
          0.123,
          0.183,
          0.142,
          0.192,
          0.065,
          0.15,
          0.151,
          0.199,
          0.187,
          0.119,
          0.151,
          0.183,
          0.156,
          0.217,
          0.155,
          0.171,
          0.199,
          0.216,
          0.182,
          0.114,
          0.156,
          0.132,
          0.095,
          0.138,
          0.075,
          0.226,
          0.185,
          0.119,
          0.151,
          0.118,
          0.106,
          0.119,
          0.166,
          0.126,
          0.127,
          0.127,
          0.191,
          0.191,
          0.142,
          0.142,
          0.147,
          0.147,
          0.166,
          0.166,
          0.143,
          0.143,
          0.15,
          0.15,
          0.175,
          0.175,
          0.133,
          0.133,
          0.094,
          0.094,
          0.171,
          0.171,
          0.152,
          0.124,
          0.085,
          0.177,
          0.198,
          0.196,
          0.18,
          0.2,
          0.205,
          0.184,
          0.172,
          0.115,
          0,
          0.127,
          0.17,
          0.207,
          0.218,
          0.12,
          0.149,
          0
         ],
         "yaxis": "y"
        }
       ],
       "layout": {
        "coloraxis": {
         "colorbar": {
          "title": {
           "text": "positive_sentiment"
          }
         },
         "colorscale": [
          [
           0,
           "rgb(75, 41, 145)"
          ],
          [
           0.16666666666666666,
           "rgb(135, 44, 162)"
          ],
          [
           0.3333333333333333,
           "rgb(192, 54, 157)"
          ],
          [
           0.5,
           "rgb(234, 79, 136)"
          ],
          [
           0.6666666666666666,
           "rgb(250, 120, 118)"
          ],
          [
           0.8333333333333334,
           "rgb(246, 169, 122)"
          ],
          [
           1,
           "rgb(237, 217, 163)"
          ]
         ]
        },
        "legend": {
         "tracegroupgap": 0
        },
        "margin": {
         "t": 60
        },
        "template": {
         "data": {
          "bar": [
           {
            "error_x": {
             "color": "#2a3f5f"
            },
            "error_y": {
             "color": "#2a3f5f"
            },
            "marker": {
             "line": {
              "color": "#E5ECF6",
              "width": 0.5
             },
             "pattern": {
              "fillmode": "overlay",
              "size": 10,
              "solidity": 0.2
             }
            },
            "type": "bar"
           }
          ],
          "barpolar": [
           {
            "marker": {
             "line": {
              "color": "#E5ECF6",
              "width": 0.5
             },
             "pattern": {
              "fillmode": "overlay",
              "size": 10,
              "solidity": 0.2
             }
            },
            "type": "barpolar"
           }
          ],
          "carpet": [
           {
            "aaxis": {
             "endlinecolor": "#2a3f5f",
             "gridcolor": "white",
             "linecolor": "white",
             "minorgridcolor": "white",
             "startlinecolor": "#2a3f5f"
            },
            "baxis": {
             "endlinecolor": "#2a3f5f",
             "gridcolor": "white",
             "linecolor": "white",
             "minorgridcolor": "white",
             "startlinecolor": "#2a3f5f"
            },
            "type": "carpet"
           }
          ],
          "choropleth": [
           {
            "colorbar": {
             "outlinewidth": 0,
             "ticks": ""
            },
            "type": "choropleth"
           }
          ],
          "contour": [
           {
            "colorbar": {
             "outlinewidth": 0,
             "ticks": ""
            },
            "colorscale": [
             [
              0,
              "#0d0887"
             ],
             [
              0.1111111111111111,
              "#46039f"
             ],
             [
              0.2222222222222222,
              "#7201a8"
             ],
             [
              0.3333333333333333,
              "#9c179e"
             ],
             [
              0.4444444444444444,
              "#bd3786"
             ],
             [
              0.5555555555555556,
              "#d8576b"
             ],
             [
              0.6666666666666666,
              "#ed7953"
             ],
             [
              0.7777777777777778,
              "#fb9f3a"
             ],
             [
              0.8888888888888888,
              "#fdca26"
             ],
             [
              1,
              "#f0f921"
             ]
            ],
            "type": "contour"
           }
          ],
          "contourcarpet": [
           {
            "colorbar": {
             "outlinewidth": 0,
             "ticks": ""
            },
            "type": "contourcarpet"
           }
          ],
          "heatmap": [
           {
            "colorbar": {
             "outlinewidth": 0,
             "ticks": ""
            },
            "colorscale": [
             [
              0,
              "#0d0887"
             ],
             [
              0.1111111111111111,
              "#46039f"
             ],
             [
              0.2222222222222222,
              "#7201a8"
             ],
             [
              0.3333333333333333,
              "#9c179e"
             ],
             [
              0.4444444444444444,
              "#bd3786"
             ],
             [
              0.5555555555555556,
              "#d8576b"
             ],
             [
              0.6666666666666666,
              "#ed7953"
             ],
             [
              0.7777777777777778,
              "#fb9f3a"
             ],
             [
              0.8888888888888888,
              "#fdca26"
             ],
             [
              1,
              "#f0f921"
             ]
            ],
            "type": "heatmap"
           }
          ],
          "heatmapgl": [
           {
            "colorbar": {
             "outlinewidth": 0,
             "ticks": ""
            },
            "colorscale": [
             [
              0,
              "#0d0887"
             ],
             [
              0.1111111111111111,
              "#46039f"
             ],
             [
              0.2222222222222222,
              "#7201a8"
             ],
             [
              0.3333333333333333,
              "#9c179e"
             ],
             [
              0.4444444444444444,
              "#bd3786"
             ],
             [
              0.5555555555555556,
              "#d8576b"
             ],
             [
              0.6666666666666666,
              "#ed7953"
             ],
             [
              0.7777777777777778,
              "#fb9f3a"
             ],
             [
              0.8888888888888888,
              "#fdca26"
             ],
             [
              1,
              "#f0f921"
             ]
            ],
            "type": "heatmapgl"
           }
          ],
          "histogram": [
           {
            "marker": {
             "pattern": {
              "fillmode": "overlay",
              "size": 10,
              "solidity": 0.2
             }
            },
            "type": "histogram"
           }
          ],
          "histogram2d": [
           {
            "colorbar": {
             "outlinewidth": 0,
             "ticks": ""
            },
            "colorscale": [
             [
              0,
              "#0d0887"
             ],
             [
              0.1111111111111111,
              "#46039f"
             ],
             [
              0.2222222222222222,
              "#7201a8"
             ],
             [
              0.3333333333333333,
              "#9c179e"
             ],
             [
              0.4444444444444444,
              "#bd3786"
             ],
             [
              0.5555555555555556,
              "#d8576b"
             ],
             [
              0.6666666666666666,
              "#ed7953"
             ],
             [
              0.7777777777777778,
              "#fb9f3a"
             ],
             [
              0.8888888888888888,
              "#fdca26"
             ],
             [
              1,
              "#f0f921"
             ]
            ],
            "type": "histogram2d"
           }
          ],
          "histogram2dcontour": [
           {
            "colorbar": {
             "outlinewidth": 0,
             "ticks": ""
            },
            "colorscale": [
             [
              0,
              "#0d0887"
             ],
             [
              0.1111111111111111,
              "#46039f"
             ],
             [
              0.2222222222222222,
              "#7201a8"
             ],
             [
              0.3333333333333333,
              "#9c179e"
             ],
             [
              0.4444444444444444,
              "#bd3786"
             ],
             [
              0.5555555555555556,
              "#d8576b"
             ],
             [
              0.6666666666666666,
              "#ed7953"
             ],
             [
              0.7777777777777778,
              "#fb9f3a"
             ],
             [
              0.8888888888888888,
              "#fdca26"
             ],
             [
              1,
              "#f0f921"
             ]
            ],
            "type": "histogram2dcontour"
           }
          ],
          "mesh3d": [
           {
            "colorbar": {
             "outlinewidth": 0,
             "ticks": ""
            },
            "type": "mesh3d"
           }
          ],
          "parcoords": [
           {
            "line": {
             "colorbar": {
              "outlinewidth": 0,
              "ticks": ""
             }
            },
            "type": "parcoords"
           }
          ],
          "pie": [
           {
            "automargin": true,
            "type": "pie"
           }
          ],
          "scatter": [
           {
            "fillpattern": {
             "fillmode": "overlay",
             "size": 10,
             "solidity": 0.2
            },
            "type": "scatter"
           }
          ],
          "scatter3d": [
           {
            "line": {
             "colorbar": {
              "outlinewidth": 0,
              "ticks": ""
             }
            },
            "marker": {
             "colorbar": {
              "outlinewidth": 0,
              "ticks": ""
             }
            },
            "type": "scatter3d"
           }
          ],
          "scattercarpet": [
           {
            "marker": {
             "colorbar": {
              "outlinewidth": 0,
              "ticks": ""
             }
            },
            "type": "scattercarpet"
           }
          ],
          "scattergeo": [
           {
            "marker": {
             "colorbar": {
              "outlinewidth": 0,
              "ticks": ""
             }
            },
            "type": "scattergeo"
           }
          ],
          "scattergl": [
           {
            "marker": {
             "colorbar": {
              "outlinewidth": 0,
              "ticks": ""
             }
            },
            "type": "scattergl"
           }
          ],
          "scattermapbox": [
           {
            "marker": {
             "colorbar": {
              "outlinewidth": 0,
              "ticks": ""
             }
            },
            "type": "scattermapbox"
           }
          ],
          "scatterpolar": [
           {
            "marker": {
             "colorbar": {
              "outlinewidth": 0,
              "ticks": ""
             }
            },
            "type": "scatterpolar"
           }
          ],
          "scatterpolargl": [
           {
            "marker": {
             "colorbar": {
              "outlinewidth": 0,
              "ticks": ""
             }
            },
            "type": "scatterpolargl"
           }
          ],
          "scatterternary": [
           {
            "marker": {
             "colorbar": {
              "outlinewidth": 0,
              "ticks": ""
             }
            },
            "type": "scatterternary"
           }
          ],
          "surface": [
           {
            "colorbar": {
             "outlinewidth": 0,
             "ticks": ""
            },
            "colorscale": [
             [
              0,
              "#0d0887"
             ],
             [
              0.1111111111111111,
              "#46039f"
             ],
             [
              0.2222222222222222,
              "#7201a8"
             ],
             [
              0.3333333333333333,
              "#9c179e"
             ],
             [
              0.4444444444444444,
              "#bd3786"
             ],
             [
              0.5555555555555556,
              "#d8576b"
             ],
             [
              0.6666666666666666,
              "#ed7953"
             ],
             [
              0.7777777777777778,
              "#fb9f3a"
             ],
             [
              0.8888888888888888,
              "#fdca26"
             ],
             [
              1,
              "#f0f921"
             ]
            ],
            "type": "surface"
           }
          ],
          "table": [
           {
            "cells": {
             "fill": {
              "color": "#EBF0F8"
             },
             "line": {
              "color": "white"
             }
            },
            "header": {
             "fill": {
              "color": "#C8D4E3"
             },
             "line": {
              "color": "white"
             }
            },
            "type": "table"
           }
          ]
         },
         "layout": {
          "annotationdefaults": {
           "arrowcolor": "#2a3f5f",
           "arrowhead": 0,
           "arrowwidth": 1
          },
          "autotypenumbers": "strict",
          "coloraxis": {
           "colorbar": {
            "outlinewidth": 0,
            "ticks": ""
           }
          },
          "colorscale": {
           "diverging": [
            [
             0,
             "#8e0152"
            ],
            [
             0.1,
             "#c51b7d"
            ],
            [
             0.2,
             "#de77ae"
            ],
            [
             0.3,
             "#f1b6da"
            ],
            [
             0.4,
             "#fde0ef"
            ],
            [
             0.5,
             "#f7f7f7"
            ],
            [
             0.6,
             "#e6f5d0"
            ],
            [
             0.7,
             "#b8e186"
            ],
            [
             0.8,
             "#7fbc41"
            ],
            [
             0.9,
             "#4d9221"
            ],
            [
             1,
             "#276419"
            ]
           ],
           "sequential": [
            [
             0,
             "#0d0887"
            ],
            [
             0.1111111111111111,
             "#46039f"
            ],
            [
             0.2222222222222222,
             "#7201a8"
            ],
            [
             0.3333333333333333,
             "#9c179e"
            ],
            [
             0.4444444444444444,
             "#bd3786"
            ],
            [
             0.5555555555555556,
             "#d8576b"
            ],
            [
             0.6666666666666666,
             "#ed7953"
            ],
            [
             0.7777777777777778,
             "#fb9f3a"
            ],
            [
             0.8888888888888888,
             "#fdca26"
            ],
            [
             1,
             "#f0f921"
            ]
           ],
           "sequentialminus": [
            [
             0,
             "#0d0887"
            ],
            [
             0.1111111111111111,
             "#46039f"
            ],
            [
             0.2222222222222222,
             "#7201a8"
            ],
            [
             0.3333333333333333,
             "#9c179e"
            ],
            [
             0.4444444444444444,
             "#bd3786"
            ],
            [
             0.5555555555555556,
             "#d8576b"
            ],
            [
             0.6666666666666666,
             "#ed7953"
            ],
            [
             0.7777777777777778,
             "#fb9f3a"
            ],
            [
             0.8888888888888888,
             "#fdca26"
            ],
            [
             1,
             "#f0f921"
            ]
           ]
          },
          "colorway": [
           "#636efa",
           "#EF553B",
           "#00cc96",
           "#ab63fa",
           "#FFA15A",
           "#19d3f3",
           "#FF6692",
           "#B6E880",
           "#FF97FF",
           "#FECB52"
          ],
          "font": {
           "color": "#2a3f5f"
          },
          "geo": {
           "bgcolor": "white",
           "lakecolor": "white",
           "landcolor": "#E5ECF6",
           "showlakes": true,
           "showland": true,
           "subunitcolor": "white"
          },
          "hoverlabel": {
           "align": "left"
          },
          "hovermode": "closest",
          "mapbox": {
           "style": "light"
          },
          "paper_bgcolor": "white",
          "plot_bgcolor": "#E5ECF6",
          "polar": {
           "angularaxis": {
            "gridcolor": "white",
            "linecolor": "white",
            "ticks": ""
           },
           "bgcolor": "#E5ECF6",
           "radialaxis": {
            "gridcolor": "white",
            "linecolor": "white",
            "ticks": ""
           }
          },
          "scene": {
           "xaxis": {
            "backgroundcolor": "#E5ECF6",
            "gridcolor": "white",
            "gridwidth": 2,
            "linecolor": "white",
            "showbackground": true,
            "ticks": "",
            "zerolinecolor": "white"
           },
           "yaxis": {
            "backgroundcolor": "#E5ECF6",
            "gridcolor": "white",
            "gridwidth": 2,
            "linecolor": "white",
            "showbackground": true,
            "ticks": "",
            "zerolinecolor": "white"
           },
           "zaxis": {
            "backgroundcolor": "#E5ECF6",
            "gridcolor": "white",
            "gridwidth": 2,
            "linecolor": "white",
            "showbackground": true,
            "ticks": "",
            "zerolinecolor": "white"
           }
          },
          "shapedefaults": {
           "line": {
            "color": "#2a3f5f"
           }
          },
          "ternary": {
           "aaxis": {
            "gridcolor": "white",
            "linecolor": "white",
            "ticks": ""
           },
           "baxis": {
            "gridcolor": "white",
            "linecolor": "white",
            "ticks": ""
           },
           "bgcolor": "#E5ECF6",
           "caxis": {
            "gridcolor": "white",
            "linecolor": "white",
            "ticks": ""
           }
          },
          "title": {
           "x": 0.05
          },
          "xaxis": {
           "automargin": true,
           "gridcolor": "white",
           "linecolor": "white",
           "ticks": "",
           "title": {
            "standoff": 15
           },
           "zerolinecolor": "white",
           "zerolinewidth": 2
          },
          "yaxis": {
           "automargin": true,
           "gridcolor": "white",
           "linecolor": "white",
           "ticks": "",
           "title": {
            "standoff": 15
           },
           "zerolinecolor": "white",
           "zerolinewidth": 2
          }
         }
        },
        "xaxis": {
         "anchor": "y",
         "domain": [
          0,
          1
         ],
         "title": {
          "text": "web_id"
         }
        },
        "yaxis": {
         "anchor": "x",
         "domain": [
          0,
          1
         ],
         "title": {
          "text": "positive_sentiment"
         }
        }
       }
      },
      "text/html": [
       "<div>                            <div id=\"bd305be0-300d-4325-b39e-185e1d2470df\" class=\"plotly-graph-div\" style=\"height:525px; width:100%;\"></div>            <script type=\"text/javascript\">                require([\"plotly\"], function(Plotly) {                    window.PLOTLYENV=window.PLOTLYENV || {};                                    if (document.getElementById(\"bd305be0-300d-4325-b39e-185e1d2470df\")) {                    Plotly.newPlot(                        \"bd305be0-300d-4325-b39e-185e1d2470df\",                        [{\"hovertemplate\":\"web_id=%{x}<br>positive_sentiment=%{marker.color}<extra></extra>\",\"legendgroup\":\"\",\"marker\":{\"color\":[0.18,0.167,0.224,0.261,0.185,0.113,0.168,0.13,0.181,0.122,0.115,0.156,0.171,0.119,0.142,0.181,0.103,0.0,0.117,0.093,0.202,0.143,0.177,0.184,0.163,0.154,0.164,0.199,0.171,0.156,0.154,0.109,0.173,0.156,0.124,0.115,0.214,0.123,0.183,0.142,0.192,0.065,0.15,0.151,0.199,0.187,0.119,0.151,0.183,0.156,0.217,0.155,0.171,0.199,0.216,0.182,0.114,0.156,0.132,0.095,0.138,0.075,0.226,0.185,0.119,0.151,0.118,0.106,0.119,0.166,0.126,0.127,0.127,0.191,0.191,0.142,0.142,0.147,0.147,0.166,0.166,0.143,0.143,0.15,0.15,0.175,0.175,0.133,0.133,0.094,0.094,0.171,0.171,0.152,0.124,0.085,0.177,0.198,0.196,0.18,0.2,0.205,0.184,0.172,0.115,0.0,0.127,0.17,0.207,0.218,0.12,0.149,0.0],\"coloraxis\":\"coloraxis\",\"symbol\":\"circle\"},\"mode\":\"markers\",\"name\":\"\",\"orientation\":\"v\",\"showlegend\":false,\"x\":[0,1,2,3,4,5,6,7,8,9,10,11,12,13,14,15,16,17,18,19,20,21,22,23,24,25,26,27,28,29,30,31,32,33,34,35,36,37,38,39,40,41,42,43,44,45,46,47,48,49,50,51,52,53,54,55,56,57,58,59,60,61,62,63,64,65,66,67,68,69,70,71,72,73,74,75,76,77,78,79,80,81,82,83,84,85,86,87,88,89,90,91,92,93,94,95,96,97,98,99,100,101,102,103,104,105,106,107,108,109,110,111,112],\"xaxis\":\"x\",\"y\":[0.18,0.167,0.224,0.261,0.185,0.113,0.168,0.13,0.181,0.122,0.115,0.156,0.171,0.119,0.142,0.181,0.103,0.0,0.117,0.093,0.202,0.143,0.177,0.184,0.163,0.154,0.164,0.199,0.171,0.156,0.154,0.109,0.173,0.156,0.124,0.115,0.214,0.123,0.183,0.142,0.192,0.065,0.15,0.151,0.199,0.187,0.119,0.151,0.183,0.156,0.217,0.155,0.171,0.199,0.216,0.182,0.114,0.156,0.132,0.095,0.138,0.075,0.226,0.185,0.119,0.151,0.118,0.106,0.119,0.166,0.126,0.127,0.127,0.191,0.191,0.142,0.142,0.147,0.147,0.166,0.166,0.143,0.143,0.15,0.15,0.175,0.175,0.133,0.133,0.094,0.094,0.171,0.171,0.152,0.124,0.085,0.177,0.198,0.196,0.18,0.2,0.205,0.184,0.172,0.115,0.0,0.127,0.17,0.207,0.218,0.12,0.149,0.0],\"yaxis\":\"y\",\"type\":\"scatter\"}],                        {\"template\":{\"data\":{\"histogram2dcontour\":[{\"type\":\"histogram2dcontour\",\"colorbar\":{\"outlinewidth\":0,\"ticks\":\"\"},\"colorscale\":[[0.0,\"#0d0887\"],[0.1111111111111111,\"#46039f\"],[0.2222222222222222,\"#7201a8\"],[0.3333333333333333,\"#9c179e\"],[0.4444444444444444,\"#bd3786\"],[0.5555555555555556,\"#d8576b\"],[0.6666666666666666,\"#ed7953\"],[0.7777777777777778,\"#fb9f3a\"],[0.8888888888888888,\"#fdca26\"],[1.0,\"#f0f921\"]]}],\"choropleth\":[{\"type\":\"choropleth\",\"colorbar\":{\"outlinewidth\":0,\"ticks\":\"\"}}],\"histogram2d\":[{\"type\":\"histogram2d\",\"colorbar\":{\"outlinewidth\":0,\"ticks\":\"\"},\"colorscale\":[[0.0,\"#0d0887\"],[0.1111111111111111,\"#46039f\"],[0.2222222222222222,\"#7201a8\"],[0.3333333333333333,\"#9c179e\"],[0.4444444444444444,\"#bd3786\"],[0.5555555555555556,\"#d8576b\"],[0.6666666666666666,\"#ed7953\"],[0.7777777777777778,\"#fb9f3a\"],[0.8888888888888888,\"#fdca26\"],[1.0,\"#f0f921\"]]}],\"heatmap\":[{\"type\":\"heatmap\",\"colorbar\":{\"outlinewidth\":0,\"ticks\":\"\"},\"colorscale\":[[0.0,\"#0d0887\"],[0.1111111111111111,\"#46039f\"],[0.2222222222222222,\"#7201a8\"],[0.3333333333333333,\"#9c179e\"],[0.4444444444444444,\"#bd3786\"],[0.5555555555555556,\"#d8576b\"],[0.6666666666666666,\"#ed7953\"],[0.7777777777777778,\"#fb9f3a\"],[0.8888888888888888,\"#fdca26\"],[1.0,\"#f0f921\"]]}],\"heatmapgl\":[{\"type\":\"heatmapgl\",\"colorbar\":{\"outlinewidth\":0,\"ticks\":\"\"},\"colorscale\":[[0.0,\"#0d0887\"],[0.1111111111111111,\"#46039f\"],[0.2222222222222222,\"#7201a8\"],[0.3333333333333333,\"#9c179e\"],[0.4444444444444444,\"#bd3786\"],[0.5555555555555556,\"#d8576b\"],[0.6666666666666666,\"#ed7953\"],[0.7777777777777778,\"#fb9f3a\"],[0.8888888888888888,\"#fdca26\"],[1.0,\"#f0f921\"]]}],\"contourcarpet\":[{\"type\":\"contourcarpet\",\"colorbar\":{\"outlinewidth\":0,\"ticks\":\"\"}}],\"contour\":[{\"type\":\"contour\",\"colorbar\":{\"outlinewidth\":0,\"ticks\":\"\"},\"colorscale\":[[0.0,\"#0d0887\"],[0.1111111111111111,\"#46039f\"],[0.2222222222222222,\"#7201a8\"],[0.3333333333333333,\"#9c179e\"],[0.4444444444444444,\"#bd3786\"],[0.5555555555555556,\"#d8576b\"],[0.6666666666666666,\"#ed7953\"],[0.7777777777777778,\"#fb9f3a\"],[0.8888888888888888,\"#fdca26\"],[1.0,\"#f0f921\"]]}],\"surface\":[{\"type\":\"surface\",\"colorbar\":{\"outlinewidth\":0,\"ticks\":\"\"},\"colorscale\":[[0.0,\"#0d0887\"],[0.1111111111111111,\"#46039f\"],[0.2222222222222222,\"#7201a8\"],[0.3333333333333333,\"#9c179e\"],[0.4444444444444444,\"#bd3786\"],[0.5555555555555556,\"#d8576b\"],[0.6666666666666666,\"#ed7953\"],[0.7777777777777778,\"#fb9f3a\"],[0.8888888888888888,\"#fdca26\"],[1.0,\"#f0f921\"]]}],\"mesh3d\":[{\"type\":\"mesh3d\",\"colorbar\":{\"outlinewidth\":0,\"ticks\":\"\"}}],\"scatter\":[{\"fillpattern\":{\"fillmode\":\"overlay\",\"size\":10,\"solidity\":0.2},\"type\":\"scatter\"}],\"parcoords\":[{\"type\":\"parcoords\",\"line\":{\"colorbar\":{\"outlinewidth\":0,\"ticks\":\"\"}}}],\"scatterpolargl\":[{\"type\":\"scatterpolargl\",\"marker\":{\"colorbar\":{\"outlinewidth\":0,\"ticks\":\"\"}}}],\"bar\":[{\"error_x\":{\"color\":\"#2a3f5f\"},\"error_y\":{\"color\":\"#2a3f5f\"},\"marker\":{\"line\":{\"color\":\"#E5ECF6\",\"width\":0.5},\"pattern\":{\"fillmode\":\"overlay\",\"size\":10,\"solidity\":0.2}},\"type\":\"bar\"}],\"scattergeo\":[{\"type\":\"scattergeo\",\"marker\":{\"colorbar\":{\"outlinewidth\":0,\"ticks\":\"\"}}}],\"scatterpolar\":[{\"type\":\"scatterpolar\",\"marker\":{\"colorbar\":{\"outlinewidth\":0,\"ticks\":\"\"}}}],\"histogram\":[{\"marker\":{\"pattern\":{\"fillmode\":\"overlay\",\"size\":10,\"solidity\":0.2}},\"type\":\"histogram\"}],\"scattergl\":[{\"type\":\"scattergl\",\"marker\":{\"colorbar\":{\"outlinewidth\":0,\"ticks\":\"\"}}}],\"scatter3d\":[{\"type\":\"scatter3d\",\"line\":{\"colorbar\":{\"outlinewidth\":0,\"ticks\":\"\"}},\"marker\":{\"colorbar\":{\"outlinewidth\":0,\"ticks\":\"\"}}}],\"scattermapbox\":[{\"type\":\"scattermapbox\",\"marker\":{\"colorbar\":{\"outlinewidth\":0,\"ticks\":\"\"}}}],\"scatterternary\":[{\"type\":\"scatterternary\",\"marker\":{\"colorbar\":{\"outlinewidth\":0,\"ticks\":\"\"}}}],\"scattercarpet\":[{\"type\":\"scattercarpet\",\"marker\":{\"colorbar\":{\"outlinewidth\":0,\"ticks\":\"\"}}}],\"carpet\":[{\"aaxis\":{\"endlinecolor\":\"#2a3f5f\",\"gridcolor\":\"white\",\"linecolor\":\"white\",\"minorgridcolor\":\"white\",\"startlinecolor\":\"#2a3f5f\"},\"baxis\":{\"endlinecolor\":\"#2a3f5f\",\"gridcolor\":\"white\",\"linecolor\":\"white\",\"minorgridcolor\":\"white\",\"startlinecolor\":\"#2a3f5f\"},\"type\":\"carpet\"}],\"table\":[{\"cells\":{\"fill\":{\"color\":\"#EBF0F8\"},\"line\":{\"color\":\"white\"}},\"header\":{\"fill\":{\"color\":\"#C8D4E3\"},\"line\":{\"color\":\"white\"}},\"type\":\"table\"}],\"barpolar\":[{\"marker\":{\"line\":{\"color\":\"#E5ECF6\",\"width\":0.5},\"pattern\":{\"fillmode\":\"overlay\",\"size\":10,\"solidity\":0.2}},\"type\":\"barpolar\"}],\"pie\":[{\"automargin\":true,\"type\":\"pie\"}]},\"layout\":{\"autotypenumbers\":\"strict\",\"colorway\":[\"#636efa\",\"#EF553B\",\"#00cc96\",\"#ab63fa\",\"#FFA15A\",\"#19d3f3\",\"#FF6692\",\"#B6E880\",\"#FF97FF\",\"#FECB52\"],\"font\":{\"color\":\"#2a3f5f\"},\"hovermode\":\"closest\",\"hoverlabel\":{\"align\":\"left\"},\"paper_bgcolor\":\"white\",\"plot_bgcolor\":\"#E5ECF6\",\"polar\":{\"bgcolor\":\"#E5ECF6\",\"angularaxis\":{\"gridcolor\":\"white\",\"linecolor\":\"white\",\"ticks\":\"\"},\"radialaxis\":{\"gridcolor\":\"white\",\"linecolor\":\"white\",\"ticks\":\"\"}},\"ternary\":{\"bgcolor\":\"#E5ECF6\",\"aaxis\":{\"gridcolor\":\"white\",\"linecolor\":\"white\",\"ticks\":\"\"},\"baxis\":{\"gridcolor\":\"white\",\"linecolor\":\"white\",\"ticks\":\"\"},\"caxis\":{\"gridcolor\":\"white\",\"linecolor\":\"white\",\"ticks\":\"\"}},\"coloraxis\":{\"colorbar\":{\"outlinewidth\":0,\"ticks\":\"\"}},\"colorscale\":{\"sequential\":[[0.0,\"#0d0887\"],[0.1111111111111111,\"#46039f\"],[0.2222222222222222,\"#7201a8\"],[0.3333333333333333,\"#9c179e\"],[0.4444444444444444,\"#bd3786\"],[0.5555555555555556,\"#d8576b\"],[0.6666666666666666,\"#ed7953\"],[0.7777777777777778,\"#fb9f3a\"],[0.8888888888888888,\"#fdca26\"],[1.0,\"#f0f921\"]],\"sequentialminus\":[[0.0,\"#0d0887\"],[0.1111111111111111,\"#46039f\"],[0.2222222222222222,\"#7201a8\"],[0.3333333333333333,\"#9c179e\"],[0.4444444444444444,\"#bd3786\"],[0.5555555555555556,\"#d8576b\"],[0.6666666666666666,\"#ed7953\"],[0.7777777777777778,\"#fb9f3a\"],[0.8888888888888888,\"#fdca26\"],[1.0,\"#f0f921\"]],\"diverging\":[[0,\"#8e0152\"],[0.1,\"#c51b7d\"],[0.2,\"#de77ae\"],[0.3,\"#f1b6da\"],[0.4,\"#fde0ef\"],[0.5,\"#f7f7f7\"],[0.6,\"#e6f5d0\"],[0.7,\"#b8e186\"],[0.8,\"#7fbc41\"],[0.9,\"#4d9221\"],[1,\"#276419\"]]},\"xaxis\":{\"gridcolor\":\"white\",\"linecolor\":\"white\",\"ticks\":\"\",\"title\":{\"standoff\":15},\"zerolinecolor\":\"white\",\"automargin\":true,\"zerolinewidth\":2},\"yaxis\":{\"gridcolor\":\"white\",\"linecolor\":\"white\",\"ticks\":\"\",\"title\":{\"standoff\":15},\"zerolinecolor\":\"white\",\"automargin\":true,\"zerolinewidth\":2},\"scene\":{\"xaxis\":{\"backgroundcolor\":\"#E5ECF6\",\"gridcolor\":\"white\",\"linecolor\":\"white\",\"showbackground\":true,\"ticks\":\"\",\"zerolinecolor\":\"white\",\"gridwidth\":2},\"yaxis\":{\"backgroundcolor\":\"#E5ECF6\",\"gridcolor\":\"white\",\"linecolor\":\"white\",\"showbackground\":true,\"ticks\":\"\",\"zerolinecolor\":\"white\",\"gridwidth\":2},\"zaxis\":{\"backgroundcolor\":\"#E5ECF6\",\"gridcolor\":\"white\",\"linecolor\":\"white\",\"showbackground\":true,\"ticks\":\"\",\"zerolinecolor\":\"white\",\"gridwidth\":2}},\"shapedefaults\":{\"line\":{\"color\":\"#2a3f5f\"}},\"annotationdefaults\":{\"arrowcolor\":\"#2a3f5f\",\"arrowhead\":0,\"arrowwidth\":1},\"geo\":{\"bgcolor\":\"white\",\"landcolor\":\"#E5ECF6\",\"subunitcolor\":\"white\",\"showland\":true,\"showlakes\":true,\"lakecolor\":\"white\"},\"title\":{\"x\":0.05},\"mapbox\":{\"style\":\"light\"}}},\"xaxis\":{\"anchor\":\"y\",\"domain\":[0.0,1.0],\"title\":{\"text\":\"web_id\"}},\"yaxis\":{\"anchor\":\"x\",\"domain\":[0.0,1.0],\"title\":{\"text\":\"positive_sentiment\"}},\"coloraxis\":{\"colorbar\":{\"title\":{\"text\":\"positive_sentiment\"}},\"colorscale\":[[0.0,\"rgb(75, 41, 145)\"],[0.16666666666666666,\"rgb(135, 44, 162)\"],[0.3333333333333333,\"rgb(192, 54, 157)\"],[0.5,\"rgb(234, 79, 136)\"],[0.6666666666666666,\"rgb(250, 120, 118)\"],[0.8333333333333334,\"rgb(246, 169, 122)\"],[1.0,\"rgb(237, 217, 163)\"]]},\"legend\":{\"tracegroupgap\":0},\"margin\":{\"t\":60}},                        {\"responsive\": true}                    ).then(function(){\n",
       "                            \n",
       "var gd = document.getElementById('bd305be0-300d-4325-b39e-185e1d2470df');\n",
       "var x = new MutationObserver(function (mutations, observer) {{\n",
       "        var display = window.getComputedStyle(gd).display;\n",
       "        if (!display || display === 'none') {{\n",
       "            console.log([gd, 'removed!']);\n",
       "            Plotly.purge(gd);\n",
       "            observer.disconnect();\n",
       "        }}\n",
       "}});\n",
       "\n",
       "// Listen for the removal of the full notebook cells\n",
       "var notebookContainer = gd.closest('#notebook-container');\n",
       "if (notebookContainer) {{\n",
       "    x.observe(notebookContainer, {childList: true});\n",
       "}}\n",
       "\n",
       "// Listen for the clearing of the current output cell\n",
       "var outputEl = gd.closest('.output');\n",
       "if (outputEl) {{\n",
       "    x.observe(outputEl, {childList: true});\n",
       "}}\n",
       "\n",
       "                        })                };                });            </script>        </div>"
      ]
     },
     "metadata": {},
     "output_type": "display_data"
    }
   ],
   "source": [
    "fig = px.scatter(dataFrame, x= 'web_id', y= 'positive_sentiment', color = 'positive_sentiment', color_continuous_scale=px.colors.sequential.Agsunset)\n",
    "fig.show()"
   ]
  },
  {
   "cell_type": "markdown",
   "id": "fb860eb1",
   "metadata": {},
   "source": [
    "### Plotting the neutral sentiment scores for each link"
   ]
  },
  {
   "cell_type": "code",
   "execution_count": 28,
   "id": "4eab5810",
   "metadata": {},
   "outputs": [
    {
     "data": {
      "application/vnd.plotly.v1+json": {
       "config": {
        "plotlyServerURL": "https://plot.ly"
       },
       "data": [
        {
         "hovertemplate": "web_id=%{x}<br>neutral=%{marker.color}<extra></extra>",
         "legendgroup": "",
         "marker": {
          "color": [
           0.724,
           0.708,
           0.699,
           0.677,
           0.727,
           0.829,
           0.754,
           0.863,
           0.776,
           0.831,
           0.752,
           0.758,
           0.77,
           0.869,
           0.715,
           0.752,
           0.824,
           1,
           0.819,
           0.872,
           0.767,
           0.817,
           0.768,
           0.764,
           0.81,
           0.83,
           0.8,
           0.767,
           0.802,
           0.804,
           0.794,
           0.799,
           0.805,
           0.774,
           0.862,
           0.823,
           0.758,
           0.825,
           0.785,
           0.795,
           0.742,
           0.905,
           0.796,
           0.809,
           0.751,
           0.784,
           0.833,
           0.8,
           0.763,
           0.759,
           0.711,
           0.78,
           0.799,
           0.72,
           0.697,
           0.768,
           0.872,
           0.81,
           0.783,
           0.858,
           0.822,
           0.902,
           0.745,
           0.807,
           0.85,
           0.832,
           0.861,
           0.823,
           0.865,
           0.818,
           0.842,
           0.842,
           0.842,
           0.751,
           0.751,
           0.829,
           0.829,
           0.819,
           0.819,
           0.779,
           0.779,
           0.809,
           0.809,
           0.825,
           0.825,
           0.772,
           0.772,
           0.745,
           0.745,
           0.847,
           0.847,
           0.783,
           0.783,
           0.765,
           0.839,
           0.808,
           0.719,
           0.761,
           0.763,
           0.679,
           0.718,
           0.747,
           0.748,
           0.764,
           0.793,
           0.417,
           0.806,
           0.756,
           0.746,
           0.735,
           0.775,
           0.803,
           0.417
          ],
          "coloraxis": "coloraxis",
          "symbol": "circle"
         },
         "mode": "markers",
         "name": "",
         "orientation": "v",
         "showlegend": false,
         "type": "scatter",
         "x": [
          0,
          1,
          2,
          3,
          4,
          5,
          6,
          7,
          8,
          9,
          10,
          11,
          12,
          13,
          14,
          15,
          16,
          17,
          18,
          19,
          20,
          21,
          22,
          23,
          24,
          25,
          26,
          27,
          28,
          29,
          30,
          31,
          32,
          33,
          34,
          35,
          36,
          37,
          38,
          39,
          40,
          41,
          42,
          43,
          44,
          45,
          46,
          47,
          48,
          49,
          50,
          51,
          52,
          53,
          54,
          55,
          56,
          57,
          58,
          59,
          60,
          61,
          62,
          63,
          64,
          65,
          66,
          67,
          68,
          69,
          70,
          71,
          72,
          73,
          74,
          75,
          76,
          77,
          78,
          79,
          80,
          81,
          82,
          83,
          84,
          85,
          86,
          87,
          88,
          89,
          90,
          91,
          92,
          93,
          94,
          95,
          96,
          97,
          98,
          99,
          100,
          101,
          102,
          103,
          104,
          105,
          106,
          107,
          108,
          109,
          110,
          111,
          112
         ],
         "xaxis": "x",
         "y": [
          0.724,
          0.708,
          0.699,
          0.677,
          0.727,
          0.829,
          0.754,
          0.863,
          0.776,
          0.831,
          0.752,
          0.758,
          0.77,
          0.869,
          0.715,
          0.752,
          0.824,
          1,
          0.819,
          0.872,
          0.767,
          0.817,
          0.768,
          0.764,
          0.81,
          0.83,
          0.8,
          0.767,
          0.802,
          0.804,
          0.794,
          0.799,
          0.805,
          0.774,
          0.862,
          0.823,
          0.758,
          0.825,
          0.785,
          0.795,
          0.742,
          0.905,
          0.796,
          0.809,
          0.751,
          0.784,
          0.833,
          0.8,
          0.763,
          0.759,
          0.711,
          0.78,
          0.799,
          0.72,
          0.697,
          0.768,
          0.872,
          0.81,
          0.783,
          0.858,
          0.822,
          0.902,
          0.745,
          0.807,
          0.85,
          0.832,
          0.861,
          0.823,
          0.865,
          0.818,
          0.842,
          0.842,
          0.842,
          0.751,
          0.751,
          0.829,
          0.829,
          0.819,
          0.819,
          0.779,
          0.779,
          0.809,
          0.809,
          0.825,
          0.825,
          0.772,
          0.772,
          0.745,
          0.745,
          0.847,
          0.847,
          0.783,
          0.783,
          0.765,
          0.839,
          0.808,
          0.719,
          0.761,
          0.763,
          0.679,
          0.718,
          0.747,
          0.748,
          0.764,
          0.793,
          0.417,
          0.806,
          0.756,
          0.746,
          0.735,
          0.775,
          0.803,
          0.417
         ],
         "yaxis": "y"
        }
       ],
       "layout": {
        "coloraxis": {
         "colorbar": {
          "title": {
           "text": "neutral"
          }
         },
         "colorscale": [
          [
           0,
           "rgb(75, 41, 145)"
          ],
          [
           0.16666666666666666,
           "rgb(135, 44, 162)"
          ],
          [
           0.3333333333333333,
           "rgb(192, 54, 157)"
          ],
          [
           0.5,
           "rgb(234, 79, 136)"
          ],
          [
           0.6666666666666666,
           "rgb(250, 120, 118)"
          ],
          [
           0.8333333333333334,
           "rgb(246, 169, 122)"
          ],
          [
           1,
           "rgb(237, 217, 163)"
          ]
         ]
        },
        "legend": {
         "tracegroupgap": 0
        },
        "margin": {
         "t": 60
        },
        "template": {
         "data": {
          "bar": [
           {
            "error_x": {
             "color": "#2a3f5f"
            },
            "error_y": {
             "color": "#2a3f5f"
            },
            "marker": {
             "line": {
              "color": "#E5ECF6",
              "width": 0.5
             },
             "pattern": {
              "fillmode": "overlay",
              "size": 10,
              "solidity": 0.2
             }
            },
            "type": "bar"
           }
          ],
          "barpolar": [
           {
            "marker": {
             "line": {
              "color": "#E5ECF6",
              "width": 0.5
             },
             "pattern": {
              "fillmode": "overlay",
              "size": 10,
              "solidity": 0.2
             }
            },
            "type": "barpolar"
           }
          ],
          "carpet": [
           {
            "aaxis": {
             "endlinecolor": "#2a3f5f",
             "gridcolor": "white",
             "linecolor": "white",
             "minorgridcolor": "white",
             "startlinecolor": "#2a3f5f"
            },
            "baxis": {
             "endlinecolor": "#2a3f5f",
             "gridcolor": "white",
             "linecolor": "white",
             "minorgridcolor": "white",
             "startlinecolor": "#2a3f5f"
            },
            "type": "carpet"
           }
          ],
          "choropleth": [
           {
            "colorbar": {
             "outlinewidth": 0,
             "ticks": ""
            },
            "type": "choropleth"
           }
          ],
          "contour": [
           {
            "colorbar": {
             "outlinewidth": 0,
             "ticks": ""
            },
            "colorscale": [
             [
              0,
              "#0d0887"
             ],
             [
              0.1111111111111111,
              "#46039f"
             ],
             [
              0.2222222222222222,
              "#7201a8"
             ],
             [
              0.3333333333333333,
              "#9c179e"
             ],
             [
              0.4444444444444444,
              "#bd3786"
             ],
             [
              0.5555555555555556,
              "#d8576b"
             ],
             [
              0.6666666666666666,
              "#ed7953"
             ],
             [
              0.7777777777777778,
              "#fb9f3a"
             ],
             [
              0.8888888888888888,
              "#fdca26"
             ],
             [
              1,
              "#f0f921"
             ]
            ],
            "type": "contour"
           }
          ],
          "contourcarpet": [
           {
            "colorbar": {
             "outlinewidth": 0,
             "ticks": ""
            },
            "type": "contourcarpet"
           }
          ],
          "heatmap": [
           {
            "colorbar": {
             "outlinewidth": 0,
             "ticks": ""
            },
            "colorscale": [
             [
              0,
              "#0d0887"
             ],
             [
              0.1111111111111111,
              "#46039f"
             ],
             [
              0.2222222222222222,
              "#7201a8"
             ],
             [
              0.3333333333333333,
              "#9c179e"
             ],
             [
              0.4444444444444444,
              "#bd3786"
             ],
             [
              0.5555555555555556,
              "#d8576b"
             ],
             [
              0.6666666666666666,
              "#ed7953"
             ],
             [
              0.7777777777777778,
              "#fb9f3a"
             ],
             [
              0.8888888888888888,
              "#fdca26"
             ],
             [
              1,
              "#f0f921"
             ]
            ],
            "type": "heatmap"
           }
          ],
          "heatmapgl": [
           {
            "colorbar": {
             "outlinewidth": 0,
             "ticks": ""
            },
            "colorscale": [
             [
              0,
              "#0d0887"
             ],
             [
              0.1111111111111111,
              "#46039f"
             ],
             [
              0.2222222222222222,
              "#7201a8"
             ],
             [
              0.3333333333333333,
              "#9c179e"
             ],
             [
              0.4444444444444444,
              "#bd3786"
             ],
             [
              0.5555555555555556,
              "#d8576b"
             ],
             [
              0.6666666666666666,
              "#ed7953"
             ],
             [
              0.7777777777777778,
              "#fb9f3a"
             ],
             [
              0.8888888888888888,
              "#fdca26"
             ],
             [
              1,
              "#f0f921"
             ]
            ],
            "type": "heatmapgl"
           }
          ],
          "histogram": [
           {
            "marker": {
             "pattern": {
              "fillmode": "overlay",
              "size": 10,
              "solidity": 0.2
             }
            },
            "type": "histogram"
           }
          ],
          "histogram2d": [
           {
            "colorbar": {
             "outlinewidth": 0,
             "ticks": ""
            },
            "colorscale": [
             [
              0,
              "#0d0887"
             ],
             [
              0.1111111111111111,
              "#46039f"
             ],
             [
              0.2222222222222222,
              "#7201a8"
             ],
             [
              0.3333333333333333,
              "#9c179e"
             ],
             [
              0.4444444444444444,
              "#bd3786"
             ],
             [
              0.5555555555555556,
              "#d8576b"
             ],
             [
              0.6666666666666666,
              "#ed7953"
             ],
             [
              0.7777777777777778,
              "#fb9f3a"
             ],
             [
              0.8888888888888888,
              "#fdca26"
             ],
             [
              1,
              "#f0f921"
             ]
            ],
            "type": "histogram2d"
           }
          ],
          "histogram2dcontour": [
           {
            "colorbar": {
             "outlinewidth": 0,
             "ticks": ""
            },
            "colorscale": [
             [
              0,
              "#0d0887"
             ],
             [
              0.1111111111111111,
              "#46039f"
             ],
             [
              0.2222222222222222,
              "#7201a8"
             ],
             [
              0.3333333333333333,
              "#9c179e"
             ],
             [
              0.4444444444444444,
              "#bd3786"
             ],
             [
              0.5555555555555556,
              "#d8576b"
             ],
             [
              0.6666666666666666,
              "#ed7953"
             ],
             [
              0.7777777777777778,
              "#fb9f3a"
             ],
             [
              0.8888888888888888,
              "#fdca26"
             ],
             [
              1,
              "#f0f921"
             ]
            ],
            "type": "histogram2dcontour"
           }
          ],
          "mesh3d": [
           {
            "colorbar": {
             "outlinewidth": 0,
             "ticks": ""
            },
            "type": "mesh3d"
           }
          ],
          "parcoords": [
           {
            "line": {
             "colorbar": {
              "outlinewidth": 0,
              "ticks": ""
             }
            },
            "type": "parcoords"
           }
          ],
          "pie": [
           {
            "automargin": true,
            "type": "pie"
           }
          ],
          "scatter": [
           {
            "fillpattern": {
             "fillmode": "overlay",
             "size": 10,
             "solidity": 0.2
            },
            "type": "scatter"
           }
          ],
          "scatter3d": [
           {
            "line": {
             "colorbar": {
              "outlinewidth": 0,
              "ticks": ""
             }
            },
            "marker": {
             "colorbar": {
              "outlinewidth": 0,
              "ticks": ""
             }
            },
            "type": "scatter3d"
           }
          ],
          "scattercarpet": [
           {
            "marker": {
             "colorbar": {
              "outlinewidth": 0,
              "ticks": ""
             }
            },
            "type": "scattercarpet"
           }
          ],
          "scattergeo": [
           {
            "marker": {
             "colorbar": {
              "outlinewidth": 0,
              "ticks": ""
             }
            },
            "type": "scattergeo"
           }
          ],
          "scattergl": [
           {
            "marker": {
             "colorbar": {
              "outlinewidth": 0,
              "ticks": ""
             }
            },
            "type": "scattergl"
           }
          ],
          "scattermapbox": [
           {
            "marker": {
             "colorbar": {
              "outlinewidth": 0,
              "ticks": ""
             }
            },
            "type": "scattermapbox"
           }
          ],
          "scatterpolar": [
           {
            "marker": {
             "colorbar": {
              "outlinewidth": 0,
              "ticks": ""
             }
            },
            "type": "scatterpolar"
           }
          ],
          "scatterpolargl": [
           {
            "marker": {
             "colorbar": {
              "outlinewidth": 0,
              "ticks": ""
             }
            },
            "type": "scatterpolargl"
           }
          ],
          "scatterternary": [
           {
            "marker": {
             "colorbar": {
              "outlinewidth": 0,
              "ticks": ""
             }
            },
            "type": "scatterternary"
           }
          ],
          "surface": [
           {
            "colorbar": {
             "outlinewidth": 0,
             "ticks": ""
            },
            "colorscale": [
             [
              0,
              "#0d0887"
             ],
             [
              0.1111111111111111,
              "#46039f"
             ],
             [
              0.2222222222222222,
              "#7201a8"
             ],
             [
              0.3333333333333333,
              "#9c179e"
             ],
             [
              0.4444444444444444,
              "#bd3786"
             ],
             [
              0.5555555555555556,
              "#d8576b"
             ],
             [
              0.6666666666666666,
              "#ed7953"
             ],
             [
              0.7777777777777778,
              "#fb9f3a"
             ],
             [
              0.8888888888888888,
              "#fdca26"
             ],
             [
              1,
              "#f0f921"
             ]
            ],
            "type": "surface"
           }
          ],
          "table": [
           {
            "cells": {
             "fill": {
              "color": "#EBF0F8"
             },
             "line": {
              "color": "white"
             }
            },
            "header": {
             "fill": {
              "color": "#C8D4E3"
             },
             "line": {
              "color": "white"
             }
            },
            "type": "table"
           }
          ]
         },
         "layout": {
          "annotationdefaults": {
           "arrowcolor": "#2a3f5f",
           "arrowhead": 0,
           "arrowwidth": 1
          },
          "autotypenumbers": "strict",
          "coloraxis": {
           "colorbar": {
            "outlinewidth": 0,
            "ticks": ""
           }
          },
          "colorscale": {
           "diverging": [
            [
             0,
             "#8e0152"
            ],
            [
             0.1,
             "#c51b7d"
            ],
            [
             0.2,
             "#de77ae"
            ],
            [
             0.3,
             "#f1b6da"
            ],
            [
             0.4,
             "#fde0ef"
            ],
            [
             0.5,
             "#f7f7f7"
            ],
            [
             0.6,
             "#e6f5d0"
            ],
            [
             0.7,
             "#b8e186"
            ],
            [
             0.8,
             "#7fbc41"
            ],
            [
             0.9,
             "#4d9221"
            ],
            [
             1,
             "#276419"
            ]
           ],
           "sequential": [
            [
             0,
             "#0d0887"
            ],
            [
             0.1111111111111111,
             "#46039f"
            ],
            [
             0.2222222222222222,
             "#7201a8"
            ],
            [
             0.3333333333333333,
             "#9c179e"
            ],
            [
             0.4444444444444444,
             "#bd3786"
            ],
            [
             0.5555555555555556,
             "#d8576b"
            ],
            [
             0.6666666666666666,
             "#ed7953"
            ],
            [
             0.7777777777777778,
             "#fb9f3a"
            ],
            [
             0.8888888888888888,
             "#fdca26"
            ],
            [
             1,
             "#f0f921"
            ]
           ],
           "sequentialminus": [
            [
             0,
             "#0d0887"
            ],
            [
             0.1111111111111111,
             "#46039f"
            ],
            [
             0.2222222222222222,
             "#7201a8"
            ],
            [
             0.3333333333333333,
             "#9c179e"
            ],
            [
             0.4444444444444444,
             "#bd3786"
            ],
            [
             0.5555555555555556,
             "#d8576b"
            ],
            [
             0.6666666666666666,
             "#ed7953"
            ],
            [
             0.7777777777777778,
             "#fb9f3a"
            ],
            [
             0.8888888888888888,
             "#fdca26"
            ],
            [
             1,
             "#f0f921"
            ]
           ]
          },
          "colorway": [
           "#636efa",
           "#EF553B",
           "#00cc96",
           "#ab63fa",
           "#FFA15A",
           "#19d3f3",
           "#FF6692",
           "#B6E880",
           "#FF97FF",
           "#FECB52"
          ],
          "font": {
           "color": "#2a3f5f"
          },
          "geo": {
           "bgcolor": "white",
           "lakecolor": "white",
           "landcolor": "#E5ECF6",
           "showlakes": true,
           "showland": true,
           "subunitcolor": "white"
          },
          "hoverlabel": {
           "align": "left"
          },
          "hovermode": "closest",
          "mapbox": {
           "style": "light"
          },
          "paper_bgcolor": "white",
          "plot_bgcolor": "#E5ECF6",
          "polar": {
           "angularaxis": {
            "gridcolor": "white",
            "linecolor": "white",
            "ticks": ""
           },
           "bgcolor": "#E5ECF6",
           "radialaxis": {
            "gridcolor": "white",
            "linecolor": "white",
            "ticks": ""
           }
          },
          "scene": {
           "xaxis": {
            "backgroundcolor": "#E5ECF6",
            "gridcolor": "white",
            "gridwidth": 2,
            "linecolor": "white",
            "showbackground": true,
            "ticks": "",
            "zerolinecolor": "white"
           },
           "yaxis": {
            "backgroundcolor": "#E5ECF6",
            "gridcolor": "white",
            "gridwidth": 2,
            "linecolor": "white",
            "showbackground": true,
            "ticks": "",
            "zerolinecolor": "white"
           },
           "zaxis": {
            "backgroundcolor": "#E5ECF6",
            "gridcolor": "white",
            "gridwidth": 2,
            "linecolor": "white",
            "showbackground": true,
            "ticks": "",
            "zerolinecolor": "white"
           }
          },
          "shapedefaults": {
           "line": {
            "color": "#2a3f5f"
           }
          },
          "ternary": {
           "aaxis": {
            "gridcolor": "white",
            "linecolor": "white",
            "ticks": ""
           },
           "baxis": {
            "gridcolor": "white",
            "linecolor": "white",
            "ticks": ""
           },
           "bgcolor": "#E5ECF6",
           "caxis": {
            "gridcolor": "white",
            "linecolor": "white",
            "ticks": ""
           }
          },
          "title": {
           "x": 0.05
          },
          "xaxis": {
           "automargin": true,
           "gridcolor": "white",
           "linecolor": "white",
           "ticks": "",
           "title": {
            "standoff": 15
           },
           "zerolinecolor": "white",
           "zerolinewidth": 2
          },
          "yaxis": {
           "automargin": true,
           "gridcolor": "white",
           "linecolor": "white",
           "ticks": "",
           "title": {
            "standoff": 15
           },
           "zerolinecolor": "white",
           "zerolinewidth": 2
          }
         }
        },
        "xaxis": {
         "anchor": "y",
         "domain": [
          0,
          1
         ],
         "title": {
          "text": "web_id"
         }
        },
        "yaxis": {
         "anchor": "x",
         "domain": [
          0,
          1
         ],
         "title": {
          "text": "neutral"
         }
        }
       }
      },
      "text/html": [
       "<div>                            <div id=\"48f6a79e-1dcf-4489-bafa-7a9539f8e38f\" class=\"plotly-graph-div\" style=\"height:525px; width:100%;\"></div>            <script type=\"text/javascript\">                require([\"plotly\"], function(Plotly) {                    window.PLOTLYENV=window.PLOTLYENV || {};                                    if (document.getElementById(\"48f6a79e-1dcf-4489-bafa-7a9539f8e38f\")) {                    Plotly.newPlot(                        \"48f6a79e-1dcf-4489-bafa-7a9539f8e38f\",                        [{\"hovertemplate\":\"web_id=%{x}<br>neutral=%{marker.color}<extra></extra>\",\"legendgroup\":\"\",\"marker\":{\"color\":[0.724,0.708,0.699,0.677,0.727,0.829,0.754,0.863,0.776,0.831,0.752,0.758,0.77,0.869,0.715,0.752,0.824,1.0,0.819,0.872,0.767,0.817,0.768,0.764,0.81,0.83,0.8,0.767,0.802,0.804,0.794,0.799,0.805,0.774,0.862,0.823,0.758,0.825,0.785,0.795,0.742,0.905,0.796,0.809,0.751,0.784,0.833,0.8,0.763,0.759,0.711,0.78,0.799,0.72,0.697,0.768,0.872,0.81,0.783,0.858,0.822,0.902,0.745,0.807,0.85,0.832,0.861,0.823,0.865,0.818,0.842,0.842,0.842,0.751,0.751,0.829,0.829,0.819,0.819,0.779,0.779,0.809,0.809,0.825,0.825,0.772,0.772,0.745,0.745,0.847,0.847,0.783,0.783,0.765,0.839,0.808,0.719,0.761,0.763,0.679,0.718,0.747,0.748,0.764,0.793,0.417,0.806,0.756,0.746,0.735,0.775,0.803,0.417],\"coloraxis\":\"coloraxis\",\"symbol\":\"circle\"},\"mode\":\"markers\",\"name\":\"\",\"orientation\":\"v\",\"showlegend\":false,\"x\":[0,1,2,3,4,5,6,7,8,9,10,11,12,13,14,15,16,17,18,19,20,21,22,23,24,25,26,27,28,29,30,31,32,33,34,35,36,37,38,39,40,41,42,43,44,45,46,47,48,49,50,51,52,53,54,55,56,57,58,59,60,61,62,63,64,65,66,67,68,69,70,71,72,73,74,75,76,77,78,79,80,81,82,83,84,85,86,87,88,89,90,91,92,93,94,95,96,97,98,99,100,101,102,103,104,105,106,107,108,109,110,111,112],\"xaxis\":\"x\",\"y\":[0.724,0.708,0.699,0.677,0.727,0.829,0.754,0.863,0.776,0.831,0.752,0.758,0.77,0.869,0.715,0.752,0.824,1.0,0.819,0.872,0.767,0.817,0.768,0.764,0.81,0.83,0.8,0.767,0.802,0.804,0.794,0.799,0.805,0.774,0.862,0.823,0.758,0.825,0.785,0.795,0.742,0.905,0.796,0.809,0.751,0.784,0.833,0.8,0.763,0.759,0.711,0.78,0.799,0.72,0.697,0.768,0.872,0.81,0.783,0.858,0.822,0.902,0.745,0.807,0.85,0.832,0.861,0.823,0.865,0.818,0.842,0.842,0.842,0.751,0.751,0.829,0.829,0.819,0.819,0.779,0.779,0.809,0.809,0.825,0.825,0.772,0.772,0.745,0.745,0.847,0.847,0.783,0.783,0.765,0.839,0.808,0.719,0.761,0.763,0.679,0.718,0.747,0.748,0.764,0.793,0.417,0.806,0.756,0.746,0.735,0.775,0.803,0.417],\"yaxis\":\"y\",\"type\":\"scatter\"}],                        {\"template\":{\"data\":{\"histogram2dcontour\":[{\"type\":\"histogram2dcontour\",\"colorbar\":{\"outlinewidth\":0,\"ticks\":\"\"},\"colorscale\":[[0.0,\"#0d0887\"],[0.1111111111111111,\"#46039f\"],[0.2222222222222222,\"#7201a8\"],[0.3333333333333333,\"#9c179e\"],[0.4444444444444444,\"#bd3786\"],[0.5555555555555556,\"#d8576b\"],[0.6666666666666666,\"#ed7953\"],[0.7777777777777778,\"#fb9f3a\"],[0.8888888888888888,\"#fdca26\"],[1.0,\"#f0f921\"]]}],\"choropleth\":[{\"type\":\"choropleth\",\"colorbar\":{\"outlinewidth\":0,\"ticks\":\"\"}}],\"histogram2d\":[{\"type\":\"histogram2d\",\"colorbar\":{\"outlinewidth\":0,\"ticks\":\"\"},\"colorscale\":[[0.0,\"#0d0887\"],[0.1111111111111111,\"#46039f\"],[0.2222222222222222,\"#7201a8\"],[0.3333333333333333,\"#9c179e\"],[0.4444444444444444,\"#bd3786\"],[0.5555555555555556,\"#d8576b\"],[0.6666666666666666,\"#ed7953\"],[0.7777777777777778,\"#fb9f3a\"],[0.8888888888888888,\"#fdca26\"],[1.0,\"#f0f921\"]]}],\"heatmap\":[{\"type\":\"heatmap\",\"colorbar\":{\"outlinewidth\":0,\"ticks\":\"\"},\"colorscale\":[[0.0,\"#0d0887\"],[0.1111111111111111,\"#46039f\"],[0.2222222222222222,\"#7201a8\"],[0.3333333333333333,\"#9c179e\"],[0.4444444444444444,\"#bd3786\"],[0.5555555555555556,\"#d8576b\"],[0.6666666666666666,\"#ed7953\"],[0.7777777777777778,\"#fb9f3a\"],[0.8888888888888888,\"#fdca26\"],[1.0,\"#f0f921\"]]}],\"heatmapgl\":[{\"type\":\"heatmapgl\",\"colorbar\":{\"outlinewidth\":0,\"ticks\":\"\"},\"colorscale\":[[0.0,\"#0d0887\"],[0.1111111111111111,\"#46039f\"],[0.2222222222222222,\"#7201a8\"],[0.3333333333333333,\"#9c179e\"],[0.4444444444444444,\"#bd3786\"],[0.5555555555555556,\"#d8576b\"],[0.6666666666666666,\"#ed7953\"],[0.7777777777777778,\"#fb9f3a\"],[0.8888888888888888,\"#fdca26\"],[1.0,\"#f0f921\"]]}],\"contourcarpet\":[{\"type\":\"contourcarpet\",\"colorbar\":{\"outlinewidth\":0,\"ticks\":\"\"}}],\"contour\":[{\"type\":\"contour\",\"colorbar\":{\"outlinewidth\":0,\"ticks\":\"\"},\"colorscale\":[[0.0,\"#0d0887\"],[0.1111111111111111,\"#46039f\"],[0.2222222222222222,\"#7201a8\"],[0.3333333333333333,\"#9c179e\"],[0.4444444444444444,\"#bd3786\"],[0.5555555555555556,\"#d8576b\"],[0.6666666666666666,\"#ed7953\"],[0.7777777777777778,\"#fb9f3a\"],[0.8888888888888888,\"#fdca26\"],[1.0,\"#f0f921\"]]}],\"surface\":[{\"type\":\"surface\",\"colorbar\":{\"outlinewidth\":0,\"ticks\":\"\"},\"colorscale\":[[0.0,\"#0d0887\"],[0.1111111111111111,\"#46039f\"],[0.2222222222222222,\"#7201a8\"],[0.3333333333333333,\"#9c179e\"],[0.4444444444444444,\"#bd3786\"],[0.5555555555555556,\"#d8576b\"],[0.6666666666666666,\"#ed7953\"],[0.7777777777777778,\"#fb9f3a\"],[0.8888888888888888,\"#fdca26\"],[1.0,\"#f0f921\"]]}],\"mesh3d\":[{\"type\":\"mesh3d\",\"colorbar\":{\"outlinewidth\":0,\"ticks\":\"\"}}],\"scatter\":[{\"fillpattern\":{\"fillmode\":\"overlay\",\"size\":10,\"solidity\":0.2},\"type\":\"scatter\"}],\"parcoords\":[{\"type\":\"parcoords\",\"line\":{\"colorbar\":{\"outlinewidth\":0,\"ticks\":\"\"}}}],\"scatterpolargl\":[{\"type\":\"scatterpolargl\",\"marker\":{\"colorbar\":{\"outlinewidth\":0,\"ticks\":\"\"}}}],\"bar\":[{\"error_x\":{\"color\":\"#2a3f5f\"},\"error_y\":{\"color\":\"#2a3f5f\"},\"marker\":{\"line\":{\"color\":\"#E5ECF6\",\"width\":0.5},\"pattern\":{\"fillmode\":\"overlay\",\"size\":10,\"solidity\":0.2}},\"type\":\"bar\"}],\"scattergeo\":[{\"type\":\"scattergeo\",\"marker\":{\"colorbar\":{\"outlinewidth\":0,\"ticks\":\"\"}}}],\"scatterpolar\":[{\"type\":\"scatterpolar\",\"marker\":{\"colorbar\":{\"outlinewidth\":0,\"ticks\":\"\"}}}],\"histogram\":[{\"marker\":{\"pattern\":{\"fillmode\":\"overlay\",\"size\":10,\"solidity\":0.2}},\"type\":\"histogram\"}],\"scattergl\":[{\"type\":\"scattergl\",\"marker\":{\"colorbar\":{\"outlinewidth\":0,\"ticks\":\"\"}}}],\"scatter3d\":[{\"type\":\"scatter3d\",\"line\":{\"colorbar\":{\"outlinewidth\":0,\"ticks\":\"\"}},\"marker\":{\"colorbar\":{\"outlinewidth\":0,\"ticks\":\"\"}}}],\"scattermapbox\":[{\"type\":\"scattermapbox\",\"marker\":{\"colorbar\":{\"outlinewidth\":0,\"ticks\":\"\"}}}],\"scatterternary\":[{\"type\":\"scatterternary\",\"marker\":{\"colorbar\":{\"outlinewidth\":0,\"ticks\":\"\"}}}],\"scattercarpet\":[{\"type\":\"scattercarpet\",\"marker\":{\"colorbar\":{\"outlinewidth\":0,\"ticks\":\"\"}}}],\"carpet\":[{\"aaxis\":{\"endlinecolor\":\"#2a3f5f\",\"gridcolor\":\"white\",\"linecolor\":\"white\",\"minorgridcolor\":\"white\",\"startlinecolor\":\"#2a3f5f\"},\"baxis\":{\"endlinecolor\":\"#2a3f5f\",\"gridcolor\":\"white\",\"linecolor\":\"white\",\"minorgridcolor\":\"white\",\"startlinecolor\":\"#2a3f5f\"},\"type\":\"carpet\"}],\"table\":[{\"cells\":{\"fill\":{\"color\":\"#EBF0F8\"},\"line\":{\"color\":\"white\"}},\"header\":{\"fill\":{\"color\":\"#C8D4E3\"},\"line\":{\"color\":\"white\"}},\"type\":\"table\"}],\"barpolar\":[{\"marker\":{\"line\":{\"color\":\"#E5ECF6\",\"width\":0.5},\"pattern\":{\"fillmode\":\"overlay\",\"size\":10,\"solidity\":0.2}},\"type\":\"barpolar\"}],\"pie\":[{\"automargin\":true,\"type\":\"pie\"}]},\"layout\":{\"autotypenumbers\":\"strict\",\"colorway\":[\"#636efa\",\"#EF553B\",\"#00cc96\",\"#ab63fa\",\"#FFA15A\",\"#19d3f3\",\"#FF6692\",\"#B6E880\",\"#FF97FF\",\"#FECB52\"],\"font\":{\"color\":\"#2a3f5f\"},\"hovermode\":\"closest\",\"hoverlabel\":{\"align\":\"left\"},\"paper_bgcolor\":\"white\",\"plot_bgcolor\":\"#E5ECF6\",\"polar\":{\"bgcolor\":\"#E5ECF6\",\"angularaxis\":{\"gridcolor\":\"white\",\"linecolor\":\"white\",\"ticks\":\"\"},\"radialaxis\":{\"gridcolor\":\"white\",\"linecolor\":\"white\",\"ticks\":\"\"}},\"ternary\":{\"bgcolor\":\"#E5ECF6\",\"aaxis\":{\"gridcolor\":\"white\",\"linecolor\":\"white\",\"ticks\":\"\"},\"baxis\":{\"gridcolor\":\"white\",\"linecolor\":\"white\",\"ticks\":\"\"},\"caxis\":{\"gridcolor\":\"white\",\"linecolor\":\"white\",\"ticks\":\"\"}},\"coloraxis\":{\"colorbar\":{\"outlinewidth\":0,\"ticks\":\"\"}},\"colorscale\":{\"sequential\":[[0.0,\"#0d0887\"],[0.1111111111111111,\"#46039f\"],[0.2222222222222222,\"#7201a8\"],[0.3333333333333333,\"#9c179e\"],[0.4444444444444444,\"#bd3786\"],[0.5555555555555556,\"#d8576b\"],[0.6666666666666666,\"#ed7953\"],[0.7777777777777778,\"#fb9f3a\"],[0.8888888888888888,\"#fdca26\"],[1.0,\"#f0f921\"]],\"sequentialminus\":[[0.0,\"#0d0887\"],[0.1111111111111111,\"#46039f\"],[0.2222222222222222,\"#7201a8\"],[0.3333333333333333,\"#9c179e\"],[0.4444444444444444,\"#bd3786\"],[0.5555555555555556,\"#d8576b\"],[0.6666666666666666,\"#ed7953\"],[0.7777777777777778,\"#fb9f3a\"],[0.8888888888888888,\"#fdca26\"],[1.0,\"#f0f921\"]],\"diverging\":[[0,\"#8e0152\"],[0.1,\"#c51b7d\"],[0.2,\"#de77ae\"],[0.3,\"#f1b6da\"],[0.4,\"#fde0ef\"],[0.5,\"#f7f7f7\"],[0.6,\"#e6f5d0\"],[0.7,\"#b8e186\"],[0.8,\"#7fbc41\"],[0.9,\"#4d9221\"],[1,\"#276419\"]]},\"xaxis\":{\"gridcolor\":\"white\",\"linecolor\":\"white\",\"ticks\":\"\",\"title\":{\"standoff\":15},\"zerolinecolor\":\"white\",\"automargin\":true,\"zerolinewidth\":2},\"yaxis\":{\"gridcolor\":\"white\",\"linecolor\":\"white\",\"ticks\":\"\",\"title\":{\"standoff\":15},\"zerolinecolor\":\"white\",\"automargin\":true,\"zerolinewidth\":2},\"scene\":{\"xaxis\":{\"backgroundcolor\":\"#E5ECF6\",\"gridcolor\":\"white\",\"linecolor\":\"white\",\"showbackground\":true,\"ticks\":\"\",\"zerolinecolor\":\"white\",\"gridwidth\":2},\"yaxis\":{\"backgroundcolor\":\"#E5ECF6\",\"gridcolor\":\"white\",\"linecolor\":\"white\",\"showbackground\":true,\"ticks\":\"\",\"zerolinecolor\":\"white\",\"gridwidth\":2},\"zaxis\":{\"backgroundcolor\":\"#E5ECF6\",\"gridcolor\":\"white\",\"linecolor\":\"white\",\"showbackground\":true,\"ticks\":\"\",\"zerolinecolor\":\"white\",\"gridwidth\":2}},\"shapedefaults\":{\"line\":{\"color\":\"#2a3f5f\"}},\"annotationdefaults\":{\"arrowcolor\":\"#2a3f5f\",\"arrowhead\":0,\"arrowwidth\":1},\"geo\":{\"bgcolor\":\"white\",\"landcolor\":\"#E5ECF6\",\"subunitcolor\":\"white\",\"showland\":true,\"showlakes\":true,\"lakecolor\":\"white\"},\"title\":{\"x\":0.05},\"mapbox\":{\"style\":\"light\"}}},\"xaxis\":{\"anchor\":\"y\",\"domain\":[0.0,1.0],\"title\":{\"text\":\"web_id\"}},\"yaxis\":{\"anchor\":\"x\",\"domain\":[0.0,1.0],\"title\":{\"text\":\"neutral\"}},\"coloraxis\":{\"colorbar\":{\"title\":{\"text\":\"neutral\"}},\"colorscale\":[[0.0,\"rgb(75, 41, 145)\"],[0.16666666666666666,\"rgb(135, 44, 162)\"],[0.3333333333333333,\"rgb(192, 54, 157)\"],[0.5,\"rgb(234, 79, 136)\"],[0.6666666666666666,\"rgb(250, 120, 118)\"],[0.8333333333333334,\"rgb(246, 169, 122)\"],[1.0,\"rgb(237, 217, 163)\"]]},\"legend\":{\"tracegroupgap\":0},\"margin\":{\"t\":60}},                        {\"responsive\": true}                    ).then(function(){\n",
       "                            \n",
       "var gd = document.getElementById('48f6a79e-1dcf-4489-bafa-7a9539f8e38f');\n",
       "var x = new MutationObserver(function (mutations, observer) {{\n",
       "        var display = window.getComputedStyle(gd).display;\n",
       "        if (!display || display === 'none') {{\n",
       "            console.log([gd, 'removed!']);\n",
       "            Plotly.purge(gd);\n",
       "            observer.disconnect();\n",
       "        }}\n",
       "}});\n",
       "\n",
       "// Listen for the removal of the full notebook cells\n",
       "var notebookContainer = gd.closest('#notebook-container');\n",
       "if (notebookContainer) {{\n",
       "    x.observe(notebookContainer, {childList: true});\n",
       "}}\n",
       "\n",
       "// Listen for the clearing of the current output cell\n",
       "var outputEl = gd.closest('.output');\n",
       "if (outputEl) {{\n",
       "    x.observe(outputEl, {childList: true});\n",
       "}}\n",
       "\n",
       "                        })                };                });            </script>        </div>"
      ]
     },
     "metadata": {},
     "output_type": "display_data"
    }
   ],
   "source": [
    "fig = px.scatter(dataFrame, x= 'web_id', y= 'neutral', color = 'neutral', color_continuous_scale=px.colors.sequential.Agsunset)\n",
    "fig.show()"
   ]
  },
  {
   "cell_type": "markdown",
   "id": "4664ddd9",
   "metadata": {},
   "source": [
    "### Finally I save my new data in a new CSV"
   ]
  },
  {
   "cell_type": "code",
   "execution_count": 25,
   "id": "5fc187fb",
   "metadata": {},
   "outputs": [],
   "source": [
    "#dataFrame.to_csv('Sentiment_per_link_data.csv')"
   ]
  },
  {
   "cell_type": "code",
   "execution_count": null,
   "id": "b739617b",
   "metadata": {},
   "outputs": [],
   "source": []
  }
 ],
 "metadata": {
  "kernelspec": {
   "display_name": "Python 3 (ipykernel)",
   "language": "python",
   "name": "python3"
  },
  "language_info": {
   "codemirror_mode": {
    "name": "ipython",
    "version": 3
   },
   "file_extension": ".py",
   "mimetype": "text/x-python",
   "name": "python",
   "nbconvert_exporter": "python",
   "pygments_lexer": "ipython3",
   "version": "3.9.0"
  }
 },
 "nbformat": 4,
 "nbformat_minor": 5
}
